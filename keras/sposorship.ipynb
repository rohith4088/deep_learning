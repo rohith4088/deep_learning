{
 "cells": [
  {
   "cell_type": "code",
   "execution_count": null,
   "metadata": {},
   "outputs": [],
   "source": [
    "import smtplib \n",
    "\n",
    "try:\n",
    "    # Set sender mail, receivers mail and messages\n",
    "    sender_mail = \"sender@domain.com\"\n",
    "    receivers_mail = ['receiver1@domain', 'receiver2@domain']\n",
    "    to = \", \".join(receivers_mail)\n",
    "    message = \"\"\"Subject: Python testing mail\n",
    "\n",
    "            This mail is sent using Python SMTP.\"\"\"\n",
    "    \n",
    "    # Make SMTP connection\n",
    "    obj = smtplib.SMTP('smtp.gmail.com', 587) \n",
    "  \n",
    "    # secure with TLS\n",
    "    obj.starttls() \n",
    "  \n",
    "    # Mail Server Authentication\n",
    "    obj.login(USRENAME, PASSWORD) \n",
    "  \n",
    "    # sending the mail \n",
    "    obj.sendmail(sender_mail, to, message) \n",
    "    print(\"Mail sent successfully.\")\n",
    "    \n",
    "    # terminating the session \n",
    "    obj.quit()\n",
    "    \n",
    "except Exception:\n",
    "    print(\"Mail delivery failed.\")"
   ]
  },
  {
   "cell_type": "code",
   "execution_count": null,
   "metadata": {},
   "outputs": [],
   "source": []
  },
  {
   "cell_type": "code",
   "execution_count": 21,
   "metadata": {},
   "outputs": [
    {
     "name": "stdout",
     "output_type": "stream",
     "text": [
      "[['communication@in.nestle'], ['joshi@mdlz.com'], ['Sule@danone.com'], ['rushi@kellogg.com'], ['cs@parle.biz'], ['info@redbull.com'], ['dutta@jublfood.com'], ['press@subway.com'], ['customerserviceindia@mccain.com'], ['inf@indonissin.com'], ['feedback@barbequenation.com'], ['care@unilever.com'], ['info@kohinoorfoods.in'], ['amuldairy@amuldairy.com'], ['gcmmf@amul.coop'], ['customercare@krblindia.com'], ['services@motherdairy.com'], ['eshop@cafecoffeeday.com'], ['care@unilever.com'], ['udyogviharpindballuchi@gmail.com'], ['letstalk@chaayos.com'], ['contact@biryaniblues.com'], ['wecare@bisleri.co'], ['info@zomato.com']]\n"
     ]
    }
   ],
   "source": [
    "import re\n",
    "l = []\n",
    "try:\n",
    "    file = open(\"Email IDs for Sponsorships (1).txt\")\n",
    "    for line in file:\n",
    "        line = line.strip()\n",
    "        emails = re.findall(\"[0-9a-zA-z]+@[0-9a-zA-z]+\\.[0-9a-zA-z]+\", line)\n",
    "        if(len(emails) > 0):\n",
    "            \n",
    "            l.append(emails)\n",
    "\n",
    " \n",
    "except FileNotFoundError as e:\n",
    "    print(e)\n",
    "\n",
    "print(l)"
   ]
  },
  {
   "cell_type": "code",
   "execution_count": 28,
   "metadata": {},
   "outputs": [
    {
     "data": {
      "text/plain": [
       "'communication@in.nestle, joshi@mdlz.com, Sule@danone.com, rushi@kellogg.com, cs@parle.biz, info@redbull.com, dutta@jublfood.com, press@subway.com, customerserviceindia@mccain.com, inf@indonissin.com, feedback@barbequenation.com, care@unilever.com, info@kohinoorfoods.in, amuldairy@amuldairy.com, gcmmf@amul.coop, customercare@krblindia.com, services@motherdairy.com, eshop@cafecoffeeday.com, care@unilever.com, udyogviharpindballuchi@gmail.com, letstalk@chaayos.com, contact@biryaniblues.com, wecare@bisleri.co, info@zomato.com'"
      ]
     },
     "execution_count": 28,
     "metadata": {},
     "output_type": "execute_result"
    }
   ],
   "source": [
    "text = \"[['communication@in.nestle'], ['joshi@mdlz.com'], ['Sule@danone.com'], ['rushi@kellogg.com'], ['cs@parle.biz'], ['info@redbull.com'], ['dutta@jublfood.com'], ['press@subway.com'], ['customerserviceindia@mccain.com'], ['inf@indonissin.com'], ['feedback@barbequenation.com'], ['care@unilever.com'], ['info@kohinoorfoods.in'], ['amuldairy@amuldairy.com'], ['gcmmf@amul.coop'], ['customercare@krblindia.com'], ['services@motherdairy.com'], ['eshop@cafecoffeeday.com'], ['care@unilever.com'], ['udyogviharpindballuchi@gmail.com'], ['letstalk@chaayos.com'], ['contact@biryaniblues.com'], ['wecare@bisleri.co'], ['info@zomato.com']]\"\n",
    "text.replace(\"[\", \"\").replace(\"]\",\"\").replace(\"'\",\"\")\n"
   ]
  },
  {
   "cell_type": "code",
   "execution_count": null,
   "metadata": {},
   "outputs": [],
   "source": []
  }
 ],
 "metadata": {
  "kernelspec": {
   "display_name": "Python 3",
   "language": "python",
   "name": "python3"
  },
  "language_info": {
   "codemirror_mode": {
    "name": "ipython",
    "version": 3
   },
   "file_extension": ".py",
   "mimetype": "text/x-python",
   "name": "python",
   "nbconvert_exporter": "python",
   "pygments_lexer": "ipython3",
   "version": "3.8.17"
  },
  "orig_nbformat": 4
 },
 "nbformat": 4,
 "nbformat_minor": 2
}
