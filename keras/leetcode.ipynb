{
 "cells": [
  {
   "cell_type": "code",
   "execution_count": 1,
   "metadata": {},
   "outputs": [
    {
     "name": "stdout",
     "output_type": "stream",
     "text": [
      "a p b q c r "
     ]
    }
   ],
   "source": [
    "#You are given two strings word1 and word2.\n",
    "# Merge the strings by adding letters in alternating order, starting with word1. If a string is longer than the other, \n",
    "# append the additional letters onto the end of the merged string.\n",
    "\n",
    "word1 = \"abc\"\n",
    "word2 = \"pqr\"\n",
    "for word1,word2 in zip(word1,word2):\n",
    "    print(word1,word2,end = \" \")\n"
   ]
  },
  {
   "cell_type": "code",
   "execution_count": 13,
   "metadata": {},
   "outputs": [
    {
     "name": "stdout",
     "output_type": "stream",
     "text": [
      "2\n"
     ]
    }
   ],
   "source": [
    "d = {1:\"key1\",1:\"key1\",2:\"key2\"}\n",
    "print(len(d.values()))"
   ]
  },
  {
   "cell_type": "code",
   "execution_count": 14,
   "metadata": {},
   "outputs": [
    {
     "name": "stdout",
     "output_type": "stream",
     "text": [
      "r\n"
     ]
    }
   ],
   "source": [
    "s = \"rohith\"\n",
    "print(s[0])"
   ]
  },
  {
   "cell_type": "code",
   "execution_count": 15,
   "metadata": {},
   "outputs": [
    {
     "name": "stdout",
     "output_type": "stream",
     "text": [
      "true\n",
      "False\n"
     ]
    }
   ],
   "source": [
    "l = [\"rohith\"]\n",
    "if l[0] == \"rohith\":\n",
    "    print(\"true\")\n",
    "else:\n",
    "    print(\"false\")\n",
    "p = [\"ROHITH\"]\n",
    "if \"ROHITH\" not in p[0]:\n",
    "    print(True)\n",
    "else:\n",
    "    print(False)"
   ]
  },
  {
   "cell_type": "code",
   "execution_count": 1,
   "metadata": {},
   "outputs": [
    {
     "name": "stdout",
     "output_type": "stream",
     "text": [
      "TEMPERATURE CONVERTER\n",
      "1. Celsius to Farenheit\n",
      "2.Farenheit to Celsius\n",
      "0.0 degrees Celsius is 32.0 degrees Farenheit\n"
     ]
    }
   ],
   "source": [
    "inp1=input(\"Enter the unit of the temperature(C,c,F,f): \")\n",
    "inp2=float(input(\"Enter the temperature value: \"))\n",
    "\n",
    "print(\"TEMPERATURE CONVERTER\")\n",
    "print(\"1. Celsius to Farenheit\")\n",
    "print(\"2.Farenheit to Celsius\")\n",
    "ch=int(input(\"Enter your choice: \"))\n",
    "if(ch==1 and (inp1!=\"f\" or inp1!=\"F\")):\n",
    "    res=((9*inp2)/5)+32\n",
    "    print(\"{} degrees Celsius is {} degrees Farenheit\".format(inp2,res))\n",
    "    \n",
    "    "
   ]
  },
  {
   "cell_type": "code",
   "execution_count": 29,
   "metadata": {},
   "outputs": [
    {
     "name": "stdout",
     "output_type": "stream",
     "text": [
      "apbqcrds\n"
     ]
    }
   ],
   "source": [
    "import itertools\n",
    "word1 = \"abcd\"\n",
    "word2 = \"pqrs\"\n",
    "print( ''.join(word1 + word2 for word1,word2 in zip(word1,word2)))\n"
   ]
  },
  {
   "cell_type": "code",
   "execution_count": 61,
   "metadata": {},
   "outputs": [
    {
     "name": "stdout",
     "output_type": "stream",
     "text": [
      "True\n"
     ]
    }
   ],
   "source": [
    "n = 121\n",
    "r = str(n)\n",
    "if r[::-1] == r:\n",
    "    print(True)\n",
    "else:\n",
    "    print(False)"
   ]
  },
  {
   "cell_type": "code",
   "execution_count": 75,
   "metadata": {},
   "outputs": [
    {
     "name": "stdout",
     "output_type": "stream",
     "text": [
      "[1, 3, 4, 5, 6, 7]\n",
      "6\n"
     ]
    }
   ],
   "source": [
    "prices = [7,1,5,3,6,4]\n",
    "for i in prices"
   ]
  },
  {
   "cell_type": "code",
   "execution_count": null,
   "metadata": {},
   "outputs": [],
   "source": [
    "prices = [7,1,5,3,6,4]\n"
   ]
  },
  {
   "cell_type": "code",
   "execution_count": 15,
   "metadata": {},
   "outputs": [
    {
     "name": "stdout",
     "output_type": "stream",
     "text": [
      "tf.Tensor([1 2], shape=(2,), dtype=int32)\n",
      "tf.Tensor(\n",
      "[[1 2]\n",
      " [3 4]], shape=(2, 2), dtype=int32)\n",
      "-------------------------------------------\n",
      "tf.Tensor(\n",
      "[[1 4]\n",
      " [3 8]], shape=(2, 2), dtype=int32)\n",
      "-----------------------------------\n",
      "tf.Tensor(\n",
      "[[3 3]\n",
      " [7 7]], shape=(2, 2), dtype=int32)\n",
      "-------------------------------------------\n",
      "tf.Tensor(\n",
      "[[2 3]\n",
      " [4 5]], shape=(2, 2), dtype=int32)\n",
      "---------------------\n",
      "1\n",
      "<dtype: 'int32'>\n",
      "tf.Tensor(\n",
      "[[1 0]\n",
      " [3 0]], shape=(2, 2), dtype=int32)\n"
     ]
    }
   ],
   "source": [
    "import tensorflow as tf\n",
    "import keras\n",
    "from keras import backend as k\n",
    "rank_one_tensor = tf.constant([1,2])\n",
    "print(rank_one_tensor)\n",
    "rank_two_tensor =tf.constant([[1,2],\n",
    "                              [3,4]])\n",
    "rank_two_tensor2 = tf.constant([[1,1],\n",
    "                                [1,1]])\n",
    "print(rank_two_tensor)\n",
    "print(\"-------------------------------------------\")\n",
    "print(rank_one_tensor*rank_two_tensor)#element wise multiplication\n",
    "print(\"-----------------------------------\")\n",
    "print(rank_two_tensor@rank_two_tensor2)#matmultiply\n",
    "print(\"-------------------------------------------\")\n",
    "print(rank_two_tensor + rank_two_tensor2)#add\n",
    "print(\"---------------------\")\n",
    "print(rank_one_tensor.ndim)\n",
    "print(rank_two_tensor.dtype)\n",
    "indices = [0,2]\n",
    "res = tf.gather(rank_two_tensor,indices , axis = 1)\n",
    "print(res)\n"
   ]
  },
  {
   "cell_type": "code",
   "execution_count": 5,
   "metadata": {},
   "outputs": [
    {
     "data": {
      "text/plain": [
       "1"
      ]
     },
     "execution_count": 5,
     "metadata": {},
     "output_type": "execute_result"
    }
   ],
   "source": [
    "# import tensorflow as tf\n",
    "# len(tf.config.list_physical_devices('CPU'))"
   ]
  },
  {
   "cell_type": "code",
   "execution_count": 20,
   "metadata": {},
   "outputs": [
    {
     "name": "stdout",
     "output_type": "stream",
     "text": [
      "[1]\n",
      "[1, 3]\n",
      "[1, 3, 4]\n",
      "[1, 3, 4, 2]\n",
      "[1, 3, 4, 2, 2]\n"
     ]
    }
   ],
   "source": [
    "#intuition to find thenumber that is repeated in the array without modifying the array\n",
    "l = [1,3,4,2,2] \n",
    "memo = []\n",
    "count = 0\n",
    "for i in l :\n",
    "    memo.append(i)\n",
    "    print(memo)\n",
    "    "
   ]
  },
  {
   "cell_type": "code",
   "execution_count": null,
   "metadata": {},
   "outputs": [],
   "source": []
  }
 ],
 "metadata": {
  "kernelspec": {
   "display_name": "myenv",
   "language": "python",
   "name": "python3"
  },
  "language_info": {
   "codemirror_mode": {
    "name": "ipython",
    "version": 3
   },
   "file_extension": ".py",
   "mimetype": "text/x-python",
   "name": "python",
   "nbconvert_exporter": "python",
   "pygments_lexer": "ipython3",
   "version": "3.8.17"
  },
  "orig_nbformat": 4
 },
 "nbformat": 4,
 "nbformat_minor": 2
}
