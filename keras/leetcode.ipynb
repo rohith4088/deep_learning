{
 "cells": [
  {
   "cell_type": "code",
   "execution_count": 52,
   "metadata": {},
   "outputs": [
    {
     "name": "stdout",
     "output_type": "stream",
     "text": [
      "ap\n",
      "aq\n",
      "ar\n",
      "bp\n",
      "bq\n",
      "br\n",
      "cp\n",
      "cq\n",
      "cr\n"
     ]
    }
   ],
   "source": [
    "#You are given two strings word1 and word2.\n",
    "# Merge the strings by adding letters in alternating order, starting with word1. If a string is longer than the other, \n",
    "# append the additional letters onto the end of the merged string.\n",
    "\n",
    "word1 = \"abc\"\n",
    "word2 = \"pqr\"\n",
    "for i in word1:\n",
    "    for j in word2:\n",
    "        if not i in word2:\n",
    "            print(i+j)"
   ]
  },
  {
   "cell_type": "code",
   "execution_count": null,
   "metadata": {},
   "outputs": [],
   "source": []
  }
 ],
 "metadata": {
  "kernelspec": {
   "display_name": "myenv",
   "language": "python",
   "name": "python3"
  },
  "language_info": {
   "codemirror_mode": {
    "name": "ipython",
    "version": 3
   },
   "file_extension": ".py",
   "mimetype": "text/x-python",
   "name": "python",
   "nbconvert_exporter": "python",
   "pygments_lexer": "ipython3",
   "version": "3.9.17"
  },
  "orig_nbformat": 4
 },
 "nbformat": 4,
 "nbformat_minor": 2
}
