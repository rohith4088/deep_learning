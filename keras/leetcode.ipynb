{
 "cells": [
  {
   "cell_type": "code",
   "execution_count": 1,
   "metadata": {},
   "outputs": [
    {
     "name": "stdout",
     "output_type": "stream",
     "text": [
      "a p b q c r "
     ]
    }
   ],
   "source": [
    "#You are given two strings word1 and word2.\n",
    "# Merge the strings by adding letters in alternating order, starting with word1. If a string is longer than the other, \n",
    "# append the additional letters onto the end of the merged string.\n",
    "\n",
    "word1 = \"abc\"\n",
    "word2 = \"pqr\"\n",
    "for word1,word2 in zip(word1,word2):\n",
    "    print(word1,word2,end = \" \")\n"
   ]
  },
  {
   "cell_type": "code",
   "execution_count": 13,
   "metadata": {},
   "outputs": [
    {
     "name": "stdout",
     "output_type": "stream",
     "text": [
      "2\n"
     ]
    }
   ],
   "source": [
    "d = {1:\"key1\",1:\"key1\",2:\"key2\"}\n",
    "print(len(d.values()))"
   ]
  },
  {
   "cell_type": "code",
   "execution_count": 14,
   "metadata": {},
   "outputs": [
    {
     "name": "stdout",
     "output_type": "stream",
     "text": [
      "r\n"
     ]
    }
   ],
   "source": [
    "s = \"rohith\"\n",
    "print(s[0])"
   ]
  },
  {
   "cell_type": "code",
   "execution_count": 15,
   "metadata": {},
   "outputs": [
    {
     "name": "stdout",
     "output_type": "stream",
     "text": [
      "true\n",
      "False\n"
     ]
    }
   ],
   "source": [
    "l = [\"rohith\"]\n",
    "if l[0] == \"rohith\":\n",
    "    print(\"true\")\n",
    "else:\n",
    "    print(\"false\")\n",
    "p = [\"ROHITH\"]\n",
    "if \"ROHITH\" not in p[0]:\n",
    "    print(True)\n",
    "else:\n",
    "    print(False)"
   ]
  },
  {
   "cell_type": "code",
   "execution_count": 1,
   "metadata": {},
   "outputs": [
    {
     "name": "stdout",
     "output_type": "stream",
     "text": [
      "TEMPERATURE CONVERTER\n",
      "1. Celsius to Farenheit\n",
      "2.Farenheit to Celsius\n",
      "0.0 degrees Celsius is 32.0 degrees Farenheit\n"
     ]
    }
   ],
   "source": [
    "inp1=input(\"Enter the unit of the temperature(C,c,F,f): \")\n",
    "inp2=float(input(\"Enter the temperature value: \"))\n",
    "\n",
    "print(\"TEMPERATURE CONVERTER\")\n",
    "print(\"1. Celsius to Farenheit\")\n",
    "print(\"2.Farenheit to Celsius\")\n",
    "ch=int(input(\"Enter your choice: \"))\n",
    "if(ch==1 and (inp1!=\"f\" or inp1!=\"F\")):\n",
    "    res=((9*inp2)/5)+32\n",
    "    print(\"{} degrees Celsius is {} degrees Farenheit\".format(inp2,res))\n",
    "    \n",
    "    "
   ]
  },
  {
   "cell_type": "code",
   "execution_count": 29,
   "metadata": {},
   "outputs": [
    {
     "name": "stdout",
     "output_type": "stream",
     "text": [
      "apbqcrds\n"
     ]
    }
   ],
   "source": [
    "import itertools\n",
    "word1 = \"abcd\"\n",
    "word2 = \"pqrs\"\n",
    "print( ''.join(word1 + word2 for word1,word2 in zip(word1,word2)))\n"
   ]
  },
  {
   "cell_type": "code",
   "execution_count": 61,
   "metadata": {},
   "outputs": [
    {
     "name": "stdout",
     "output_type": "stream",
     "text": [
      "True\n"
     ]
    }
   ],
   "source": [
    "n = 121\n",
    "r = str(n)\n",
    "if r[::-1] == r:\n",
    "    print(True)\n",
    "else:\n",
    "    print(False)"
   ]
  },
  {
   "cell_type": "code",
   "execution_count": 75,
   "metadata": {},
   "outputs": [
    {
     "name": "stdout",
     "output_type": "stream",
     "text": [
      "[1, 3, 4, 5, 6, 7]\n",
      "6\n"
     ]
    }
   ],
   "source": [
    "prices = [7,1,5,3,6,4]\n",
    "for i in prices"
   ]
  },
  {
   "cell_type": "code",
   "execution_count": null,
   "metadata": {},
   "outputs": [],
   "source": []
  }
 ],
 "metadata": {
  "kernelspec": {
   "display_name": "myenv",
   "language": "python",
   "name": "python3"
  },
  "language_info": {
   "codemirror_mode": {
    "name": "ipython",
    "version": 3
   },
   "file_extension": ".py",
   "mimetype": "text/x-python",
   "name": "python",
   "nbconvert_exporter": "python",
   "pygments_lexer": "ipython3",
   "version": "3.8.17"
  },
  "orig_nbformat": 4
 },
 "nbformat": 4,
 "nbformat_minor": 2
}
