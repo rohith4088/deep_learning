{
 "cells": [
  {
   "attachments": {},
   "cell_type": "markdown",
   "metadata": {
    "datalore": {
     "hide_input_from_viewers": false,
     "hide_output_from_viewers": false,
     "node_id": "keras",
     "sheet_delimiter": true,
     "type": "MD"
    }
   },
   "source": [
    "# keras"
   ]
  },
  {
   "cell_type": "code",
   "execution_count": 2,
   "metadata": {
    "datalore": {
     "hide_input_from_viewers": false,
     "hide_output_from_viewers": false,
     "node_id": "D7T8ivrLq82GEBwG79cvyr",
     "report_properties": {
      "rowId": "FXnpD1s7STLFbdRuMP4x5x"
     },
     "type": "CODE"
    }
   },
   "outputs": [
    {
     "name": "stdout",
     "output_type": "stream",
     "text": [
      "tf.Tensor(4, shape=(), dtype=int32)\n",
      "tf.Tensor([1. 2. 3. 4.], shape=(4,), dtype=float32)\n",
      "tf.Tensor(\n",
      "[[1 2]\n",
      " [3 4]\n",
      " [6 7]], shape=(3, 2), dtype=int32)\n",
      "tf.Tensor(\n",
      "[[[ 0  1  2  3  4]\n",
      "  [ 5  6  7  8  9]]\n",
      "\n",
      " [[10 11 12 13 14]\n",
      "  [15 16 17 18 19]]\n",
      "\n",
      " [[20 21 22 23 24]\n",
      "  [25 26 27 28 29]]], shape=(3, 2, 5), dtype=int32)\n",
      "tf.Tensor(\n",
      "[[2 3]\n",
      " [4 5]], shape=(2, 2), dtype=int32)\n",
      "tf.Tensor(\n",
      "[[1 2]\n",
      " [3 4]], shape=(2, 2), dtype=int32)\n",
      "tf.Tensor(\n",
      "[[3 3]\n",
      " [7 7]], shape=(2, 2), dtype=int32)\n",
      "tf.Tensor(\n",
      "[[2 3]\n",
      " [4 5]], shape=(2, 2), dtype=int32)\n",
      "tf.Tensor(\n",
      "[[1 2]\n",
      " [3 4]], shape=(2, 2), dtype=int32)\n",
      "tf.Tensor(\n",
      "[[3 3]\n",
      " [7 7]], shape=(2, 2), dtype=int32)\n",
      "tf.Tensor(8.0, shape=(), dtype=float32)\n",
      "tf.Tensor([1 1 0], shape=(3,), dtype=int64)\n",
      "tf.Tensor(\n",
      "[[9.0880052e-04 2.4703760e-03 9.9662089e-01]\n",
      " [9.0030573e-02 2.4472848e-01 6.6524100e-01]], shape=(2, 3), dtype=float32)\n",
      "Type of every element: <dtype: 'float32'>\n",
      "Number of axes: 4\n",
      "Shape of tensor: (3, 2, 4, 5)\n",
      "Elements along axis 0 of tensor: 3\n",
      "Elements along the last axis of tensor: 5\n",
      "Total number of elements (3*2*4*5):  120\n",
      "the first row element--> tf.Tensor([1 2], shape=(2,), dtype=int32)\n",
      "Second row: [3 4]\n",
      "Second column: [2 4 7]\n",
      "Last row: [6 7]\n",
      "First item in last column: 2\n",
      "Skip the first row:\n",
      "[[3 4]\n",
      " [6 7]] \n",
      "\n",
      "<tf.RaggedTensor [[1, 2], [3, 3, 2], [4, 2, 2, 3]]>\n",
      "tf.Tensor([b'rohith' b'iss' b'a' b'good' b'boyt'], shape=(5,), dtype=string)\n"
     ]
    }
   ],
   "source": [
    " #all about tensors\n",
    "#all tensors are immutable\n",
    "#basic tensor--> called as scalar tensor which has only one value and no axes\n",
    "import tensorflow as tf\n",
    "import keras\n",
    "from keras import backend as k\n",
    "ran_0_tensor = tf.constant(4)\n",
    "print(ran_0_tensor)\n",
    "#rank one tensor has one axis and a lost of values\n",
    "rank_1_tensor = tf.constant([1,2,3,4.0])#upcasting\n",
    "print(rank_1_tensor)\n",
    "#rank two tensor\n",
    "rank_2_tensor = tf.constant([[1,2],\n",
    "                            [3,4],\n",
    "                             [6,7]])\n",
    "print(rank_2_tensor)\n",
    "#rank_3_tensor = k.placeholder(shape=(3,2,5))#3 rows with 2 tensors as one and each of the two tensors contain 5 elements\n",
    "rank_3_tensor = tf.constant([\n",
    "  [[0, 1, 2, 3, 4],\n",
    "   [5, 6, 7, 8, 9]],\n",
    "  [[10, 11, 12, 13, 14],\n",
    "   [15, 16, 17, 18, 19]],\n",
    "  [[20, 21, 22, 23, 24],\n",
    "   [25, 26, 27, 28, 29]],])\n",
    "\n",
    "print(rank_3_tensor)\n",
    "#The base tf.Tensor class requires tensors to be \"rectangular\"---that is, along each axis, every element is the same size. \n",
    "#the spealized tensors that can handle differenr shapes are called ragged and sparse tensors\n",
    "a = tf.constant([[1, 2],\n",
    "                 [3, 4]])\n",
    "b = tf.constant([[1, 1],\n",
    "                 [1, 1]]) \n",
    "print(tf.add(a,b))\n",
    "print(tf.multiply(a,b))\n",
    "print(tf.matmul(a,b))\n",
    "print(a+b)#element wise addition\n",
    "print(a*b)#element wise multiplication\n",
    "print(a@b)#matrix multiplication\n",
    "#TENSORS IN OPS \n",
    "c = tf.constant([[1.0,2.0,8.0],[5.0,6.0,7.0]])\n",
    "print(tf.reduce_max(c))# Find the largest value\n",
    "print(tf.math.argmax(c))# Find the index of the largest value\n",
    "print(tf.nn.softmax(c))# Compute the softmax\n",
    "#converaion to tensor\n",
    "tf.convert_to_tensor([1,2,4])\n",
    "\n",
    "#Shape: The length (number of elements) of each of the axes of a tensor.\n",
    "#Rank: Number of tensor axes. A scalar has rank 0, a vector has rank 1, a matrix is rank 2.\n",
    "#Axis or Dimension: A particular dimension of a tensor.\n",
    "#Size: The total number of items in the tensor, the product of the shape vector's elements.\n",
    "rank_4_tensor = tf.zeros(shape=[3,2,4,5])\n",
    "#3 is the batch size\n",
    "#2 is the width\n",
    "#4 is the height\n",
    "#5 is the number of features\n",
    "print(\"Type of every element:\", rank_4_tensor.dtype)\n",
    "print(\"Number of axes:\", rank_4_tensor.ndim)\n",
    "print(\"Shape of tensor:\", rank_4_tensor.shape)\n",
    "print(\"Elements along axis 0 of tensor:\", rank_4_tensor.shape[0])\n",
    "print(\"Elements along the last axis of tensor:\", rank_4_tensor.shape[-1])\n",
    "print(\"Total number of elements (3*2*4*5): \", tf.size(rank_4_tensor).numpy())\n",
    "#multi-axis indexing\n",
    "rank_1_tensor = tf.constant([[1,2],[3,4]])\n",
    "print(\"the first row element-->\",rank_1_tensor[0,:])\n",
    "print(\"Second row:\", rank_2_tensor[1, :].numpy())\n",
    "print(\"Second column:\", rank_2_tensor[:, 1].numpy())\n",
    "print(\"Last row:\", rank_2_tensor[-1, :].numpy())\n",
    "print(\"First item in last column:\", rank_2_tensor[0, -1].numpy())\n",
    "print(\"Skip the first row:\")\n",
    "print(rank_2_tensor[1:, :].numpy(), \"\\n\")\n",
    "#ragged tensors\n",
    "#ragged tensors enables us to use varaible length\n",
    "ragged_list = [[1,2],[3,3,2],[4,2,2,3]]\n",
    "ragged = tf.ragged.constant(ragged_list)\n",
    "print(ragged)\n",
    "#tensor and strings\n",
    "string_tensor = tf.constant([\"rohith\",\"iss\",\"a\",\"good\",\"boyt\"])\n",
    "print(string_tensor)\n",
    "#sparse tensors\n",
    "#sparse_tensor = tf.spa "
   ]
  },
  {
   "cell_type": "code",
   "execution_count": 3,
   "metadata": {
    "datalore": {
     "hide_input_from_viewers": false,
     "hide_output_from_viewers": false,
     "node_id": "fBJRWojmEADs93llNvrLcD",
     "report_properties": {
      "rowId": "7h2ATF0Kush3ujbdc7VBNp"
     },
     "type": "CODE"
    }
   },
   "outputs": [
    {
     "ename": "KeyboardInterrupt",
     "evalue": "",
     "output_type": "error",
     "traceback": [
      "\u001b[0;31m---------------------------------------------------------------------------\u001b[0m",
      "\u001b[0;31mKeyboardInterrupt\u001b[0m                         Traceback (most recent call last)",
      "Cell \u001b[0;32mIn[3], line 1\u001b[0m\n\u001b[0;32m----> 1\u001b[0m \u001b[38;5;28;01mfrom\u001b[39;00m \u001b[38;5;21;01msklearn\u001b[39;00m\u001b[38;5;21;01m.\u001b[39;00m\u001b[38;5;21;01mmodel_selection\u001b[39;00m \u001b[38;5;28;01mimport\u001b[39;00m train_test_split\n\u001b[1;32m      2\u001b[0m \u001b[38;5;28;01mfrom\u001b[39;00m \u001b[38;5;21;01msklearn\u001b[39;00m\u001b[38;5;21;01m.\u001b[39;00m\u001b[38;5;21;01mlinear_model\u001b[39;00m \u001b[38;5;28;01mimport\u001b[39;00m LinearRegression \n\u001b[1;32m      3\u001b[0m \u001b[38;5;28;01mimport\u001b[39;00m \u001b[38;5;21;01mnumpy\u001b[39;00m \u001b[38;5;28;01mas\u001b[39;00m \u001b[38;5;21;01mnp\u001b[39;00m\n",
      "File \u001b[0;32m~/gpu/env/lib/python3.8/site-packages/sklearn/__init__.py:83\u001b[0m\n\u001b[1;32m     69\u001b[0m     \u001b[38;5;66;03m# We are not importing the rest of scikit-learn during the build\u001b[39;00m\n\u001b[1;32m     70\u001b[0m     \u001b[38;5;66;03m# process, as it may not be compiled yet\u001b[39;00m\n\u001b[1;32m     71\u001b[0m \u001b[38;5;28;01melse\u001b[39;00m:\n\u001b[0;32m   (...)\u001b[0m\n\u001b[1;32m     77\u001b[0m     \u001b[38;5;66;03m# later is linked to the OpenMP runtime to make it possible to introspect\u001b[39;00m\n\u001b[1;32m     78\u001b[0m     \u001b[38;5;66;03m# it and importing it first would fail if the OpenMP dll cannot be found.\u001b[39;00m\n\u001b[1;32m     79\u001b[0m     \u001b[38;5;28;01mfrom\u001b[39;00m \u001b[38;5;21;01m.\u001b[39;00m \u001b[38;5;28;01mimport\u001b[39;00m (\n\u001b[1;32m     80\u001b[0m         __check_build,  \u001b[38;5;66;03m# noqa: F401\u001b[39;00m\n\u001b[1;32m     81\u001b[0m         _distributor_init,  \u001b[38;5;66;03m# noqa: F401\u001b[39;00m\n\u001b[1;32m     82\u001b[0m     )\n\u001b[0;32m---> 83\u001b[0m     \u001b[38;5;28;01mfrom\u001b[39;00m \u001b[38;5;21;01m.\u001b[39;00m\u001b[38;5;21;01mbase\u001b[39;00m \u001b[38;5;28;01mimport\u001b[39;00m clone\n\u001b[1;32m     84\u001b[0m     \u001b[38;5;28;01mfrom\u001b[39;00m \u001b[38;5;21;01m.\u001b[39;00m\u001b[38;5;21;01mutils\u001b[39;00m\u001b[38;5;21;01m.\u001b[39;00m\u001b[38;5;21;01m_show_versions\u001b[39;00m \u001b[38;5;28;01mimport\u001b[39;00m show_versions\n\u001b[1;32m     86\u001b[0m     __all__ \u001b[38;5;241m=\u001b[39m [\n\u001b[1;32m     87\u001b[0m         \u001b[38;5;124m\"\u001b[39m\u001b[38;5;124mcalibration\u001b[39m\u001b[38;5;124m\"\u001b[39m,\n\u001b[1;32m     88\u001b[0m         \u001b[38;5;124m\"\u001b[39m\u001b[38;5;124mcluster\u001b[39m\u001b[38;5;124m\"\u001b[39m,\n\u001b[0;32m   (...)\u001b[0m\n\u001b[1;32m    129\u001b[0m         \u001b[38;5;124m\"\u001b[39m\u001b[38;5;124mshow_versions\u001b[39m\u001b[38;5;124m\"\u001b[39m,\n\u001b[1;32m    130\u001b[0m     ]\n",
      "File \u001b[0;32m~/gpu/env/lib/python3.8/site-packages/sklearn/base.py:19\u001b[0m\n\u001b[1;32m     17\u001b[0m \u001b[38;5;28;01mfrom\u001b[39;00m \u001b[38;5;21;01m.\u001b[39;00m\u001b[38;5;21;01m_config\u001b[39;00m \u001b[38;5;28;01mimport\u001b[39;00m config_context, get_config\n\u001b[1;32m     18\u001b[0m \u001b[38;5;28;01mfrom\u001b[39;00m \u001b[38;5;21;01m.\u001b[39;00m\u001b[38;5;21;01mexceptions\u001b[39;00m \u001b[38;5;28;01mimport\u001b[39;00m InconsistentVersionWarning\n\u001b[0;32m---> 19\u001b[0m \u001b[38;5;28;01mfrom\u001b[39;00m \u001b[38;5;21;01m.\u001b[39;00m\u001b[38;5;21;01mutils\u001b[39;00m \u001b[38;5;28;01mimport\u001b[39;00m _IS_32BIT\n\u001b[1;32m     20\u001b[0m \u001b[38;5;28;01mfrom\u001b[39;00m \u001b[38;5;21;01m.\u001b[39;00m\u001b[38;5;21;01mutils\u001b[39;00m\u001b[38;5;21;01m.\u001b[39;00m\u001b[38;5;21;01m_estimator_html_repr\u001b[39;00m \u001b[38;5;28;01mimport\u001b[39;00m estimator_html_repr\n\u001b[1;32m     21\u001b[0m \u001b[38;5;28;01mfrom\u001b[39;00m \u001b[38;5;21;01m.\u001b[39;00m\u001b[38;5;21;01mutils\u001b[39;00m\u001b[38;5;21;01m.\u001b[39;00m\u001b[38;5;21;01m_metadata_requests\u001b[39;00m \u001b[38;5;28;01mimport\u001b[39;00m _MetadataRequester\n",
      "File \u001b[0;32m~/gpu/env/lib/python3.8/site-packages/sklearn/utils/__init__.py:22\u001b[0m\n\u001b[1;32m     20\u001b[0m \u001b[38;5;28;01mfrom\u001b[39;00m \u001b[38;5;21;01m.\u001b[39;00m\u001b[38;5;21;01m_bunch\u001b[39;00m \u001b[38;5;28;01mimport\u001b[39;00m Bunch\n\u001b[1;32m     21\u001b[0m \u001b[38;5;28;01mfrom\u001b[39;00m \u001b[38;5;21;01m.\u001b[39;00m\u001b[38;5;21;01m_estimator_html_repr\u001b[39;00m \u001b[38;5;28;01mimport\u001b[39;00m estimator_html_repr\n\u001b[0;32m---> 22\u001b[0m \u001b[38;5;28;01mfrom\u001b[39;00m \u001b[38;5;21;01m.\u001b[39;00m\u001b[38;5;21;01m_param_validation\u001b[39;00m \u001b[38;5;28;01mimport\u001b[39;00m Interval, validate_params\n\u001b[1;32m     23\u001b[0m \u001b[38;5;28;01mfrom\u001b[39;00m \u001b[38;5;21;01m.\u001b[39;00m\u001b[38;5;21;01mclass_weight\u001b[39;00m \u001b[38;5;28;01mimport\u001b[39;00m compute_class_weight, compute_sample_weight\n\u001b[1;32m     24\u001b[0m \u001b[38;5;28;01mfrom\u001b[39;00m \u001b[38;5;21;01m.\u001b[39;00m\u001b[38;5;21;01mdeprecation\u001b[39;00m \u001b[38;5;28;01mimport\u001b[39;00m deprecated\n",
      "File \u001b[0;32m~/gpu/env/lib/python3.8/site-packages/sklearn/utils/_param_validation.py:15\u001b[0m\n\u001b[1;32m     12\u001b[0m \u001b[38;5;28;01mfrom\u001b[39;00m \u001b[38;5;21;01mscipy\u001b[39;00m\u001b[38;5;21;01m.\u001b[39;00m\u001b[38;5;21;01msparse\u001b[39;00m \u001b[38;5;28;01mimport\u001b[39;00m csr_matrix, issparse\n\u001b[1;32m     14\u001b[0m \u001b[38;5;28;01mfrom\u001b[39;00m \u001b[38;5;21;01m.\u001b[39;00m\u001b[38;5;21;01m.\u001b[39;00m\u001b[38;5;21;01m_config\u001b[39;00m \u001b[38;5;28;01mimport\u001b[39;00m config_context, get_config\n\u001b[0;32m---> 15\u001b[0m \u001b[38;5;28;01mfrom\u001b[39;00m \u001b[38;5;21;01m.\u001b[39;00m\u001b[38;5;21;01mvalidation\u001b[39;00m \u001b[38;5;28;01mimport\u001b[39;00m _is_arraylike_not_scalar\n\u001b[1;32m     18\u001b[0m \u001b[38;5;28;01mclass\u001b[39;00m \u001b[38;5;21;01mInvalidParameterError\u001b[39;00m(\u001b[38;5;167;01mValueError\u001b[39;00m, \u001b[38;5;167;01mTypeError\u001b[39;00m):\n\u001b[1;32m     19\u001b[0m \u001b[38;5;250m    \u001b[39m\u001b[38;5;124;03m\"\"\"Custom exception to be raised when the parameter of a class/method/function\u001b[39;00m\n\u001b[1;32m     20\u001b[0m \u001b[38;5;124;03m    does not have a valid type or value.\u001b[39;00m\n\u001b[1;32m     21\u001b[0m \u001b[38;5;124;03m    \"\"\"\u001b[39;00m\n",
      "File \u001b[0;32m~/gpu/env/lib/python3.8/site-packages/sklearn/utils/validation.py:25\u001b[0m\n\u001b[1;32m     23\u001b[0m \u001b[38;5;28;01mfrom\u001b[39;00m \u001b[38;5;21;01m.\u001b[39;00m\u001b[38;5;21;01m.\u001b[39;00m \u001b[38;5;28;01mimport\u001b[39;00m get_config \u001b[38;5;28;01mas\u001b[39;00m _get_config\n\u001b[1;32m     24\u001b[0m \u001b[38;5;28;01mfrom\u001b[39;00m \u001b[38;5;21;01m.\u001b[39;00m\u001b[38;5;21;01m.\u001b[39;00m\u001b[38;5;21;01mexceptions\u001b[39;00m \u001b[38;5;28;01mimport\u001b[39;00m DataConversionWarning, NotFittedError, PositiveSpectrumWarning\n\u001b[0;32m---> 25\u001b[0m \u001b[38;5;28;01mfrom\u001b[39;00m \u001b[38;5;21;01m.\u001b[39;00m\u001b[38;5;21;01m.\u001b[39;00m\u001b[38;5;21;01mutils\u001b[39;00m\u001b[38;5;21;01m.\u001b[39;00m\u001b[38;5;21;01m_array_api\u001b[39;00m \u001b[38;5;28;01mimport\u001b[39;00m _asarray_with_order, _is_numpy_namespace, get_namespace\n\u001b[1;32m     26\u001b[0m \u001b[38;5;28;01mfrom\u001b[39;00m \u001b[38;5;21;01m.\u001b[39;00m\u001b[38;5;21;01m.\u001b[39;00m\u001b[38;5;21;01mutils\u001b[39;00m\u001b[38;5;21;01m.\u001b[39;00m\u001b[38;5;21;01mfixes\u001b[39;00m \u001b[38;5;28;01mimport\u001b[39;00m ComplexWarning\n\u001b[1;32m     27\u001b[0m \u001b[38;5;28;01mfrom\u001b[39;00m \u001b[38;5;21;01m.\u001b[39;00m\u001b[38;5;21;01m_isfinite\u001b[39;00m \u001b[38;5;28;01mimport\u001b[39;00m FiniteStatus, cy_isfinite\n",
      "File \u001b[0;32m~/gpu/env/lib/python3.8/site-packages/sklearn/utils/_array_api.py:9\u001b[0m\n\u001b[1;32m      6\u001b[0m \u001b[38;5;28;01mimport\u001b[39;00m \u001b[38;5;21;01mscipy\u001b[39;00m\u001b[38;5;21;01m.\u001b[39;00m\u001b[38;5;21;01mspecial\u001b[39;00m \u001b[38;5;28;01mas\u001b[39;00m \u001b[38;5;21;01mspecial\u001b[39;00m\n\u001b[1;32m      8\u001b[0m \u001b[38;5;28;01mfrom\u001b[39;00m \u001b[38;5;21;01m.\u001b[39;00m\u001b[38;5;21;01m.\u001b[39;00m\u001b[38;5;21;01m_config\u001b[39;00m \u001b[38;5;28;01mimport\u001b[39;00m get_config\n\u001b[0;32m----> 9\u001b[0m \u001b[38;5;28;01mfrom\u001b[39;00m \u001b[38;5;21;01m.\u001b[39;00m\u001b[38;5;21;01mfixes\u001b[39;00m \u001b[38;5;28;01mimport\u001b[39;00m parse_version\n\u001b[1;32m     12\u001b[0m \u001b[38;5;28;01mdef\u001b[39;00m \u001b[38;5;21m_check_array_api_dispatch\u001b[39m(array_api_dispatch):\n\u001b[1;32m     13\u001b[0m \u001b[38;5;250m    \u001b[39m\u001b[38;5;124;03m\"\"\"Check that array_api_compat is installed and NumPy version is compatible.\u001b[39;00m\n\u001b[1;32m     14\u001b[0m \n\u001b[1;32m     15\u001b[0m \u001b[38;5;124;03m    array_api_compat follows NEP29, which has a higher minimum NumPy version than\u001b[39;00m\n\u001b[1;32m     16\u001b[0m \u001b[38;5;124;03m    scikit-learn.\u001b[39;00m\n\u001b[1;32m     17\u001b[0m \u001b[38;5;124;03m    \"\"\"\u001b[39;00m\n",
      "File \u001b[0;32m~/gpu/env/lib/python3.8/site-packages/sklearn/utils/fixes.py:19\u001b[0m\n\u001b[1;32m     17\u001b[0m \u001b[38;5;28;01mimport\u001b[39;00m \u001b[38;5;21;01mscipy\u001b[39;00m\n\u001b[1;32m     18\u001b[0m \u001b[38;5;28;01mimport\u001b[39;00m \u001b[38;5;21;01mscipy\u001b[39;00m\u001b[38;5;21;01m.\u001b[39;00m\u001b[38;5;21;01msparse\u001b[39;00m\u001b[38;5;21;01m.\u001b[39;00m\u001b[38;5;21;01mlinalg\u001b[39;00m\n\u001b[0;32m---> 19\u001b[0m \u001b[38;5;28;01mimport\u001b[39;00m \u001b[38;5;21;01mscipy\u001b[39;00m\u001b[38;5;21;01m.\u001b[39;00m\u001b[38;5;21;01mstats\u001b[39;00m\n\u001b[1;32m     20\u001b[0m \u001b[38;5;28;01mimport\u001b[39;00m \u001b[38;5;21;01mthreadpoolctl\u001b[39;00m\n\u001b[1;32m     22\u001b[0m \u001b[38;5;28;01mimport\u001b[39;00m \u001b[38;5;21;01msklearn\u001b[39;00m\n",
      "File \u001b[0;32m~/gpu/env/lib/python3.8/site-packages/scipy/stats/__init__.py:485\u001b[0m\n\u001b[1;32m      1\u001b[0m \u001b[38;5;124;03m\"\"\"\u001b[39;00m\n\u001b[1;32m      2\u001b[0m \u001b[38;5;124;03m.. _statsrefmanual:\u001b[39;00m\n\u001b[1;32m      3\u001b[0m \n\u001b[0;32m   (...)\u001b[0m\n\u001b[1;32m    480\u001b[0m \n\u001b[1;32m    481\u001b[0m \u001b[38;5;124;03m\"\"\"\u001b[39;00m\n\u001b[1;32m    483\u001b[0m \u001b[38;5;28;01mfrom\u001b[39;00m \u001b[38;5;21;01m.\u001b[39;00m\u001b[38;5;21;01m_warnings_errors\u001b[39;00m \u001b[38;5;28;01mimport\u001b[39;00m (ConstantInputWarning, NearConstantInputWarning,\n\u001b[1;32m    484\u001b[0m                                DegenerateDataWarning, FitError)\n\u001b[0;32m--> 485\u001b[0m \u001b[38;5;28;01mfrom\u001b[39;00m \u001b[38;5;21;01m.\u001b[39;00m\u001b[38;5;21;01m_stats_py\u001b[39;00m \u001b[38;5;28;01mimport\u001b[39;00m \u001b[38;5;241m*\u001b[39m\n\u001b[1;32m    486\u001b[0m \u001b[38;5;28;01mfrom\u001b[39;00m \u001b[38;5;21;01m.\u001b[39;00m\u001b[38;5;21;01m_variation\u001b[39;00m \u001b[38;5;28;01mimport\u001b[39;00m variation\n\u001b[1;32m    487\u001b[0m \u001b[38;5;28;01mfrom\u001b[39;00m \u001b[38;5;21;01m.\u001b[39;00m\u001b[38;5;21;01mdistributions\u001b[39;00m \u001b[38;5;28;01mimport\u001b[39;00m \u001b[38;5;241m*\u001b[39m\n",
      "File \u001b[0;32m~/gpu/env/lib/python3.8/site-packages/scipy/stats/_stats_py.py:46\u001b[0m\n\u001b[1;32m     44\u001b[0m \u001b[38;5;28;01mimport\u001b[39;00m \u001b[38;5;21;01mscipy\u001b[39;00m\u001b[38;5;21;01m.\u001b[39;00m\u001b[38;5;21;01mspecial\u001b[39;00m \u001b[38;5;28;01mas\u001b[39;00m \u001b[38;5;21;01mspecial\u001b[39;00m\n\u001b[1;32m     45\u001b[0m \u001b[38;5;28;01mfrom\u001b[39;00m \u001b[38;5;21;01mscipy\u001b[39;00m \u001b[38;5;28;01mimport\u001b[39;00m linalg\n\u001b[0;32m---> 46\u001b[0m \u001b[38;5;28;01mfrom\u001b[39;00m \u001b[38;5;21;01m.\u001b[39;00m \u001b[38;5;28;01mimport\u001b[39;00m distributions\n\u001b[1;32m     47\u001b[0m \u001b[38;5;28;01mfrom\u001b[39;00m \u001b[38;5;21;01m.\u001b[39;00m \u001b[38;5;28;01mimport\u001b[39;00m _mstats_basic \u001b[38;5;28;01mas\u001b[39;00m mstats_basic\n\u001b[1;32m     48\u001b[0m \u001b[38;5;28;01mfrom\u001b[39;00m \u001b[38;5;21;01m.\u001b[39;00m\u001b[38;5;21;01m_stats_mstats_common\u001b[39;00m \u001b[38;5;28;01mimport\u001b[39;00m (_find_repeats, linregress, theilslopes,\n\u001b[1;32m     49\u001b[0m                                    siegelslopes)\n",
      "File \u001b[0;32m~/gpu/env/lib/python3.8/site-packages/scipy/stats/distributions.py:8\u001b[0m\n\u001b[1;32m      1\u001b[0m \u001b[38;5;66;03m#\u001b[39;00m\n\u001b[1;32m      2\u001b[0m \u001b[38;5;66;03m# Author:  Travis Oliphant  2002-2011 with contributions from\u001b[39;00m\n\u001b[1;32m      3\u001b[0m \u001b[38;5;66;03m#          SciPy Developers 2004-2011\u001b[39;00m\n\u001b[0;32m   (...)\u001b[0m\n\u001b[1;32m      6\u001b[0m \u001b[38;5;66;03m#       instead of `git blame -Lxxx,+x`.\u001b[39;00m\n\u001b[1;32m      7\u001b[0m \u001b[38;5;66;03m#\u001b[39;00m\n\u001b[0;32m----> 8\u001b[0m \u001b[38;5;28;01mfrom\u001b[39;00m \u001b[38;5;21;01m.\u001b[39;00m\u001b[38;5;21;01m_distn_infrastructure\u001b[39;00m \u001b[38;5;28;01mimport\u001b[39;00m (rv_discrete, rv_continuous, rv_frozen)\n\u001b[1;32m     10\u001b[0m \u001b[38;5;28;01mfrom\u001b[39;00m \u001b[38;5;21;01m.\u001b[39;00m \u001b[38;5;28;01mimport\u001b[39;00m _continuous_distns\n\u001b[1;32m     11\u001b[0m \u001b[38;5;28;01mfrom\u001b[39;00m \u001b[38;5;21;01m.\u001b[39;00m \u001b[38;5;28;01mimport\u001b[39;00m _discrete_distns\n",
      "File \u001b[0;32m~/gpu/env/lib/python3.8/site-packages/scipy/stats/_distn_infrastructure.py:25\u001b[0m\n\u001b[1;32m     22\u001b[0m \u001b[38;5;28;01mfrom\u001b[39;00m \u001b[38;5;21;01mscipy\u001b[39;00m \u001b[38;5;28;01mimport\u001b[39;00m optimize\n\u001b[1;32m     24\u001b[0m \u001b[38;5;66;03m# for functions of continuous distributions (e.g. moments, entropy, cdf)\u001b[39;00m\n\u001b[0;32m---> 25\u001b[0m \u001b[38;5;28;01mfrom\u001b[39;00m \u001b[38;5;21;01mscipy\u001b[39;00m \u001b[38;5;28;01mimport\u001b[39;00m integrate\n\u001b[1;32m     27\u001b[0m \u001b[38;5;66;03m# to approximate the pdf of a continuous distribution given its cdf\u001b[39;00m\n\u001b[1;32m     28\u001b[0m \u001b[38;5;28;01mfrom\u001b[39;00m \u001b[38;5;21;01mscipy\u001b[39;00m\u001b[38;5;21;01m.\u001b[39;00m\u001b[38;5;21;01m_lib\u001b[39;00m\u001b[38;5;21;01m.\u001b[39;00m\u001b[38;5;21;01m_finite_differences\u001b[39;00m \u001b[38;5;28;01mimport\u001b[39;00m _derivative\n",
      "File \u001b[0;32m<frozen importlib._bootstrap>:1039\u001b[0m, in \u001b[0;36m_handle_fromlist\u001b[0;34m(module, fromlist, import_, recursive)\u001b[0m\n",
      "File \u001b[0;32m~/gpu/env/lib/python3.8/site-packages/scipy/__init__.py:200\u001b[0m, in \u001b[0;36m__getattr__\u001b[0;34m(name)\u001b[0m\n\u001b[1;32m    198\u001b[0m \u001b[38;5;28;01mdef\u001b[39;00m \u001b[38;5;21m__getattr__\u001b[39m(name):\n\u001b[1;32m    199\u001b[0m     \u001b[38;5;28;01mif\u001b[39;00m name \u001b[38;5;129;01min\u001b[39;00m submodules:\n\u001b[0;32m--> 200\u001b[0m         \u001b[38;5;28;01mreturn\u001b[39;00m \u001b[43m_importlib\u001b[49m\u001b[38;5;241;43m.\u001b[39;49m\u001b[43mimport_module\u001b[49m\u001b[43m(\u001b[49m\u001b[38;5;124;43mf\u001b[39;49m\u001b[38;5;124;43m'\u001b[39;49m\u001b[38;5;124;43mscipy.\u001b[39;49m\u001b[38;5;132;43;01m{\u001b[39;49;00m\u001b[43mname\u001b[49m\u001b[38;5;132;43;01m}\u001b[39;49;00m\u001b[38;5;124;43m'\u001b[39;49m\u001b[43m)\u001b[49m\n\u001b[1;32m    201\u001b[0m     \u001b[38;5;28;01melse\u001b[39;00m:\n\u001b[1;32m    202\u001b[0m         \u001b[38;5;28;01mtry\u001b[39;00m:\n",
      "File \u001b[0;32m~/gpu/env/lib/python3.8/importlib/__init__.py:127\u001b[0m, in \u001b[0;36mimport_module\u001b[0;34m(name, package)\u001b[0m\n\u001b[1;32m    125\u001b[0m             \u001b[38;5;28;01mbreak\u001b[39;00m\n\u001b[1;32m    126\u001b[0m         level \u001b[38;5;241m+\u001b[39m\u001b[38;5;241m=\u001b[39m \u001b[38;5;241m1\u001b[39m\n\u001b[0;32m--> 127\u001b[0m \u001b[38;5;28;01mreturn\u001b[39;00m \u001b[43m_bootstrap\u001b[49m\u001b[38;5;241;43m.\u001b[39;49m\u001b[43m_gcd_import\u001b[49m\u001b[43m(\u001b[49m\u001b[43mname\u001b[49m\u001b[43m[\u001b[49m\u001b[43mlevel\u001b[49m\u001b[43m:\u001b[49m\u001b[43m]\u001b[49m\u001b[43m,\u001b[49m\u001b[43m \u001b[49m\u001b[43mpackage\u001b[49m\u001b[43m,\u001b[49m\u001b[43m \u001b[49m\u001b[43mlevel\u001b[49m\u001b[43m)\u001b[49m\n",
      "File \u001b[0;32m~/gpu/env/lib/python3.8/site-packages/scipy/integrate/__init__.py:94\u001b[0m\n\u001b[1;32m     92\u001b[0m \u001b[38;5;28;01mfrom\u001b[39;00m \u001b[38;5;21;01m.\u001b[39;00m\u001b[38;5;21;01m_odepack_py\u001b[39;00m \u001b[38;5;28;01mimport\u001b[39;00m \u001b[38;5;241m*\u001b[39m\n\u001b[1;32m     93\u001b[0m \u001b[38;5;28;01mfrom\u001b[39;00m \u001b[38;5;21;01m.\u001b[39;00m\u001b[38;5;21;01m_quadpack_py\u001b[39;00m \u001b[38;5;28;01mimport\u001b[39;00m \u001b[38;5;241m*\u001b[39m\n\u001b[0;32m---> 94\u001b[0m \u001b[38;5;28;01mfrom\u001b[39;00m \u001b[38;5;21;01m.\u001b[39;00m\u001b[38;5;21;01m_ode\u001b[39;00m \u001b[38;5;28;01mimport\u001b[39;00m \u001b[38;5;241m*\u001b[39m\n\u001b[1;32m     95\u001b[0m \u001b[38;5;28;01mfrom\u001b[39;00m \u001b[38;5;21;01m.\u001b[39;00m\u001b[38;5;21;01m_bvp\u001b[39;00m \u001b[38;5;28;01mimport\u001b[39;00m solve_bvp\n\u001b[1;32m     96\u001b[0m \u001b[38;5;28;01mfrom\u001b[39;00m \u001b[38;5;21;01m.\u001b[39;00m\u001b[38;5;21;01m_ivp\u001b[39;00m \u001b[38;5;28;01mimport\u001b[39;00m (solve_ivp, OdeSolution, DenseOutput,\n\u001b[1;32m     97\u001b[0m                    OdeSolver, RK23, RK45, DOP853, Radau, BDF, LSODA)\n",
      "File \u001b[0;32m~/gpu/env/lib/python3.8/site-packages/scipy/integrate/_ode.py:89\u001b[0m\n\u001b[1;32m     86\u001b[0m \u001b[38;5;28;01mfrom\u001b[39;00m \u001b[38;5;21;01mnumpy\u001b[39;00m \u001b[38;5;28;01mimport\u001b[39;00m asarray, array, zeros, isscalar, real, imag, vstack\n\u001b[1;32m     88\u001b[0m \u001b[38;5;28;01mfrom\u001b[39;00m \u001b[38;5;21;01m.\u001b[39;00m \u001b[38;5;28;01mimport\u001b[39;00m _vode\n\u001b[0;32m---> 89\u001b[0m \u001b[38;5;28;01mfrom\u001b[39;00m \u001b[38;5;21;01m.\u001b[39;00m \u001b[38;5;28;01mimport\u001b[39;00m _dop\n\u001b[1;32m     90\u001b[0m \u001b[38;5;28;01mfrom\u001b[39;00m \u001b[38;5;21;01m.\u001b[39;00m \u001b[38;5;28;01mimport\u001b[39;00m _lsoda\n\u001b[1;32m     93\u001b[0m _dop_int_dtype \u001b[38;5;241m=\u001b[39m _dop\u001b[38;5;241m.\u001b[39mtypes\u001b[38;5;241m.\u001b[39mintvar\u001b[38;5;241m.\u001b[39mdtype\n",
      "\u001b[0;31mKeyboardInterrupt\u001b[0m: "
     ]
    }
   ],
   "source": [
    "from sklearn.model_selection import train_test_split\n",
    "from sklearn.linear_model import LinearRegression \n",
    "import numpy as np\n",
    "X, Y = np.arange(10).reshape((5, 2)), range(5)\n",
    "\n",
    "Xtrain,Xtest,Ytrain,Ytest = train_test_split(X , Y, test_size = 0.4,random_state = 101)\n",
    "lm = LinearRegression()\n",
    "lm.fit(Xtrain,Ytrain)"
   ]
  },
  {
   "cell_type": "code",
   "execution_count": null,
   "metadata": {
    "datalore": {
     "hide_input_from_viewers": false,
     "hide_output_from_viewers": false,
     "node_id": "mjYj014sub5SheZV2pfrlo",
     "report_properties": {
      "rowId": "8dr1YIrHNYvpiNzk5JiWGy"
     },
     "type": "CODE"
    }
   },
   "outputs": [
    {
     "name": "stdout",
     "output_type": "stream",
     "text": [
      "_______________________________________________________________\n",
      "[[[[1.+0.j 2.+0.j 3.+0.j]\n",
      "   [1.+0.j 2.+0.j 4.+0.j]\n",
      "   [9.+0.j 8.+0.j 6.+0.j]\n",
      "   [6.+0.j 9.+0.j 8.+0.j]]]]\n",
      "_______________________________________________________________\n",
      "[[1 2]\n",
      " [3 4]]\n",
      "_______________________________________________________________\n",
      "<class 'numpy.ndarray'>\n",
      "_______________________________________________________________\n",
      "<class 'numpy.matrix'>\n",
      "_______________________________________________________________\n",
      "[[1.+0.j 2.+0.j]\n",
      " [4.+0.j 5.+0.j]\n",
      " [5.+0.j 6.+0.j]]\n",
      "<class 'numpy.matrix'>\n",
      "_______________________________________________________________\n",
      "[[[2 3 5 6 7 8]]]\n",
      "______________________________________________________________________\n",
      "<class 'numpy.ndarray'>\n"
     ]
    }
   ],
   "source": [
    "#ALL ABOUT NPARRAY numpy.array(object, dtype=None, *, copy=True, order='K', subok=False, ndmin=0, like=None)#\n",
    "import numpy as np\n",
    "nparr = np.array([[[1,2,3],[1,2,4],[9,8,6],[6,9,8]]],ndmin = 4,dtype = complex)\n",
    "print(\"_______________________________________________________________\")\n",
    "print(nparr)\n",
    "nparr2 = np.array(np.matrix('1 2; 3 4'))\n",
    "print(\"_______________________________________________________________\")\n",
    "print(nparr2)\n",
    "print(\"_______________________________________________________________\")\n",
    "print(type(nparr2))\n",
    "print(\"_______________________________________________________________\")\n",
    "nparr2 = np.array(np.matrix('1 2; 3 4'),subok = True)\n",
    "print(type(nparr2))\n",
    "print(\"_______________________________________________________________\")\n",
    "#upcasting\n",
    "nparr3 = np.array(np.mat('1 2 ; 4 5 ; 5 6.0'),ndmin = 4,dtype = complex , subok = True)#ubok forces the array to be a base class matrix\n",
    "print(nparr3)\n",
    "print(type(nparr3))\n",
    "print(\"_______________________________________________________________\")\n",
    "l = [2,3,5,6,7,8]\n",
    "a = [2,2,43,2,33]\n",
    "nparr4 = np.array(l,ndmin = 3,order = 'a')#order can be c , f and a c means row wise operarion f is coloumn wise and a is read or write in fortan like indexing\n",
    "print(nparr4)\n",
    "print(\"______________________________________________________________________\")\n",
    "print(type(nparr4))\n"
   ]
  },
  {
   "cell_type": "code",
   "execution_count": null,
   "metadata": {
    "datalore": {
     "hide_input_from_viewers": false,
     "hide_output_from_viewers": false,
     "node_id": "OwtHN8kwktpsC4yRt65pBz",
     "report_properties": {
      "rowId": "OSQ2kBgWvuWdlFKCuUFZof"
     },
     "type": "CODE"
    }
   },
   "outputs": [],
   "source": [
    "#WORKFLOW OF ANNS\n",
    "#1. collect lots of data in focus of the project\n",
    "#2. analise the data\n",
    "#3. choose the model--> choose the model based on-->1.multi layer perceptron,cnn,rnn,rnn with lstm 2.choose the number of layers 3. feature set with initialiser\n",
    "# no of layers should include--> 1. dense layer,convolution layer,embedding layer,droupout layer etc, 2. proper feature set for each layer,3. proper activation fucktion for each layer\n",
    "#4.prepare the data\n",
    "#5.split the data into training and testing data\n",
    "#6.compile the model\n",
    "# while compiling the model--> choose the loss function and the optimiser\n",
    "#7.fit the model with data\n",
    "#8.predict for new data\n",
    "#9. evalaute for new data\n",
    "\n",
    "\n",
    "\n",
    "\n",
    "#KERAS API DIVITION\n",
    "#1. MODEL\n",
    "#2. LAYER\n",
    "#3. CORE MODULES\n",
    "#MODELS\n",
    "#MODEL API--> functional and sequential model \n",
    "# LAYER API --> core layer, recurrent layer, convolution layer , pooling layer\n",
    "#MODULE API --> activations , optimizers , loses , metrics , etc\n",
    "# the model and layer api together access the core module api\n",
    "\n",
    "#Sequential Model - Sequential model is basically a linear composition of Keras Layers. \n",
    "#Sequential model is easy, minimal as well as has the ability to represent nearly all available neural networks.\n",
    "#The main idea is that a deep learning model is usually a directed acyclic graph (DAG) of layers. \n",
    "#So the functional API is a way to build graphs of layers.\n",
    "\n",
    "\n",
    "#core module includes\n",
    "#activation module,regularisation,losses,optimisation\n",
    "#modules availabale in kears MODULE\n",
    "#1.activation\n",
    "#2.regularisation\n",
    "#3.optimisers\n",
    "#4.loss\n",
    "#5.constraints\n",
    "#6.initialisers\n",
    "#7.image processing\n",
    "#8.text processing\n",
    "#9.sequence processing\n",
    "#10.callback\n",
    "#11.utilities\n",
    "#12.backend\n",
    "#13.metrics"
   ]
  },
  {
   "cell_type": "code",
   "execution_count": null,
   "metadata": {
    "datalore": {
     "hide_input_from_viewers": false,
     "hide_output_from_viewers": false,
     "node_id": "Z18XbH6qtlT7w8aq5YlqWm",
     "report_properties": {
      "rowId": "r8f6XaoTp9ZZTSMVqotyOp"
     },
     "type": "CODE"
    }
   },
   "outputs": [
    {
     "name": "stdout",
     "output_type": "stream",
     "text": [
      "You must install pydot (`pip install pydot`) and install graphviz (see instructions at https://graphviz.gitlab.io/download/) for plot_model to work.\n"
     ]
    }
   ],
   "source": [
    "#functional model\n",
    "# from keras.models import Sequential\n",
    "# from keras.layers import Dense , Activation\n",
    "# model = Sequential()\n",
    "# model.add(Dense(512 , activation = 'relu' , input_shape=(784,) ))\n",
    "# model.summary()\n",
    "import tensorflow as tf\n",
    "from tensorflow import keras\n",
    "from keras import layers\n",
    "from keras.utils import plot_model\n",
    "import pydot\n",
    "from keras.utils import model_to_dot\n",
    "from graphviz import Source\n",
    "\n",
    "\n",
    "inputs = tf.keras.Input(shape = (784,))\n",
    "\n",
    "inputs.shape\n",
    "inputs.dtype\n",
    "dense = keras.layers.Dense(64,activation='relu')\n",
    "\n",
    "x = dense(inputs)\n",
    "x = layers.Dense(64,activation='relu')(x)\n",
    "outputs = layers.Dense(10)(x)\n",
    "model = keras.Model(inputs = inputs , outputs = outputs , name = 'mnist_model')\n",
    "#model.summary()\n",
    "keras.utils.plot_model(model,show_shapes=True)\n",
    "# dot = model_to_dot(model, show_shapes=True)\n",
    "# source = Source(dot.to_string())\n",
    "# source.format = 'png'\n",
    "# source.render('model_plot', view=True) \n"
   ]
  },
  {
   "cell_type": "code",
   "execution_count": null,
   "metadata": {
    "datalore": {
     "hide_input_from_viewers": false,
     "hide_output_from_viewers": false,
     "node_id": "oqcAOA4W1R4ySz6QYN0j1g",
     "report_properties": {
      "rowId": "Es4sHrYpMapBb5unDraZ7O"
     },
     "type": "CODE"
    }
   },
   "outputs": [
    {
     "name": "stdout",
     "output_type": "stream",
     "text": [
      "Model: \"sequential\"\n",
      "_________________________________________________________________\n",
      " Layer (type)                Output Shape              Param #   \n",
      "=================================================================\n",
      " dense_15 (Dense)            (None, 512)               401920    \n",
      "                                                                 \n",
      "=================================================================\n",
      "Total params: 401,920\n",
      "Trainable params: 401,920\n",
      "Non-trainable params: 0\n",
      "_________________________________________________________________\n"
     ]
    }
   ],
   "source": [
    " #sequential model\n",
    "\n",
    "from keras.models import Sequential\n",
    "from keras.layers import Dense , Activation\n",
    "model = Sequential()\n",
    "model.add(Dense(512 , activation = 'relu' , input_shape=(784,) ))\n",
    "model.summary()"
   ]
  },
  {
   "cell_type": "code",
   "execution_count": null,
   "metadata": {
    "datalore": {
     "hide_input_from_viewers": false,
     "hide_output_from_viewers": false,
     "node_id": "DphemOCe3j557TyUviLtM5",
     "report_properties": {
      "rowId": "0p14Gd4wgmiv3a6lz95Ikf"
     },
     "type": "CODE"
    }
   },
   "outputs": [
    {
     "name": "stdout",
     "output_type": "stream",
     "text": [
      "Model: \"sequential_1\"\n",
      "_________________________________________________________________\n",
      " Layer (type)                Output Shape              Param #   \n",
      "=================================================================\n",
      " dense_16 (Dense)            (None, 512)               401920    \n",
      "                                                                 \n",
      " dropout (Dropout)           (None, 512)               0         \n",
      "                                                                 \n",
      "=================================================================\n",
      "Total params: 401,920\n",
      "Trainable params: 401,920\n",
      "Non-trainable params: 0\n",
      "_________________________________________________________________\n"
     ]
    }
   ],
   "source": [
    "#example for layers\n",
    "from keras import Sequential\n",
    "from keras.layers import Dropout,Activation,Dense\n",
    "model = Sequential()\n",
    "model.add(Dense(512,activation='relu',input_shape = (784,)))\n",
    "model.add(Dropout(0.2))\n",
    "model.summary()"
   ]
  },
  {
   "cell_type": "code",
   "execution_count": null,
   "metadata": {
    "datalore": {
     "hide_input_from_viewers": false,
     "hide_output_from_viewers": false,
     "node_id": "3vN5JPinQkCv3gahHnvcsu",
     "report_properties": {
      "rowId": "JrM0dJYeOCkxgartz4maCV"
     },
     "type": "CODE"
    }
   },
   "outputs": [],
   "source": [
    "#backend module\n",
    "#by default kears uses tenforlow as backend\n",
    "#back end module fucntions\n",
    "#1. backend.get_uid()--> params = prefrix(string) output--> unique integer\n",
    "#2. backend.reset_uids()--> resets graph identifiers\n",
    "#3. placeholder--> It is used instantiate a placeholder tensor.\n",
    "#4. dot--> multiply two tensors\n",
    "#5. ones-> to initialise everything with ones\n",
    "#6. batch_dot--> used to multiply batches of input(input dimension should be 2 or higher)\n",
    "#7. variable--> used to declare a variable\n",
    "#8. is_sparse(tensor)--> resulsts in true or false\n",
    "#9. to_dense--> converst sparse into dense\n",
    "#10. random_uniform_variable--> used to initialise random unifrom distribution"
   ]
  },
  {
   "cell_type": "code",
   "execution_count": null,
   "metadata": {
    "datalore": {
     "hide_input_from_viewers": false,
     "hide_output_from_viewers": false,
     "node_id": "1bUv2gVkibZr0aGinA18OI",
     "report_properties": {
      "rowId": "XdqqGBSqHOXMLG5JiRwutC"
     },
     "type": "CODE"
    }
   },
   "outputs": [
    {
     "name": "stdout",
     "output_type": "stream",
     "text": [
      "tf.Tensor(\n",
      "[[1. 3.]\n",
      " [2. 3.]\n",
      " [3. 2.]\n",
      " [4. 3.]\n",
      " [5. 4.]], shape=(5, 2), dtype=float32)\n",
      "True\n",
      "False\n"
     ]
    },
    {
     "data": {
      "text/plain": [
       "<tf.Tensor: shape=(2, 2), dtype=float32, numpy=\n",
       "array([[0.35066536, 0.0960381 ],\n",
       "       [0.6596209 , 0.21913597]], dtype=float32)>"
      ]
     },
     "metadata": {},
     "output_type": "display_data"
    }
   ],
   "source": [
    "from keras import  backend as k\n",
    "k.backend()\n",
    "k.epsilon()\n",
    "k.image_data_format()\n",
    "k.floatx()\n",
    "k.get_uid(prefix='x')\n",
    "k.reset_uids()\n",
    "data = k.placeholder(shape = (1,3,4),dtype = float,ndim = 3,sparse = True )\n",
    "data\n",
    "k.int_shape(data)\n",
    "a = k.placeholder(shape = (4,2))\n",
    "b = k.placeholder(shape = (2,6))\n",
    "c = k.dot(a,b)\n",
    "c\n",
    "z = k.ones(shape=(4,2,2))\n",
    "k.eval(z)#same as k.get_value()\n",
    "a_batch = k.placeholder(shape = (2,3))\n",
    "b_batch = k.placeholder(shape=(3,4))\n",
    "c_batch = k.batch_dot(a_batch,a_batch)\n",
    "c_batch\n",
    "data = k.variable([[1,2,3,4,5],[3,3,2,3,4]])\n",
    "trns = k.transpose(data)\n",
    "print(trns)\n",
    "v = k.placeholder(shape = (1,2,3),sparse=True)\n",
    "print(k.is_sparse(v))\n",
    "n = k.placeholder(shape = (4,5,6),sparse=True)\n",
    "dense = k.to_dense(n)\n",
    "print(k.is_sparse(dense))\n",
    "#random_uniform_variable\n",
    "ruv1 = k.random_uniform_variable(shape = (2,3),low = 0,high = 1)\n",
    "ruv2 = k.random_uniform_variable(shape = (3,2),low = 0, high = 1)\n",
    "c = k.dot(ruv1,ruv2)\n",
    "k.int_shape(c)"
   ]
  },
  {
   "cell_type": "code",
   "execution_count": null,
   "metadata": {
    "datalore": {
     "hide_input_from_viewers": false,
     "hide_output_from_viewers": false,
     "node_id": "FecxKGgH9WBZD5d63DMDOJ",
     "report_properties": {
      "rowId": "PqxyNCgvKpO3pVMt4VrD0y"
     },
     "type": "CODE"
    }
   },
   "outputs": [],
   "source": [
    "#utils module\n",
    "#1. HDF5MATRIX--> used to represnt data in hdf5 format\n",
    "#2. to_categorical--> class vector into binary class matrix\n",
    "#3. normalize --> normalises the numoy array\n",
    "#4. print_summary()--> prints the summary of the model\n",
    "#5. plot_model()--> \n",
    "\n"
   ]
  },
  {
   "cell_type": "code",
   "execution_count": null,
   "metadata": {
    "datalore": {
     "hide_input_from_viewers": false,
     "hide_output_from_viewers": false,
     "node_id": "ZiVYCY1RZgnRBzeJ1U7asb",
     "report_properties": {
      "rowId": "5qsLhoDJBrfn1f4lvZUXxm"
     },
     "type": "CODE"
    }
   },
   "outputs": [
    {
     "data": {
      "text/html": [
       "<pre>array([[0., 1., 0., 0., 0., 0., 0., 0., 0., 0., 0., 0., 0., 0., 0., 0.,\n",
       "        0., 0., 0., 0., 0., 0., 0., 0., 0., 0., 0., 0., 0., 0., 0., 0.,\n",
       "        0., 0., 0., 0., 0., 0., 0., 0., 0., 0., 0., 0., 0., 0.],\n",
       "       [0., 0., 1., 0., 0., 0., 0., 0., 0., 0., 0., 0., 0., 0., 0., 0.,\n",
       "        0., 0., 0., 0., 0., 0., 0., 0., 0., 0., 0., 0., 0., 0., 0., 0.,\n",
       "        0., 0., 0., 0., 0., 0., 0., 0., 0., 0., 0., 0., 0., 0.],\n",
       "       [0., 0., 0., 0., 1., 0., 0., 0., 0., 0., 0., 0., 0., 0., 0., 0.,\n",
       "        0., 0., 0., 0., 0., 0., 0., 0., 0., 0., 0., 0., 0., 0., 0., 0.,\n",
       "        0., 0., 0., 0., 0., 0., 0., 0., 0., 0., 0., 0., 0., 0.],\n",
       "       [0., 0., 0., 0., 0., 0., 0., 0., 0., 0., 0., 0., 0., 0., 0., 0.,\n",
       "        0., 0., 0., 0., 0., 0., 0., 0., 0., 0., 0., 0., 0., 0., 0., 0.,\n",
       "        0., 0., 0., 0., 0., 0., 0., 0., 0., 0., 0., 0., 0., 1.],\n",
       "       [0., 0., 0., 0., 0., 1., 0., 0., 0., 0., 0., 0., 0., 0., 0., 0.,\n",
       "        0., 0., 0., 0., 0., 0., 0., 0., 0., 0., 0., 0., 0., 0., 0., 0.,\n",
       "        0., 0., 0., 0., 0., 0., 0., 0., 0., 0., 0., 0., 0., 0.],\n",
       "       [0., 0., 0., 0., 0., 0., 1., 0., 0., 0., 0., 0., 0., 0., 0., 0.,\n",
       "        0., 0., 0., 0., 0., 0., 0., 0., 0., 0., 0., 0., 0., 0., 0., 0.,\n",
       "        0., 0., 0., 0., 0., 0., 0., 0., 0., 0., 0., 0., 0., 0.],\n",
       "       [0., 0., 0., 0., 0., 0., 1., 0., 0., 0., 0., 0., 0., 0., 0., 0.,\n",
       "        0., 0., 0., 0., 0., 0., 0., 0., 0., 0., 0., 0., 0., 0., 0., 0.,\n",
       "        0., 0., 0., 0., 0., 0., 0., 0., 0., 0., 0., 0., 0., 0.],\n",
       "       [0., 0., 0., 1., 0., 0., 0., 0., 0., 0., 0., 0., 0., 0., 0., 0.,\n",
       "        0., 0., 0., 0., 0., 0., 0., 0., 0., 0., 0., 0., 0., 0., 0., 0.,\n",
       "        0., 0., 0., 0., 0., 0., 0., 0., 0., 0., 0., 0., 0., 0.]],\n",
       "      dtype=float32)</pre>"
      ]
     },
     "metadata": {},
     "output_type": "display_data"
    }
   ],
   "source": [
    "import keras\n",
    "from keras.utils import to_categorical\n",
    "lables = (1,2,4,45,5,6,6,3)\n",
    "to_categorical(lables)"
   ]
  },
  {
   "cell_type": "code",
   "execution_count": null,
   "metadata": {
    "datalore": {
     "hide_input_from_viewers": false,
     "hide_output_from_viewers": false,
     "node_id": "JMf4aev6sXkOZ11yMYqwAi",
     "report_properties": {
      "rowId": "pUoXTbUgA1qLg3tLPLPGaS"
     },
     "type": "CODE"
    }
   },
   "outputs": [
    {
     "data": {
      "text/html": [
       "<pre>array([[0.00543427, 0.00362284, 0.00543427, 0.00724569, 0.99990484,\n",
       "        0.00362284, 0.00724569]])</pre>"
      ]
     },
     "metadata": {},
     "output_type": "display_data"
    }
   ],
   "source": [
    "# import keras \n",
    "# from keras.utils import HDF5Matrix\n",
    "# data = HDF5Matrix('data.hdf5','data')\n",
    "import keras\n",
    "from keras.utils import normalize\n",
    "l = [2,1,3,4,1,32,21]\n",
    "normalize([3,2,3,4,552,2,4])"
   ]
  },
  {
   "cell_type": "code",
   "execution_count": null,
   "metadata": {
    "datalore": {
     "hide_input_from_viewers": false,
     "hide_output_from_viewers": false,
     "node_id": "N7KDzRpy1l7qNtlb3gVnph",
     "report_properties": {
      "rowId": "4Ybkl2nhPq6pVoskrZ3ykX"
     },
     "type": "CODE"
    }
   },
   "outputs": [],
   "source": [
    "# import keras\n",
    "# from keras.utils import plot_model\n",
    "# plot_model(model,to_file='image.png')"
   ]
  },
  {
   "cell_type": "code",
   "execution_count": null,
   "metadata": {
    "datalore": {
     "hide_input_from_viewers": false,
     "hide_output_from_viewers": false,
     "node_id": "CCvkLfXtg0sT22TKLBpuZ3",
     "report_properties": {
      "rowId": "iuZXCcf4mBGDWbxH53Gk3w"
     },
     "type": "CODE"
    }
   },
   "outputs": [
    {
     "name": "stdout",
     "output_type": "stream",
     "text": [
      "Model: \"sequential_16\"\n",
      "_________________________________________________________________\n",
      " Layer (type)                Output Shape              Param #   \n",
      "=================================================================\n",
      " dense_17 (Dense)            (None, 32)                544       \n",
      "                                                                 \n",
      " dense_18 (Dense)            (None, 64)                2112      \n",
      "                                                                 \n",
      "=================================================================\n",
      "Total params: 2656 (10.38 KB)\n",
      "Trainable params: 2656 (10.38 KB)\n",
      "Non-trainable params: 0 (0.00 Byte)\n",
      "_________________________________________________________________\n"
     ]
    }
   ],
   "source": [
    "import keras\n",
    "from keras.layers import Activation,Dense\n",
    "from keras.models import Sequential\n",
    "from keras import regularizers\n",
    "from keras import  constraints\n",
    "from keras import initializers\n",
    "model = Sequential()\n",
    "model.add(Dense(32,input_shape = (16,),kernel_regularizer = None,activation ='softmax',kernel_constraint = 'MaxNorm',kernel_initializer = 'he_uniform' ))\n",
    "model.add(Dense(64,activation = 'softmax'))\n",
    "model.summary()"
   ]
  },
  {
   "cell_type": "code",
   "execution_count": null,
   "metadata": {
    "datalore": {
     "hide_input_from_viewers": false,
     "hide_output_from_viewers": false,
     "node_id": "H7DRnu3BGPfxrPk57YC0FJ",
     "report_properties": {
      "rowId": "uIdaXsYp0RueReH8ygXehV"
     },
     "type": "CODE"
    }
   },
   "outputs": [],
   "source": [
    "#INITIALIZERS\n",
    "#EACH LAYER IS SET WITH AN INITIAL WEIGHT AND LATER UPDATED ACCORDING TO THE COMPUTATIONS\n",
    "#THERE ARE MANY TYPES OF INITIALIZERS\n",
    "#1. ALL INPUTS ZEROS AND ONES AND CONSTANT  \n",
    "#2. randomnormal initialzers.RandomNormal(mean,stddev,seed)mean represent the mean of the random values to generate\n",
    "# stddev represent the standard deviation of the random values to generate\n",
    "#seed represent the values to generate random number\n",
    "#random uniform initializers-->,RandomUniform(min_val,max_val,seed)\n",
    "#3.VarianceScaling-->generates value based on input shape and output shape also based on scaling initialzers.VarianceScaling(scale,mode,distribution,seed)\n",
    "#mode-->fan_in,fan_out,fan_avg\n",
    "#distrubution--> normal,uniform\n",
    "#VarianceScaling--> finds the stddev of the normal distribution using-->sqrt(scale/n)\n",
    "#it finds the LIMIT of the uniform distribution using--> sqrt(3*scale/n)\n",
    "#LECUN_NORMAL --> gives the lecun normal of the normal data\n",
    "#finds the STDDEV using--> sqrt(1/fan_in)\n",
    "#Initializers allow you to pre-specify an initialization strategy, encoded in the Initializer object, without knowing the shape and dtype of the variable being initialized.\n",
    "#glorot_normal-->gives the glorot normal of the distribution\n",
    "#finds the stddev using --> sqrt(2/(fan_in+fan_out))\n",
    "#he_normal--> stddev-->sqrt(2/fan_in)\n",
    "#he_uniform--> limit-->sqrt(6/fan_in)\n",
    "#orthogonal-->generates a random orthogonal matrix\n",
    "#identity--> generates a identity matrix"
   ]
  },
  {
   "cell_type": "code",
   "execution_count": null,
   "metadata": {
    "datalore": {
     "hide_input_from_viewers": false,
     "hide_output_from_viewers": false,
     "node_id": "POMrx5MleVXqAuJjO63fAc",
     "report_properties": {
      "rowId": "vuC6cJTkCdwNNd0d84fGfB"
     },
     "type": "CODE"
    }
   },
   "outputs": [
    {
     "name": "stdout",
     "output_type": "stream",
     "text": [
      "Model: \"sequential_4\"\n",
      "_________________________________________________________________\n",
      " Layer (type)                Output Shape              Param #   \n",
      "=================================================================\n",
      " dense_2 (Dense)             (None, 32)                25120     \n",
      "                                                                 \n",
      "=================================================================\n",
      "Total params: 25120 (98.12 KB)\n",
      "Trainable params: 25120 (98.12 KB)\n",
      "Non-trainable params: 0 (0.00 Byte)\n",
      "_________________________________________________________________\n"
     ]
    }
   ],
   "source": [
    "import keras\n",
    "\n",
    "from keras.models import Sequential\n",
    "from keras.layers import Activation,Dense\n",
    "from keras import initializers\n",
    "model = keras.Sequential()\n",
    "init = initializers.Zeros()\n",
    "model.add(Dense(32,input_shape = (784,),kernel_initializer = init,activation = 'relu'))\n",
    "model.summary()"
   ]
  },
  {
   "cell_type": "code",
   "execution_count": null,
   "metadata": {
    "datalore": {
     "hide_input_from_viewers": false,
     "hide_output_from_viewers": false,
     "node_id": "txVH62WmClHq3l5qur6Sbn",
     "report_properties": {
      "rowId": "NBJaywOWG1dLoeQmAHSpnn"
     },
     "type": "CODE"
    }
   },
   "outputs": [
    {
     "name": "stdout",
     "output_type": "stream",
     "text": [
      "Model: \"sequential_9\"\n",
      "_________________________________________________________________\n",
      " Layer (type)                Output Shape              Param #   \n",
      "=================================================================\n",
      " dense_4 (Dense)             (None, 64)                50240     \n",
      "                                                                 \n",
      "=================================================================\n",
      "Total params: 50240 (196.25 KB)\n",
      "Trainable params: 50240 (196.25 KB)\n",
      "Non-trainable params: 0 (0.00 Byte)\n",
      "_________________________________________________________________\n"
     ]
    }
   ],
   "source": [
    "from keras.models import Sequential\n",
    "from keras.layers import Activation,Dense\n",
    "from keras import initializers\n",
    "model = Sequential()\n",
    "init = initializers.ones()\n",
    "model.add(Dense(64,input_shape = (784,),kernel_initializer=init,activation = 'relu'))\n",
    "model.summary()"
   ]
  },
  {
   "cell_type": "code",
   "execution_count": null,
   "metadata": {
    "datalore": {
     "hide_input_from_viewers": false,
     "hide_output_from_viewers": false,
     "node_id": "tK8lbwJoVAUIjXFT4ASCi0",
     "report_properties": {
      "rowId": "grO9qvTtAuN3CesacEF6IM"
     },
     "type": "CODE"
    }
   },
   "outputs": [
    {
     "name": "stdout",
     "output_type": "stream",
     "text": [
      "Model: \"sequential_10\"\n",
      "_________________________________________________________________\n",
      " Layer (type)                Output Shape              Param #   \n",
      "=================================================================\n",
      " dense_5 (Dense)             (None, 64)                50240     \n",
      "                                                                 \n",
      "=================================================================\n",
      "Total params: 50240 (196.25 KB)\n",
      "Trainable params: 50240 (196.25 KB)\n",
      "Non-trainable params: 0 (0.00 Byte)\n",
      "_________________________________________________________________\n"
     ]
    }
   ],
   "source": [
    "from keras.models import Sequential\n",
    "from keras.layers import Activation,Dense\n",
    "from keras import initializers\n",
    "model = Sequential()\n",
    "init = initializers.Constant()\n",
    "model.add(Dense(64,input_shape = (784,),kernel_initializer = init,activation = 'relu'))\n",
    "model.summary()"
   ]
  },
  {
   "cell_type": "code",
   "execution_count": null,
   "metadata": {
    "datalore": {
     "hide_input_from_viewers": false,
     "hide_output_from_viewers": false,
     "node_id": "FoKulXZxZVMX0TtasEZ4oZ",
     "report_properties": {
      "rowId": "VCO8kcvjZCGKESSzISrVSC"
     },
     "type": "CODE"
    }
   },
   "outputs": [
    {
     "name": "stdout",
     "output_type": "stream",
     "text": [
      "Model: \"sequential_11\"\n",
      "_________________________________________________________________\n",
      " Layer (type)                Output Shape              Param #   \n",
      "=================================================================\n",
      " dense_6 (Dense)             (None, 64)                50240     \n",
      "                                                                 \n",
      "=================================================================\n",
      "Total params: 50240 (196.25 KB)\n",
      "Trainable params: 50240 (196.25 KB)\n",
      "Non-trainable params: 0 (0.00 Byte)\n",
      "_________________________________________________________________\n"
     ]
    }
   ],
   "source": [
    "#random normal\n",
    "from keras.models import Sequential\n",
    "from keras.layers import Activation,Dense\n",
    "from keras import initializers\n",
    "model = Sequential()\n",
    "init = initializers.RandomNormal(mean = 0.0,stddev = 0.5,seed=None)\n",
    "model.add(Dense(64,input_shape = (784,),kernel_initializer = init,activation = 'relu'))\n",
    "model.summary()"
   ]
  },
  {
   "cell_type": "code",
   "execution_count": null,
   "metadata": {
    "datalore": {
     "hide_input_from_viewers": false,
     "hide_output_from_viewers": false,
     "node_id": "fsv2tbmhYuClNmYbFBwvub",
     "report_properties": {
      "rowId": "W8tDnVGf82DdrNDnrNAHui"
     },
     "type": "CODE"
    }
   },
   "outputs": [],
   "source": [
    "#randomuniform\n",
    "from keras.models import Sequential\n",
    "from keras.layers import Activation,Dense\n",
    "from keras import initializers\n",
    "model = Sequential()\n",
    "init = initializers.RandomUniform(minval=-0.05,maxval=0.05,seed = None)\n",
    "model.add(Dense(64,input_shape = (784,),kernel_initializer = init,activation = 'relu'))\n",
    "model.summary()"
   ]
  },
  {
   "cell_type": "code",
   "execution_count": null,
   "metadata": {
    "datalore": {
     "hide_input_from_viewers": false,
     "hide_output_from_viewers": false,
     "node_id": "C2h9wZz4FjAEy04U65AH7F",
     "report_properties": {
      "rowId": "5B75kPbKr2BxvidclnMcfv"
     },
     "type": "CODE"
    }
   },
   "outputs": [
    {
     "name": "stdout",
     "output_type": "stream",
     "text": [
      "Model: \"sequential_4\"\n",
      "_________________________________________________________________\n",
      " Layer (type)                Output Shape              Param #   \n",
      "=================================================================\n",
      " dense (Dense)               (None, 64)                50240     \n",
      "                                                                 \n",
      "=================================================================\n",
      "Total params: 50240 (196.25 KB)\n",
      "Trainable params: 50240 (196.25 KB)\n",
      "Non-trainable params: 0 (0.00 Byte)\n",
      "_________________________________________________________________\n"
     ]
    }
   ],
   "source": [
    "from keras.models import Sequential\n",
    "from keras.layers import Activation,Dense\n",
    "from keras import initializers\n",
    "model = Sequential()\n",
    "init = initializers.VarianceScaling(scale = 1.0,mode = 'fan_in',distribution = 'uniform',seed = None)\n",
    "model.add(Dense(64,input_shape = (784,),kernel_initializer = init,activation = 'relu'))\n",
    "model.summary()"
   ]
  },
  {
   "cell_type": "code",
   "execution_count": null,
   "metadata": {
    "datalore": {
     "hide_input_from_viewers": false,
     "hide_output_from_viewers": false,
     "node_id": "afWb25HMYh0u78HyA970h7",
     "report_properties": {
      "rowId": "ewhtWMgjWrdqYZHJ9Ekmhn"
     },
     "type": "CODE"
    }
   },
   "outputs": [
    {
     "name": "stdout",
     "output_type": "stream",
     "text": [
      "Model: \"sequential_10\"\n",
      "_________________________________________________________________\n",
      " Layer (type)                Output Shape              Param #   \n",
      "=================================================================\n",
      " dense_3 (Dense)             (None, 64)                50240     \n",
      "                                                                 \n",
      "=================================================================\n",
      "Total params: 50240 (196.25 KB)\n",
      "Trainable params: 50240 (196.25 KB)\n",
      "Non-trainable params: 0 (0.00 Byte)\n",
      "_________________________________________________________________\n"
     ]
    }
   ],
   "source": [
    "#lecun_normal\n",
    "from keras.models import Sequential\n",
    "from keras.layers import Activation,Dense\n",
    "from keras import initializers\n",
    "model = Sequential()\n",
    "init = initializers.lecun_normal(seed = None)\n",
    "model.add(Dense(64,input_shape = (784,),kernel_initializer = init,activation = 'relu'))\n",
    "model.summary()"
   ]
  },
  {
   "cell_type": "code",
   "execution_count": null,
   "metadata": {
    "datalore": {
     "hide_input_from_viewers": false,
     "hide_output_from_viewers": false,
     "node_id": "rdpXUmZZCdh1jZODQoSbjV",
     "report_properties": {
      "rowId": "aVBcNORCTL2c6qyKOzKFni"
     },
     "type": "CODE"
    }
   },
   "outputs": [
    {
     "name": "stdout",
     "output_type": "stream",
     "text": [
      "Model: \"sequential_8\"\n",
      "_________________________________________________________________\n",
      " Layer (type)                Output Shape              Param #   \n",
      "=================================================================\n",
      " dense_2 (Dense)             (None, 64)                50240     \n",
      "                                                                 \n",
      "=================================================================\n",
      "Total params: 50240 (196.25 KB)\n",
      "Trainable params: 50240 (196.25 KB)\n",
      "Non-trainable params: 0 (0.00 Byte)\n",
      "_________________________________________________________________\n"
     ]
    }
   ],
   "source": [
    "from keras.models import Sequential\n",
    "from keras.layers import Activation,Dense\n",
    "from keras import initializers\n",
    "model = Sequential()\n",
    "init = initializers.lecun_uniform(seed=None)\n",
    "model.add(Dense(64,input_shape = (784,),kernel_initializer = init,activation = 'relu'))\n",
    "model.summary()"
   ]
  },
  {
   "cell_type": "code",
   "execution_count": null,
   "metadata": {
    "datalore": {
     "hide_input_from_viewers": false,
     "hide_output_from_viewers": false,
     "node_id": "5e6H6jxrlJSZWrKWTkMlQB",
     "report_properties": {
      "rowId": "nkJ5ldBoUWV5KhxDX7Ld4W"
     },
     "type": "CODE"
    }
   },
   "outputs": [
    {
     "name": "stdout",
     "output_type": "stream",
     "text": [
      "Model: \"sequential_11\"\n",
      "_________________________________________________________________\n",
      " Layer (type)                Output Shape              Param #   \n",
      "=================================================================\n",
      " dense_4 (Dense)             (None, 64)                50240     \n",
      "                                                                 \n",
      "=================================================================\n",
      "Total params: 50240 (196.25 KB)\n",
      "Trainable params: 50240 (196.25 KB)\n",
      "Non-trainable params: 0 (0.00 Byte)\n",
      "_________________________________________________________________\n"
     ]
    }
   ],
   "source": [
    "from keras.models import Sequential\n",
    "from keras.layers import Activation,Dense\n",
    "from keras import initializers\n",
    "model = Sequential()\n",
    "init = initializers.glorot_normal(seed=None)\n",
    "model.add(Dense(64,input_shape = (784,),kernel_initializer = init,activation = 'relu'))\n",
    "model.summary()"
   ]
  },
  {
   "cell_type": "code",
   "execution_count": null,
   "metadata": {
    "datalore": {
     "hide_input_from_viewers": false,
     "hide_output_from_viewers": false,
     "node_id": "6Uf5UYbd4yushAhBmc274Q",
     "report_properties": {
      "rowId": "iqdglfkQSAs0gC3bvFwB5A"
     },
     "type": "CODE"
    }
   },
   "outputs": [
    {
     "name": "stdout",
     "output_type": "stream",
     "text": [
      "Model: \"sequential_12\"\n",
      "_________________________________________________________________\n",
      " Layer (type)                Output Shape              Param #   \n",
      "=================================================================\n",
      " dense_5 (Dense)             (None, 64)                50240     \n",
      "                                                                 \n",
      "=================================================================\n",
      "Total params: 50240 (196.25 KB)\n",
      "Trainable params: 50240 (196.25 KB)\n",
      "Non-trainable params: 0 (0.00 Byte)\n",
      "_________________________________________________________________\n"
     ]
    }
   ],
   "source": [
    "from keras.models import Sequential\n",
    "from keras.layers import Activation,Dense\n",
    "from keras import initializers\n",
    "model = Sequential()\n",
    "init = initializers.glorot_uniform(seed=None)\n",
    "model.add(Dense(64,input_shape = (784,),kernel_initializer = init,activation = 'relu'))\n",
    "model.summary()"
   ]
  },
  {
   "cell_type": "code",
   "execution_count": null,
   "metadata": {
    "datalore": {
     "hide_input_from_viewers": false,
     "hide_output_from_viewers": false,
     "node_id": "pYXOZKrxR13SJqUoyV8fNO",
     "report_properties": {
      "rowId": "4ViVcKJtOR7q0IZ5HOWfSH"
     },
     "type": "CODE"
    }
   },
   "outputs": [
    {
     "name": "stdout",
     "output_type": "stream",
     "text": [
      "Model: \"sequential_13\"\n",
      "_________________________________________________________________\n",
      " Layer (type)                Output Shape              Param #   \n",
      "=================================================================\n",
      " dense_6 (Dense)             (None, 64)                50240     \n",
      "                                                                 \n",
      "=================================================================\n",
      "Total params: 50240 (196.25 KB)\n",
      "Trainable params: 50240 (196.25 KB)\n",
      "Non-trainable params: 0 (0.00 Byte)\n",
      "_________________________________________________________________\n"
     ]
    }
   ],
   "source": [
    "from keras.models import Sequential\n",
    "from keras.layers import Activation,Dense\n",
    "from keras import initializers\n",
    "model = Sequential()\n",
    "init = initializers.he_uniform(seed=None)\n",
    "model.add(Dense(64,input_shape = (784,),kernel_initializer = init,activation = 'relu'))\n",
    "model.summary()"
   ]
  },
  {
   "cell_type": "code",
   "execution_count": null,
   "metadata": {
    "datalore": {
     "hide_input_from_viewers": false,
     "hide_output_from_viewers": false,
     "node_id": "2lJlaf0WEP4GTP9Vv4WsIj",
     "report_properties": {
      "rowId": "GUvDcwbRmuvm3HYxsYwMmD"
     },
     "type": "CODE"
    }
   },
   "outputs": [
    {
     "name": "stdout",
     "output_type": "stream",
     "text": [
      "Model: \"sequential_14\"\n",
      "_________________________________________________________________\n",
      " Layer (type)                Output Shape              Param #   \n",
      "=================================================================\n",
      " dense_7 (Dense)             (None, 64)                50240     \n",
      "                                                                 \n",
      "=================================================================\n",
      "Total params: 50240 (196.25 KB)\n",
      "Trainable params: 50240 (196.25 KB)\n",
      "Non-trainable params: 0 (0.00 Byte)\n",
      "_________________________________________________________________\n"
     ]
    }
   ],
   "source": [
    "from keras.models import Sequential\n",
    "from keras.layers import Activation,Dense\n",
    "from keras import initializers\n",
    "model = Sequential()\n",
    "init = initializers.he_normal(seed=None)\n",
    "model.add(Dense(64,input_shape = (784,),kernel_initializer = init,activation = 'relu'))\n",
    "model.summary()"
   ]
  },
  {
   "cell_type": "code",
   "execution_count": null,
   "metadata": {
    "datalore": {
     "hide_input_from_viewers": false,
     "hide_output_from_viewers": false,
     "node_id": "Dz7UgnUZ8xnLzRUSYB4YPt",
     "report_properties": {
      "rowId": "zcWEdQeK4CnhzNDFDDFKVa"
     },
     "type": "CODE"
    }
   },
   "outputs": [],
   "source": [
    "from keras.models import Sequential\n",
    "from keras.layers import Activation,Dense\n",
    "from keras import initializers\n",
    "model = Sequential()\n",
    "init = initializers.orthogonal(gain = 1.0,seed=None)\n",
    "model.add(Dense(64,input_shape = (784,),kernel_initializer = init,activation = 'relu'))\n",
    "model.summary()"
   ]
  },
  {
   "cell_type": "code",
   "execution_count": null,
   "metadata": {
    "datalore": {
     "hide_input_from_viewers": false,
     "hide_output_from_viewers": false,
     "node_id": "NakPvLlX07r0xw3Op2nfJD",
     "report_properties": {
      "rowId": "dgIDCjB06IQwp89bpNZ1S7"
     },
     "type": "CODE"
    }
   },
   "outputs": [],
   "source": [
    "from keras.models import Sequential\n",
    "from keras.layers import Activation,Dense\n",
    "from keras import initializers\n",
    "model = Sequential()\n",
    "init = initializers.identity(seed=None)\n",
    "model.add(Dense(64,input_shape = (784,),kernel_initializer = init,activation = 'relu'))\n",
    "model.summary()"
   ]
  },
  {
   "cell_type": "code",
   "execution_count": null,
   "metadata": {
    "datalore": {
     "hide_input_from_viewers": false,
     "hide_output_from_viewers": false,
     "node_id": "FyzpfhNBguTm4pXgn6vTuR",
     "report_properties": {
      "rowId": "pmwQZpvtuOyHjQMjffQLcs"
     },
     "type": "CODE"
    }
   },
   "outputs": [],
   "source": [
    "#CONSTRAINTS\n",
    "#NonNeg--> weights should be non negative\n",
    "#unitnorm\n",
    "#maxnorm\n",
    "#minmaxnorm"
   ]
  },
  {
   "cell_type": "code",
   "execution_count": null,
   "metadata": {
    "datalore": {
     "hide_input_from_viewers": false,
     "hide_output_from_viewers": false,
     "node_id": "JkEkniekcADliBbhczb6rA",
     "report_properties": {
      "rowId": "HgMfp4g3SYV5g53nM569Oo"
     },
     "type": "CODE"
    }
   },
   "outputs": [
    {
     "name": "stdout",
     "output_type": "stream",
     "text": [
      "Model: \"sequential_16\"\n",
      "_________________________________________________________________\n",
      " Layer (type)                Output Shape              Param #   \n",
      "=================================================================\n",
      " dense_8 (Dense)             (None, 32)                25120     \n",
      "                                                                 \n",
      "=================================================================\n",
      "Total params: 25120 (98.12 KB)\n",
      "Trainable params: 25120 (98.12 KB)\n",
      "Non-trainable params: 0 (0.00 Byte)\n",
      "_________________________________________________________________\n"
     ]
    }
   ],
   "source": [
    "from keras.models import Sequential\n",
    "from keras.layers import Activation,Dense\n",
    "from keras import constraints\n",
    "model = Sequential()\n",
    "cons = constraints.NonNeg()\n",
    "model.add(Dense(32,input_shape = (784,),kernel_constraint = cons,activation = 'relu'))\n",
    "model.summary()\n",
    " "
   ]
  },
  {
   "cell_type": "code",
   "execution_count": null,
   "metadata": {
    "datalore": {
     "hide_input_from_viewers": false,
     "hide_output_from_viewers": false,
     "node_id": "XhMG0iNg96kpAv0HHrkjTW",
     "report_properties": {
      "rowId": "pntT5ak0ivHJOy6iOdisD1"
     },
     "type": "CODE"
    }
   },
   "outputs": [],
   "source": [
    "from keras.models import Sequential\n",
    "from keras.layers import Activation,Dense\n",
    "from keras import constraints\n",
    "model = Sequential()\n",
    "cons = constraints.UnitNorm(axis = 0)\n",
    "model.add(Dense(32,input_shape = (784,),kernel_constraint = cons,activation = 'relu'))\n",
    "model.summary()"
   ]
  },
  {
   "cell_type": "code",
   "execution_count": null,
   "metadata": {
    "datalore": {
     "hide_input_from_viewers": false,
     "hide_output_from_viewers": false,
     "node_id": "VkXFqdCTpqE28fPwnCaKbg",
     "report_properties": {
      "rowId": "GJA6fetedOWrHH97eJD0It"
     },
     "type": "CODE"
    }
   },
   "outputs": [],
   "source": [
    "from keras.models import Sequential\n",
    "from keras.layers import Activation,Dense\n",
    "from keras import constraints\n",
    "model = Sequential()\n",
    "cons = constraints.MaxNorm(max_value=5,axis = 0)\n",
    "model.add(Dense(32,input_shape = (784,),kernel_constraint = cons,activation = 'relu'))\n",
    "model.summary()"
   ]
  },
  {
   "cell_type": "code",
   "execution_count": null,
   "metadata": {
    "datalore": {
     "hide_input_from_viewers": false,
     "hide_output_from_viewers": false,
     "node_id": "mKIhRhD37Ae3klU550nnid",
     "report_properties": {
      "rowId": "qF67xTo37w5fCvkM9I8W9E"
     },
     "type": "CODE"
    }
   },
   "outputs": [
    {
     "name": "stdout",
     "output_type": "stream",
     "text": [
      "Model: \"sequential_17\"\n",
      "_________________________________________________________________\n",
      " Layer (type)                Output Shape              Param #   \n",
      "=================================================================\n",
      " dense_9 (Dense)             (None, 32)                25120     \n",
      "                                                                 \n",
      "=================================================================\n",
      "Total params: 25120 (98.12 KB)\n",
      "Trainable params: 25120 (98.12 KB)\n",
      "Non-trainable params: 0 (0.00 Byte)\n",
      "_________________________________________________________________\n"
     ]
    }
   ],
   "source": [
    "from keras.models import Sequential\n",
    "from keras.layers import Activation,Dense\n",
    "from keras import constraints\n",
    "model = Sequential()\n",
    "cons = constraints.MinMaxNorm(min_value=0,max_value=5,rate= 1.0,axis=0)\n",
    "model.add(Dense(32,input_shape = (784,),kernel_constraint = cons,activation = 'relu'))\n",
    "model.summary()"
   ]
  },
  {
   "cell_type": "code",
   "execution_count": null,
   "metadata": {
    "datalore": {
     "hide_input_from_viewers": false,
     "hide_output_from_viewers": false,
     "node_id": "oXsfYs9NkTEJFLMRGVYlHt",
     "report_properties": {
      "rowId": "pQzFRtA5YibCDVGoe7sqGP"
     },
     "type": "CODE"
    }
   },
   "outputs": [],
   "source": [
    "#regularizers\n",
    "#regularizers are used in the optimization phase. \n",
    "#It applies some penalties on the layer parameter during optimization. Keras regularization module provides below functions to set penalties on the layer. \n",
    "#Regularization applies per-layer basis only.\n",
    "#l1\n",
    "#l2\n",
    "#l1 and l2"
   ]
  },
  {
   "cell_type": "code",
   "execution_count": null,
   "metadata": {
    "datalore": {
     "hide_input_from_viewers": false,
     "hide_output_from_viewers": false,
     "node_id": "yYiivek6SNTcg4xVR1JIgK",
     "report_properties": {
      "rowId": "9VL24pPyMDttB8q85C5hGS"
     },
     "type": "CODE"
    }
   },
   "outputs": [
    {
     "name": "stdout",
     "output_type": "stream",
     "text": [
      "Model: \"sequential_18\"\n",
      "_________________________________________________________________\n",
      " Layer (type)                Output Shape              Param #   \n",
      "=================================================================\n",
      " dense_10 (Dense)            (None, 64)                50240     \n",
      "                                                                 \n",
      "=================================================================\n",
      "Total params: 50240 (196.25 KB)\n",
      "Trainable params: 50240 (196.25 KB)\n",
      "Non-trainable params: 0 (0.00 Byte)\n",
      "_________________________________________________________________\n"
     ]
    }
   ],
   "source": [
    "from keras.models import Sequential\n",
    "from keras.layers import Activation,Dense\n",
    "from keras import regularizers\n",
    "model = Sequential()\n",
    "reg = regularizers.l1(0.)\n",
    "model.add(Dense(64,input_shape=(784,),activation = 'relu',kernel_regularizer = reg))\n",
    "model.summary()"
   ]
  },
  {
   "cell_type": "code",
   "execution_count": null,
   "metadata": {
    "datalore": {
     "hide_input_from_viewers": false,
     "hide_output_from_viewers": false,
     "node_id": "3ywLx7psiAorvP3H6pB2Hb",
     "report_properties": {
      "rowId": "li1Xt57MugIH9aTJdvyIU3"
     },
     "type": "CODE"
    }
   },
   "outputs": [
    {
     "name": "stdout",
     "output_type": "stream",
     "text": [
      "Model: \"sequential_20\"\n",
      "_________________________________________________________________\n",
      " Layer (type)                Output Shape              Param #   \n",
      "=================================================================\n",
      " dense_12 (Dense)            (None, 64)                50240     \n",
      "                                                                 \n",
      "=================================================================\n",
      "Total params: 50240 (196.25 KB)\n",
      "Trainable params: 50240 (196.25 KB)\n",
      "Non-trainable params: 0 (0.00 Byte)\n",
      "_________________________________________________________________\n"
     ]
    }
   ],
   "source": [
    "from keras.models import Sequential\n",
    "from keras.layers import Activation,Dense\n",
    "from keras import regularizers\n",
    "model = Sequential()\n",
    "reg = regularizers.l2(0.)\n",
    "model.add(Dense(64,input_shape=(784,),activation = 'relu',kernel_regularizer = reg))\n",
    "model.summary()"
   ]
  },
  {
   "cell_type": "code",
   "execution_count": null,
   "metadata": {
    "datalore": {
     "hide_input_from_viewers": false,
     "hide_output_from_viewers": false,
     "node_id": "9VJCigFyzbPLjXyFLbMNaQ",
     "report_properties": {
      "rowId": "mRzZKFSirVJ6GEvrhpdgx3"
     },
     "type": "CODE"
    }
   },
   "outputs": [
    {
     "name": "stdout",
     "output_type": "stream",
     "text": [
      "Model: \"sequential_21\"\n",
      "_________________________________________________________________\n",
      " Layer (type)                Output Shape              Param #   \n",
      "=================================================================\n",
      " dense_13 (Dense)            (None, 64)                50240     \n",
      "                                                                 \n",
      "=================================================================\n",
      "Total params: 50240 (196.25 KB)\n",
      "Trainable params: 50240 (196.25 KB)\n",
      "Non-trainable params: 0 (0.00 Byte)\n",
      "_________________________________________________________________\n"
     ]
    }
   ],
   "source": [
    "from keras.models import Sequential\n",
    "from keras.layers import Activation,Dense\n",
    "from keras import regularizers\n",
    "model = Sequential()\n",
    "reg = regularizers.l1_l2(0.)\n",
    "model.add(Dense(64,input_shape=(784,),activation = 'relu',kernel_regularizer = reg))\n",
    "model.summary()"
   ]
  },
  {
   "cell_type": "code",
   "execution_count": null,
   "metadata": {
    "datalore": {
     "hide_input_from_viewers": false,
     "hide_output_from_viewers": false,
     "node_id": "TTz8bPS0qSZRpxSK7OGFps",
     "report_properties": {
      "rowId": "xLdPz9ZSxPjiSJGzYy8jSL"
     },
     "type": "CODE"
    }
   },
   "outputs": [],
   "source": [
    "#ACTIVATION\n",
    "#activation funciton does a non linear transformation on the inputdata\n",
    "#result = Activation(SUMOF(input * weight) + bias)\n",
    "#1. linear\n",
    "#2. elu(exponential linear unit)\n",
    "#3. selu(scaled exponential linear unit)\n",
    "#4. relu(rectifed linear unit)\n",
    "#5. softmax\n",
    "#6. softpluis\n",
    "#7. softsign\n",
    "#8. sigmoid\n",
    "#9. hard_sigmoid\n",
    "#10. tanh \n",
    "#11. exponential"
   ]
  },
  {
   "cell_type": "code",
   "execution_count": null,
   "metadata": {
    "datalore": {
     "hide_input_from_viewers": false,
     "hide_output_from_viewers": false,
     "node_id": "PfRcigkS0xyu0V0UTZ18C4",
     "report_properties": {
      "rowId": "B8mz30yzX1sRg5yfUXoOPy"
     },
     "type": "CODE"
    }
   },
   "outputs": [],
   "source": [
    "#dense layer\n",
    "#output = activation(dot(input,weight)+bias)"
   ]
  },
  {
   "cell_type": "code",
   "execution_count": null,
   "metadata": {
    "datalore": {
     "hide_input_from_viewers": false,
     "hide_output_from_viewers": false,
     "node_id": "LR0LHrUpSZzHLbwNL0ekyW",
     "report_properties": {
      "rowId": "0mo6P6LRZ0rddVdqzQxKn0"
     },
     "type": "CODE"
    }
   },
   "outputs": [
    {
     "data": {
      "text/html": [
       "<pre>array([[1.9, 2.2],\n",
       "       [4.3, 5. ]])</pre>"
      ]
     },
     "metadata": {},
     "output_type": "display_data"
    }
   ],
   "source": [
    "import numpy as np\n",
    "inputs = [[1,2],[3,4]]\n",
    "weight = [[0.5,0.6],[0.7,0.8]]\n",
    "res = np.dot(inputs,weight)\n",
    "res"
   ]
  },
  {
   "cell_type": "code",
   "execution_count": null,
   "metadata": {
    "datalore": {
     "hide_input_from_viewers": false,
     "hide_output_from_viewers": false,
     "node_id": "nBYjsIpQuilwmxXTsyUHaJ",
     "report_properties": {
      "rowId": "gyMbSnz8kHzmXvIq3OwfVm"
     },
     "type": "CODE"
    }
   },
   "outputs": [
    {
     "data": {
      "text/plain": [
       "(None, 16)"
      ]
     },
     "metadata": {},
     "output_type": "display_data"
    }
   ],
   "source": [
    "from keras.models import Sequential\n",
    "from keras.layers import Dense\n",
    "model = Sequential()\n",
    "layer1 = Dense(16,input_shape = (8,))\n",
    "model.add(layer1)\n",
    "layer1.input_shape\n",
    "layer1.output_shape"
   ]
  },
  {
   "cell_type": "code",
   "execution_count": null,
   "metadata": {
    "datalore": {
     "hide_input_from_viewers": false,
     "hide_output_from_viewers": false,
     "node_id": "EHt7A8vBUMJgJJWux43iS6",
     "report_properties": {
      "rowId": "DRvcqdMxE0tEsFwXvUT7T1"
     },
     "type": "CODE"
    }
   },
   "outputs": [],
   "source": [
    "#ARGUMENTS TAKEN BY THE DENSE LAYER\n",
    "#units represent the number of units and it affects the output layer.\n",
    "#activation represents the activation function.\n",
    "# use_bias represents whether the layer uses a bias vector.\n",
    "# kernel_initializer represents the initializer to be used for kernel.\n",
    "# bias_initializer represents the initializer to be used for the bias vector.\n",
    "# kernel_regularizer represents the regularizer function to be applied to the kernel\n",
    "# weights matrix.\n",
    "# bias_regularizer represents the regularizer function to be applied to the bias vector.\n",
    "# activity_regularizer represents the regularizer function tp be applied to the output\n",
    "# of the layer.\n",
    "# kernel_constraint represent constraint function to be applied to the kernel weights\n",
    "# matrix.\n",
    "# bias_constraint represent constraint function to be applied to the bias vector."
   ]
  },
  {
   "cell_type": "code",
   "execution_count": null,
   "metadata": {
    "datalore": {
     "hide_input_from_viewers": false,
     "hide_output_from_viewers": false,
     "node_id": "4i30ndtrksVxwUD3mYjQmV",
     "report_properties": {
      "rowId": "yP3iAjXjleabfw2HEhrpWJ"
     },
     "type": "CODE"
    }
   },
   "outputs": [],
   "source": [
    "#METHODS IN THE DENSE LAYER\n",
    "#1. get_weight-->gives the full list of the weigthts used in the code\n",
    "#2. get_config--> gives the complete configuration of the object which can be reloded at any time\n",
    "#3. from_config--> reload from the loaded layer\n",
    "#4. input()-->Get the input data, if only the layer has single node.\n",
    "#5.get_input_at: Get the input data at the specified index, if the layer has multiple node\n",
    "#6. get_input_shape_at: Get the input shape at the specified index, if the layer has multiple node\n",
    "#7. output_shape: Get the output shape, if only the layer has single node.\n",
    "#get_output_at: Get the output data at the specified index, if the layer has multiple node\n",
    "# get_output_shape_ at: Get the output shape at the specified index, if the layer has multiple node"
   ]
  },
  {
   "cell_type": "code",
   "execution_count": null,
   "metadata": {
    "datalore": {
     "hide_input_from_viewers": false,
     "hide_output_from_viewers": false,
     "node_id": "c7oijgNDddmLaO1QQwoxt1",
     "report_properties": {
      "rowId": "lbalzStHxUfqyPx6byAOzs"
     },
     "type": "CODE"
    }
   },
   "outputs": [
    {
     "data": {
      "text/plain": [
       "[array([[ 1.6861372e-02, -6.7227170e-02, -3.7884947e-02, ...,\n",
       "          2.3184568e-03, -5.6096517e-02,  8.3822094e-02],\n",
       "        [-6.5614998e-02,  8.4527858e-02, -8.1406996e-02, ...,\n",
       "         -3.6525078e-02, -2.3066178e-03, -2.7137171e-02],\n",
       "        [ 5.3272225e-02,  4.8791610e-02, -8.2999133e-02, ...,\n",
       "          4.8343904e-02, -5.6691159e-02, -7.5704776e-02],\n",
       "        ...,\n",
       "        [-1.4364928e-02,  2.6844442e-05, -7.4475817e-02, ...,\n",
       "         -3.7294108e-02,  6.1052375e-02,  2.9158555e-02],\n",
       "        [ 4.9594991e-02,  8.2863756e-02,  4.5932136e-02, ...,\n",
       "          4.2581938e-02,  6.9965668e-02, -5.4937676e-02],\n",
       "        [-4.3294694e-02, -4.6157762e-02,  4.6861805e-02, ...,\n",
       "          8.3234288e-02,  3.3656955e-02, -7.7600427e-02]], dtype=float32),\n",
       " array([0., 0., 0., 0., 0., 0., 0., 0., 0., 0., 0., 0., 0., 0., 0., 0., 0.,\n",
       "        0., 0., 0., 0., 0., 0., 0., 0., 0., 0., 0., 0., 0., 0., 0.],\n",
       "       dtype=float32)]"
      ]
     },
     "metadata": {},
     "output_type": "display_data"
    }
   ],
   "source": [
    "#get_Weights\n",
    "from keras.models import Sequential\n",
    "from keras.layers import Dense , Activation\n",
    "model = Sequential()\n",
    "layer_1 = Dense(32,input_shape = (784,),activation = 'relu')\n",
    "model.add(layer_1)\n",
    "layer_1.get_weights()"
   ]
  },
  {
   "cell_type": "code",
   "execution_count": null,
   "metadata": {
    "datalore": {
     "hide_input_from_viewers": false,
     "hide_output_from_viewers": false,
     "node_id": "mDLuAWl5O83stwUBYYOdu9",
     "report_properties": {
      "rowId": "B8qRdV1NrDCnnNHy1F4sZD"
     },
     "type": "CODE"
    }
   },
   "outputs": [
    {
     "data": {
      "text/plain": [
       "{'name': 'dense',\n",
       " 'trainable': True,\n",
       " 'dtype': 'float32',\n",
       " 'batch_input_shape': (None, 784),\n",
       " 'units': 64,\n",
       " 'activation': 'elu',\n",
       " 'use_bias': True,\n",
       " 'kernel_initializer': {'module': 'keras.initializers',\n",
       "  'class_name': 'GlorotUniform',\n",
       "  'config': {'seed': None},\n",
       "  'registered_name': None},\n",
       " 'bias_initializer': {'module': 'keras.initializers',\n",
       "  'class_name': 'Zeros',\n",
       "  'config': {},\n",
       "  'registered_name': None},\n",
       " 'kernel_regularizer': None,\n",
       " 'bias_regularizer': None,\n",
       " 'activity_regularizer': None,\n",
       " 'kernel_constraint': None,\n",
       " 'bias_constraint': None}"
      ]
     },
     "metadata": {},
     "output_type": "display_data"
    }
   ],
   "source": [
    "#get_config\n",
    "from keras.models import Sequential\n",
    "from keras.layers import Dense,Activation\n",
    "model = Sequential()\n",
    "layer_1 = Dense(64,input_shape = (784,),activation = 'elu')\n",
    "model.add(layer_1)\n",
    "layer_1.get_config()"
   ]
  },
  {
   "cell_type": "code",
   "execution_count": null,
   "metadata": {
    "datalore": {
     "hide_input_from_viewers": false,
     "hide_output_from_viewers": false,
     "node_id": "KCLCvqL0DP5bhIa8OmdbS8",
     "report_properties": {
      "rowId": "NJy9UsCYMhLM59i7AEGofY"
     },
     "type": "CODE"
    }
   },
   "outputs": [],
   "source": [
    "#from_config\n",
    "from keras.models import Sequential\n",
    "from keras.layers import Dense,Activation\n",
    "model = Sequential()\n",
    "layer_1 = Dense(64,input_shape = (784,),activation = 'relu')\n",
    "model.add(layer_1)\n",
    "config = layer_1.get_config()\n",
    "reload = Dense.from_config(config)"
   ]
  },
  {
   "cell_type": "code",
   "execution_count": null,
   "metadata": {
    "datalore": {
     "hide_input_from_viewers": false,
     "hide_output_from_viewers": false,
     "node_id": "1s0Vgtt8fVzj4UM9ci88HB",
     "report_properties": {
      "rowId": "6zU6EVbOd5UFQt3FBA8aY9"
     },
     "type": "CODE"
    }
   },
   "outputs": [
    {
     "data": {
      "text/plain": [
       "<KerasTensor: shape=(None, 784) dtype=float32 (created by layer 'dense_8_input')>"
      ]
     },
     "metadata": {},
     "output_type": "display_data"
    }
   ],
   "source": [
    "from keras.models import Sequential\n",
    "from keras.layers import Dense,Activation\n",
    "model = Sequential()\n",
    "layer_1 = Dense(64,input_shape = (784,),activation = 'relu')\n",
    "layer_2 = Dense(128,input_shape = (16,),activation = 'relu')\n",
    "model.add(layer_1)\n",
    "layer_1.input\n",
    "#layer_2.input"
   ]
  },
  {
   "cell_type": "code",
   "execution_count": null,
   "metadata": {
    "datalore": {
     "hide_input_from_viewers": false,
     "hide_output_from_viewers": false,
     "node_id": "nNn36HX3cG78cPtOrx4qBv",
     "report_properties": {
      "rowId": "VYGRpd80jvdvOSyPgZbIA3"
     },
     "type": "CODE"
    }
   },
   "outputs": [],
   "source": [
    "#get_input_shape_at\n",
    "from keras.models import Sequential\n",
    "from keras.layers import Dense,Activation\n",
    "model = Sequential()\n",
    "layer_1 = Dense(64,input_shape = (784,),activation = 'relu')\n",
    "layer_2 = Dense(128,input_shape = (16,),activation = 'relu')\n",
    "model.add(layer_1)\n",
    "model.add(layer_2)\n",
    "#layer_1.get_input_shape_at(784)"
   ]
  },
  {
   "cell_type": "code",
   "execution_count": null,
   "metadata": {
    "datalore": {
     "hide_input_from_viewers": false,
     "hide_output_from_viewers": false,
     "node_id": "5wkCWmBgkQv4q3uDcHzGCs",
     "report_properties": {
      "rowId": "2ViyJGGbUI6bmuw0WGHNRG"
     },
     "type": "CODE"
    }
   },
   "outputs": [],
   "source": [
    "#DROPOUT LAYERS\n",
    "#very important because it fixes the issuer of over fitting\n",
    "#the drop layer will remove the noise from the input data and decrease he chances of over fitting\n",
    "#keras.layers.Dropout(rate,noise_shape = None, seed = None)\n",
    "#rate should be from 0-->1\n",
    "#noise_shape represent the dimension of the shape in which the dropout to be applied. For example, the input shape is (batch_size, timesteps, features). Then, to apply dropout in the timesteps, (batch_size, 1, features) need to be\n",
    "#specified as noise_shape\n",
    "#random seed ensuers that the results are reproducable\n",
    "#FLATTEN LAYERS\n",
    "#FLATTEN LAYER IS USED TO FLATEN THE INPUT\n",
    "#keras.layers.flatten(data_format=None)\n",
    "#EXAMPLE (batch_size,2,2)--> (batcg_size,4)\n",
    "#RESHAPE LAYER\n",
    "#used to reshape the input \n",
    "#if the input is (batch_size,2,3) the reshape would  reshape the layer into(batch_size,3,2)\n",
    "#LAMDA LAYER \n",
    "#used to transform the input data by a given expression\n",
    "#if th expression is x:x**2 the input is squared coherent to the equation\n",
    "#keras.layers.lamda(function,output_shape=None,mask = None,argumemts = None)\n",
    "#function represent the lambda function.\n",
    "#output_shape represent the shape of the transformed input.\n",
    "#mask represent the mask to be applied, if any.\n",
    "#arguments represent the optional argument for the lamda function as dictionary."
   ]
  },
  {
   "cell_type": "code",
   "execution_count": null,
   "metadata": {
    "datalore": {
     "hide_input_from_viewers": true,
     "hide_output_from_viewers": true,
     "node_id": "RGbBEWMhhY7EqBZaVHRBrp",
     "type": "CODE"
    }
   },
   "outputs": [],
   "source": [
    "#convlution layers\n",
    "#convolutional nueral netwrok is similar to multi layer pereptron except that it contains series of convolution layer and pooling layer beifre the fully connected hidden nueron\n",
    "# Convolution between two functions in mathematics produces a third function expressing how the shape of one function is modified by other\n",
    "#filters-->it refers to the number of filters to be applied tp the convolution \n",
    "#it affects the dimension of the output layer\n",
    "#kernel_size--> it refers to the length of the convolution window\n",
    "#padding--> it refers to the type of the padding to be applied on the convolution layer\n",
    "#1. valid-->means no padding\n",
    "#2. causal-->means casual convultion\n",
    "#3. same-->means the output layer should have the same dimension as the input layer\n",
    "#dialtion_rate--> should be applied to the dialted convultion\n",
    "#channel_last and channel_first-->specifes that the channel data is place at the last"
   ]
  },
  {
   "cell_type": "code",
   "execution_count": null,
   "metadata": {
    "datalore": {
     "hide_input_from_viewers": true,
     "hide_output_from_viewers": true,
     "node_id": "iLVTw8DWc3rtN5w0MRT3DY",
     "type": "CODE"
    }
   },
   "outputs": [
    {
     "data": {
      "text/plain": [
       "<keras.layers.convolutional.conv1d.Conv1D at 0x17e4914c0>"
      ]
     },
     "execution_count": 3,
     "metadata": {},
     "output_type": "execute_result"
    }
   ],
   "source": [
    "#conv1D layer\n",
    "#used i temporal based CNNS\n",
    "#inputs--> (batch_size,timesteps,features)\n",
    "#output-->(batch_szie,new,new_steps,filters)\n",
    "import keras\n",
    "\n",
    "from keras.layers import Conv1D\n",
    "keras.layers.Conv1D(\n",
    "filters=1024,\n",
    "kernel_size=(5),\n",
    "strides=1,\n",
    "padding='valid',\n",
    "data_format='channels_last',\n",
    "dilation_rate=1,\n",
    "activation=None,\n",
    "use_bias=True,\n",
    "kernel_initializer='glorot_uniform',\n",
    "bias_initializer='zeros',\n",
    "kernel_regularizer=None,\n",
    "bias_regularizer=None,\n",
    "activity_regularizer=None,\n",
    "kernel_constraint=None,\n",
    "bias_constraint=None)"
   ]
  },
  {
   "cell_type": "code",
   "execution_count": 8,
   "metadata": {
    "datalore": {
     "hide_input_from_viewers": true,
     "hide_output_from_viewers": true,
     "node_id": "JrtSFgHGMGFx1zaDkOnzNY",
     "type": "CODE"
    }
   },
   "outputs": [
    {
     "ename": "ValueError",
     "evalue": "cannot reshape array of size 47040000 into shape (600000,28,28,1)",
     "output_type": "error",
     "traceback": [
      "\u001b[0;31m---------------------------------------------------------------------------\u001b[0m",
      "\u001b[0;31mValueError\u001b[0m                                Traceback (most recent call last)",
      "Cell \u001b[0;32mIn[8], line 27\u001b[0m\n\u001b[1;32m     24\u001b[0m     plt\u001b[38;5;241m.\u001b[39mimshow(training_images[i], cmap\u001b[38;5;241m=\u001b[39mplt\u001b[38;5;241m.\u001b[39mcm\u001b[38;5;241m.\u001b[39mbinary)\n\u001b[1;32m     25\u001b[0m     plt\u001b[38;5;241m.\u001b[39mxlabel(class_names[training_labels[i]])\n\u001b[0;32m---> 27\u001b[0m training_images \u001b[38;5;241m=\u001b[39m \u001b[43mtraining_images\u001b[49m\u001b[38;5;241;43m.\u001b[39;49m\u001b[43mreshape\u001b[49m\u001b[43m(\u001b[49m\u001b[43m(\u001b[49m\u001b[38;5;241;43m600000\u001b[39;49m\u001b[43m,\u001b[49m\u001b[43m \u001b[49m\u001b[38;5;241;43m28\u001b[39;49m\u001b[43m,\u001b[49m\u001b[43m \u001b[49m\u001b[38;5;241;43m28\u001b[39;49m\u001b[43m,\u001b[49m\u001b[43m \u001b[49m\u001b[38;5;241;43m1\u001b[39;49m\u001b[43m)\u001b[49m\u001b[43m)\u001b[49m\u001b[38;5;241m.\u001b[39mastype(\u001b[38;5;124m'\u001b[39m\u001b[38;5;124mfloat32\u001b[39m\u001b[38;5;124m'\u001b[39m) \u001b[38;5;241m/\u001b[39m \u001b[38;5;241m255\u001b[39m\n\u001b[1;32m     28\u001b[0m training_labels \u001b[38;5;241m=\u001b[39m to_categorical(training_labels)\n\u001b[1;32m     29\u001b[0m testing_images \u001b[38;5;241m=\u001b[39m testing_images\u001b[38;5;241m.\u001b[39mreshape((\u001b[38;5;241m30000\u001b[39m, \u001b[38;5;241m28\u001b[39m, \u001b[38;5;241m28\u001b[39m, \u001b[38;5;241m1\u001b[39m))\u001b[38;5;241m.\u001b[39mastype(\u001b[38;5;124m'\u001b[39m\u001b[38;5;124mfloat32\u001b[39m\u001b[38;5;124m'\u001b[39m) \u001b[38;5;241m/\u001b[39m \u001b[38;5;241m255\u001b[39m\n",
      "\u001b[0;31mValueError\u001b[0m: cannot reshape array of size 47040000 into shape (600000,28,28,1)"
     ]
    },
    {
     "data": {
      "image/png": "[encoded data removed]",
      "text/plain": [
       "<Figure size 640x480 with 16 Axes>"
      ]
     },
     "metadata": {},
     "output_type": "display_data"
    }
   ],
   "source": [
    "import tensorflow as tf\n",
    "from tensorflow import keras\n",
    "import numpy as np\n",
    "import matplotlib.pyplot as plt\n",
    "import cv2 as cv\n",
    "from keras import datasets, layers, models\n",
    "from keras.utils import to_categorical\n",
    "\n",
    "# Set the TensorFlow Metal backend\n",
    "# tf.config.experimental.set_memory_growth(tf.config.list_physical_devices('GPU')[0], True)\n",
    "# tf.config.set_visible_devices([], 'GPU')\n",
    "tf.config.set_visible_devices(tf.config.list_physical_devices('GPU')[0], 'GPU')\n",
    "\n",
    "(training_images, training_labels), (testing_images, testing_labels) = datasets.mnist.load_data()\n",
    "\n",
    "# Normalizing the images range from 0 to 1\n",
    "training_images, testing_images = training_images / 255, testing_images / 255\n",
    "class_names = ['zero', 'one', 'two', 'three', 'four', 'five', 'six', 'seven', 'eight', 'nine']\n",
    "\n",
    "# for i in range(16):\n",
    "#     plt.subplot(4, 4, i+1)\n",
    "#     plt.xticks([])\n",
    "#     plt.yticks([])\n",
    "#     plt.imshow(training_images[i], cmap=plt.cm.binary)\n",
    "#     plt.xlabel(class_names[training_labels[i]])\n",
    "\n",
    "training_images = training_images.reshape((60000, 28, 28, 1)).astype('float32') / 255\n",
    "training_labels = to_categorical(training_labels)\n",
    "testing_images = testing_images.reshape((10000, 28, 28, 1)).astype('float32') / 255\n",
    "testing_labels = to_categorical(testing_labels)\n",
    "\n",
    "model = models.Sequential()\n",
    "model.add(layers.Conv2D(32, (3, 3), activation='relu', input_shape=(28, 28, 1)))\n",
    "model.add(layers.MaxPooling2D(2, 2))\n",
    "model.add(layers.Conv2D(64, (3, 3), activation='relu'))\n",
    "model.add(layers.MaxPooling2D(2, 2))\n",
    "model.add(layers.Conv2D(64, (3, 3), activation='relu'))\n",
    "model.add(layers.Flatten())\n",
    "model.add(layers.Dense(64, activation='relu'))\n",
    "model.add(layers.Dense(10, activation='softmax'))\n",
    "\n",
    "model.compile(optimizer='adam', loss='categorical_crossentropy', metrics=['accuracy'])\n",
    "\n",
    "model.fit(training_images, training_labels, epochs=20, batch_size=32, validation_split=0.2)\n",
    "model.save(\"image_classifier.model\")\n",
    "#model = models.load_model(\"image_classifier.model\")\n",
    "#predict the model\n",
    "# img = cv.imread(\"/Users/rohithr/Desktop/deep_learning/three.png\")\n",
    "# img = cv.resize(img,(28,28))\n",
    "# img = cv.cvtColor(img,cv.COLOR_BGR2GRAY)\n",
    "# plt.imshow(img,cmap = plt.cm.binary)\n",
    "# prediction = model.predict(np.array([img]) / 255)\n",
    "# index = np.argmax(prediction)\n",
    "# print(f'prediction is {class_names[index]}')"
   ]
  },
  {
   "cell_type": "code",
   "execution_count": 10,
   "metadata": {},
   "outputs": [
    {
     "name": "stdout",
     "output_type": "stream",
     "text": [
      "[LogicalDevice(name='/device:CPU:0', device_type='CPU'), LogicalDevice(name='/device:GPU:0', device_type='GPU')]\n"
     ]
    }
   ],
   "source": [
    "print(tf.config.list_logical_devices())"
   ]
  },
  {
   "cell_type": "code",
   "execution_count": 4,
   "metadata": {},
   "outputs": [
    {
     "name": "stdout",
     "output_type": "stream",
     "text": [
      "6.0\n"
     ]
    },
    {
     "name": "stderr",
     "output_type": "stream",
     "text": [
      "2024-03-07 11:04:16.408201: I tensorflow/core/common_runtime/pluggable_device/pluggable_device_factory.cc:303] Could not identify NUMA node of platform GPU ID 0, defaulting to 0. Your kernel may not have been built with NUMA support.\n",
      "2024-03-07 11:04:16.408577: I tensorflow/core/common_runtime/pluggable_device/pluggable_device_factory.cc:269] Created TensorFlow device (/job:localhost/replica:0/task:0/device:GPU:0 with 0 MB memory) -> physical PluggableDevice (device: 0, name: METAL, pci bus id: <undefined>)\n",
      "2024-03-07 11:04:16.429212: I tensorflow/core/grappler/optimizers/custom_graph_optimizer_registry.cc:114] Plugin optimizer for device_type GPU is enabled.\n"
     ]
    }
   ],
   "source": [
    "import tensorflow as tf\n",
    "sess = tf.compat.v1.disable_eager_execution()\n",
    "a = tf.constant(2.0)\n",
    "b = tf.constant(3.0)\n",
    "c = a*b\n",
    "sess = tf.compat.v1.Session()\n",
    "print(sess.run(c))\n"
   ]
  },
  {
   "cell_type": "code",
   "execution_count": null,
   "metadata": {},
   "outputs": [],
   "source": []
  }
 ],
 "metadata": {
  "datalore": {
   "base_environment": "default",
   "computation_mode": "JUPYTER",
   "package_manager": "pip",
   "packages": [
    {
     "name": "pydot",
     "source": "PIP",
     "version": "1.4.2"
    },
    {
     "name": "graphviz",
     "source": "PIP",
     "version": "0.20.1"
    },
    {
     "name": "tensorflow",
     "source": "PIP",
     "version": "2.13.0"
    }
   ],
   "report_row_ids": [
    "FXnpD1s7STLFbdRuMP4x5x",
    "7h2ATF0Kush3ujbdc7VBNp",
    "8dr1YIrHNYvpiNzk5JiWGy",
    "OSQ2kBgWvuWdlFKCuUFZof",
    "r8f6XaoTp9ZZTSMVqotyOp",
    "Es4sHrYpMapBb5unDraZ7O",
    "0p14Gd4wgmiv3a6lz95Ikf",
    "JrM0dJYeOCkxgartz4maCV",
    "XdqqGBSqHOXMLG5JiRwutC",
    "PqxyNCgvKpO3pVMt4VrD0y",
    "5qsLhoDJBrfn1f4lvZUXxm",
    "pUoXTbUgA1qLg3tLPLPGaS",
    "4Ybkl2nhPq6pVoskrZ3ykX",
    "iuZXCcf4mBGDWbxH53Gk3w",
    "uIdaXsYp0RueReH8ygXehV",
    "vuC6cJTkCdwNNd0d84fGfB",
    "NBJaywOWG1dLoeQmAHSpnn",
    "grO9qvTtAuN3CesacEF6IM",
    "VCO8kcvjZCGKESSzISrVSC",
    "W8tDnVGf82DdrNDnrNAHui",
    "5B75kPbKr2BxvidclnMcfv",
    "ewhtWMgjWrdqYZHJ9Ekmhn",
    "aVBcNORCTL2c6qyKOzKFni",
    "nkJ5ldBoUWV5KhxDX7Ld4W",
    "iqdglfkQSAs0gC3bvFwB5A",
    "4ViVcKJtOR7q0IZ5HOWfSH",
    "GUvDcwbRmuvm3HYxsYwMmD",
    "zcWEdQeK4CnhzNDFDDFKVa",
    "dgIDCjB06IQwp89bpNZ1S7",
    "pmwQZpvtuOyHjQMjffQLcs",
    "HgMfp4g3SYV5g53nM569Oo",
    "pntT5ak0ivHJOy6iOdisD1",
    "GJA6fetedOWrHH97eJD0It",
    "qF67xTo37w5fCvkM9I8W9E",
    "pQzFRtA5YibCDVGoe7sqGP",
    "9VL24pPyMDttB8q85C5hGS",
    "li1Xt57MugIH9aTJdvyIU3",
    "mRzZKFSirVJ6GEvrhpdgx3",
    "xLdPz9ZSxPjiSJGzYy8jSL",
    "B8mz30yzX1sRg5yfUXoOPy",
    "0mo6P6LRZ0rddVdqzQxKn0",
    "gyMbSnz8kHzmXvIq3OwfVm",
    "DRvcqdMxE0tEsFwXvUT7T1",
    "yP3iAjXjleabfw2HEhrpWJ",
    "lbalzStHxUfqyPx6byAOzs",
    "B8qRdV1NrDCnnNHy1F4sZD",
    "NJy9UsCYMhLM59i7AEGofY",
    "6zU6EVbOd5UFQt3FBA8aY9",
    "VYGRpd80jvdvOSyPgZbIA3",
    "2ViyJGGbUI6bmuw0WGHNRG"
   ],
   "version": 3
  },
  "kernelspec": {
   "display_name": "myenv",
   "language": "python",
   "name": "python3"
  },
  "language_info": {
   "codemirror_mode": {
    "name": "ipython",
    "version": 3
   },
   "file_extension": ".py",
   "mimetype": "text/x-python",
   "name": "python",
   "nbconvert_exporter": "python",
   "pygments_lexer": "ipython3",
   "version": "3.8.18"
  }
 },
 "nbformat": 4,
 "nbformat_minor": 4
}
