{
 "cells": [
  {
   "cell_type": "code",
   "execution_count": 3,
   "metadata": {},
   "outputs": [
    {
     "name": "stdout",
     "output_type": "stream",
     "text": [
      "successful\n"
     ]
    }
   ],
   "source": [
    "#deep fake detection\n",
    "import tensorflow as tf\n",
    "import keras \n",
    "from keras.layers import Activation, Dense\n",
    "from keras.layers import Conv1D,Conv2D\n",
    "from keras.models import Sequential\n",
    "from keras import backend as k\n",
    "\n"
   ]
  },
  {
   "cell_type": "code",
   "execution_count": 5,
   "metadata": {},
   "outputs": [],
   "source": [
    "#gpu accelaration on online editors\n",
    "# import tensorflow as tf\n",
    "# device_name = tf.test.gpu_device_name()\n",
    "# if device_name != '/device:GPU:0':\n",
    "#   raise SystemError('GPU device not found')\n",
    "# print('Found GPU at: {}'.format(device_name))"
   ]
  },
  {
   "cell_type": "code",
   "execution_count": null,
   "metadata": {},
   "outputs": [],
   "source": [
    "#CODING THE GENERATIVE ADVERSARIAL  NETWORK\n",
    "#oading the functions\n",
    "#dense--> noise layer of the network\n",
    "#conv2dtranspose--> it enalbes us to convolve and upsacale the image at the same time\n",
    "#it is equivalent to upsampling2d followed by conv2d\n",
    "#LeakyRelu-->avoids gardeint vainsh problem\n",
    "#BatchNormalisation--> helps to normalise the covultion result\n",
    "#reshape--> helps to convert 1D array to 3D\n",
    "\n"
   ]
  },
  {
   "cell_type": "code",
   "execution_count": null,
   "metadata": {},
   "outputs": [],
   "source": []
  }
 ],
 "metadata": {
  "kernelspec": {
   "display_name": "myenv",
   "language": "python",
   "name": "python3"
  },
  "language_info": {
   "codemirror_mode": {
    "name": "ipython",
    "version": 3
   },
   "file_extension": ".py",
   "mimetype": "text/x-python",
   "name": "python",
   "nbconvert_exporter": "python",
   "pygments_lexer": "ipython3",
   "version": "3.9.17"
  },
  "orig_nbformat": 4
 },
 "nbformat": 4,
 "nbformat_minor": 2
}
