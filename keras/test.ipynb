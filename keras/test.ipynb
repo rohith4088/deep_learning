{
 "cells": [
  {
   "cell_type": "code",
   "execution_count": 1,
   "metadata": {},
   "outputs": [
    {
     "name": "stderr",
     "output_type": "stream",
     "text": [
      "2024-04-19 15:23:13.265706: I metal_plugin/src/device/metal_device.cc:1154] Metal device set to: Apple M1\n",
      "2024-04-19 15:23:13.265730: I metal_plugin/src/device/metal_device.cc:296] systemMemory: 8.00 GB\n",
      "2024-04-19 15:23:13.265743: I metal_plugin/src/device/metal_device.cc:313] maxCacheSize: 2.67 GB\n",
      "2024-04-19 15:23:13.265972: I tensorflow/core/common_runtime/pluggable_device/pluggable_device_factory.cc:303] Could not identify NUMA node of platform GPU ID 0, defaulting to 0. Your kernel may not have been built with NUMA support.\n",
      "2024-04-19 15:23:13.266166: I tensorflow/core/common_runtime/pluggable_device/pluggable_device_factory.cc:269] Created TensorFlow device (/job:localhost/replica:0/task:0/device:GPU:0 with 0 MB memory) -> physical PluggableDevice (device: 0, name: METAL, pci bus id: <undefined>)\n"
     ]
    },
    {
     "name": "stdout",
     "output_type": "stream",
     "text": [
      "Epoch 1/10\n"
     ]
    },
    {
     "name": "stderr",
     "output_type": "stream",
     "text": [
      "2024-04-19 15:23:13.899536: I tensorflow/core/grappler/optimizers/custom_graph_optimizer_registry.cc:114] Plugin optimizer for device_type GPU is enabled.\n"
     ]
    }
   ],
   "source": [
    "import tensorflow as tf\n",
    "from tensorflow import keras\n",
    "from keras.layers import Dense , SimpleRNN , Embedding\n",
    "from keras.models import Sequential\n",
    "from keras.utils import Sequence\n",
    "from keras.datasets import imdb\n",
    "\n",
    "max_len = 1000\n",
    "max_words = 500\n",
    "batch_size = 32\n",
    "\n",
    "(x_train , y_train) , (x_test , y_test) = imdb.load_data(num_words = max_words)\n",
    "x_train = keras.preprocessing.sequence.pad_sequences(x_train , maxlen = max_len)\n",
    "x_test = keras.preprocessing.sequence.pad_sequences(x_test,maxlen = max_len)\n",
    "\n",
    "model = Sequential()\n",
    "model.add(Embedding(max_words , 32))\n",
    "model.add(SimpleRNN(32))\n",
    "model.add(Dense(1,activation='sigmoid'))\n",
    "\n",
    "model.compile(optimizer='rmsprop' , loss = 'binary_crossentropy' , metrics = ['acc'])\n",
    "model.fit(x_train,y_train,epochs = 10 , batch_size = 32 , validation_split = 0.2)\n",
    "acc,score = model.evaluate(x_test,y_test)\n",
    "print(\"test accuracy\",acc)\n",
    "print(\"score\",score)\n"
   ]
  },
  {
   "cell_type": "code",
   "execution_count": 1,
   "metadata": {},
   "outputs": [
    {
     "name": "stderr",
     "output_type": "stream",
     "text": [
      "2024-04-19 15:13:57.625422: I metal_plugin/src/device/metal_device.cc:1154] Metal device set to: Apple M1\n",
      "2024-04-19 15:13:57.625440: I metal_plugin/src/device/metal_device.cc:296] systemMemory: 8.00 GB\n",
      "2024-04-19 15:13:57.625447: I metal_plugin/src/device/metal_device.cc:313] maxCacheSize: 2.67 GB\n",
      "2024-04-19 15:13:57.625721: I tensorflow/core/common_runtime/pluggable_device/pluggable_device_factory.cc:303] Could not identify NUMA node of platform GPU ID 0, defaulting to 0. Your kernel may not have been built with NUMA support.\n",
      "2024-04-19 15:13:57.625734: I tensorflow/core/common_runtime/pluggable_device/pluggable_device_factory.cc:269] Created TensorFlow device (/job:localhost/replica:0/task:0/device:GPU:0 with 0 MB memory) -> physical PluggableDevice (device: 0, name: METAL, pci bus id: <undefined>)\n"
     ]
    },
    {
     "name": "stdout",
     "output_type": "stream",
     "text": [
      "Epoch 1/10\n"
     ]
    },
    {
     "name": "stderr",
     "output_type": "stream",
     "text": [
      "2024-04-19 15:13:58.196329: I tensorflow/core/grappler/optimizers/custom_graph_optimizer_registry.cc:114] Plugin optimizer for device_type GPU is enabled.\n"
     ]
    },
    {
     "name": "stdout",
     "output_type": "stream",
     "text": [
      "  1/157 [..............................] - ETA: 18:46:02 - loss: 0.7054 - acc: 0.4688"
     ]
    }
   ],
   "source": [
    "import tensorflow as tf\n",
    "from tensorflow import keras\n",
    "from keras.layers import Dense , SimpleRNN , Embedding\n",
    "from keras.models import Sequential\n",
    "from keras.utils import Sequence\n",
    "from keras.datasets import imdb\n",
    "\n",
    "max_len = 1000\n",
    "max_words = 500\n",
    "batch_size = 32\n",
    "\n",
    "(x_train , y_train) , (x_test , y_test) = imdb.load_data(num_words = max_words)\n",
    "x_train = keras.preprocessing.sequence.pad_sequences(x_train , maxlen = max_len)\n",
    "x_test = keras.preprocessing.sequence.pad_sequences(x_test,maxlen = max_len)\n",
    "\n",
    "model = Sequential()\n",
    "model.add(Embedding(max_words , 32))\n",
    "model.add(SimpleRNN(32))\n",
    "model.add(Dense(1,activation='sigmoid'))\n",
    "\n",
    "model.compile(tf.keras.optimizers.legacy.RMSprop() , loss = 'binary_crossentropy' , metrics = ['acc'])\n",
    "model.fit(x_train,y_train,epochs = 10 , batch_size = 128 , validation_split = 0.2)\n",
    "acc,loss = model.evaluate(x_test,y_test)\n",
    "print(\"test accuracy\",acc)\n",
    "print(\"score\",score)\n"
   ]
  },
  {
   "cell_type": "code",
   "execution_count": 1,
   "metadata": {},
   "outputs": [
    {
     "name": "stderr",
     "output_type": "stream",
     "text": [
      "2024-04-19 15:25:06.837862: I metal_plugin/src/device/metal_device.cc:1154] Metal device set to: Apple M1\n",
      "2024-04-19 15:25:06.837889: I metal_plugin/src/device/metal_device.cc:296] systemMemory: 8.00 GB\n",
      "2024-04-19 15:25:06.837900: I metal_plugin/src/device/metal_device.cc:313] maxCacheSize: 2.67 GB\n",
      "2024-04-19 15:25:06.837935: I tensorflow/core/common_runtime/pluggable_device/pluggable_device_factory.cc:303] Could not identify NUMA node of platform GPU ID 0, defaulting to 0. Your kernel may not have been built with NUMA support.\n",
      "2024-04-19 15:25:06.837952: I tensorflow/core/common_runtime/pluggable_device/pluggable_device_factory.cc:269] Created TensorFlow device (/job:localhost/replica:0/task:0/device:GPU:0 with 0 MB memory) -> physical PluggableDevice (device: 0, name: METAL, pci bus id: <undefined>)\n"
     ]
    },
    {
     "name": "stdout",
     "output_type": "stream",
     "text": [
      "Epoch 1/10\n"
     ]
    },
    {
     "name": "stderr",
     "output_type": "stream",
     "text": [
      "2024-04-19 15:25:07.484416: I tensorflow/core/grappler/optimizers/custom_graph_optimizer_registry.cc:114] Plugin optimizer for device_type GPU is enabled.\n"
     ]
    }
   ],
   "source": [
    "import tensorflow as tf\n",
    "from tensorflow import keras\n",
    "from keras.layers import Dense , SimpleRNN , Embedding\n",
    "from keras.models import Sequential\n",
    "from keras.utils import Sequence\n",
    "from keras.datasets import imdb\n",
    "\n",
    "max_len = 1000\n",
    "max_words = 500\n",
    "batch_size = 32\n",
    "\n",
    "(x_train , y_train) , (x_test , y_test) = imdb.load_data(num_words = max_words)\n",
    "x_train = keras.preprocessing.sequence.pad_sequences(x_train , maxlen = max_len)\n",
    "x_test = keras.preprocessing.sequence.pad_sequences(x_test,maxlen = max_len)\n",
    "\n",
    "model = Sequential()\n",
    "model.add(Embedding(max_words , 32))\n",
    "model.add(SimpleRNN(32))\n",
    "model.add(Dense(1,activation='sigmoid'))\n",
    "\n",
    "model.compile(tf.keras.optimizers.legacy.RMSprop() , loss = 'binary_crossentropy' , metrics = ['acc'])\n",
    "model.fit(x_train,y_train,epochs = 10 , batch_size = 128 , validation_split = 0.2)\n",
    "acc,score = model.evaluate(x_test,y_test)\n",
    "print(\"test accuracy\",acc)\n",
    "print(\"score\",score)\n"
   ]
  },
  {
   "cell_type": "code",
   "execution_count": null,
   "metadata": {},
   "outputs": [],
   "source": []
  },
  {
   "cell_type": "code",
   "execution_count": null,
   "metadata": {},
   "outputs": [],
   "source": []
  }
 ],
 "metadata": {
  "kernelspec": {
   "display_name": "Python 3",
   "language": "python",
   "name": "python3"
  },
  "language_info": {
   "codemirror_mode": {
    "name": "ipython",
    "version": 3
   },
   "file_extension": ".py",
   "mimetype": "text/x-python",
   "name": "python",
   "nbconvert_exporter": "python",
   "pygments_lexer": "ipython3",
   "version": "3.8.18"
  }
 },
 "nbformat": 4,
 "nbformat_minor": 2
}
