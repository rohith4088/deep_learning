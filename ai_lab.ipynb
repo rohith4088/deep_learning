{
 "cells": [
  {
   "cell_type": "code",
   "execution_count": null,
   "metadata": {},
   "outputs": [],
   "source": [
    "import sys\n",
    "sys.set_int_max_str_digits(100000000)\n",
    "def factorial(n):\n",
    "    r = 1\n",
    "    for i in range(1,n+1):\n",
    "        r *= i\n",
    "    return r\n",
    "print(factorial(4000))"
   ]
  },
  {
   "cell_type": "code",
   "execution_count": null,
   "metadata": {},
   "outputs": [],
   "source": [
    "# def dp_fact(n,memo = {}):\n",
    "#     if n ==0 : return 1\n",
    "#     if n in memo: return memo[n]\n",
    "#     memo[n] = n*dp_fact(n-1,memo)\n",
    "#     return memo[n]\n",
    "# print(dp_fact(4000))\n",
    "    "
   ]
  },
  {
   "cell_type": "code",
   "execution_count": null,
   "metadata": {},
   "outputs": [],
   "source": [
    "#bfs\n",
    "graph = {\n",
    "  '5' : ['3','7'],\n",
    "  '3' : ['2', '4'],\n",
    "  '7' : ['8'],\n",
    "  '2' : [],\n",
    "  '4' : ['8'],\n",
    "  '8' : []\n",
    "}\n",
    "\n",
    "visited = [] # List for visited nodes.\n",
    "queue = []     #Initialize a queue\n",
    "\n",
    "def bfs(visited, graph, node): #function for BFS\n",
    "  visited.append(node)\n",
    "  queue.append(node)\n",
    "\n",
    "  while queue:          # Creating loop to visit each node\n",
    "    m = queue.pop(0) \n",
    "    print (m, end = \" \") \n",
    "\n",
    "    for neighbour in graph[m]:\n",
    "      if neighbour not in visited:\n",
    "        visited.append(neighbour)\n",
    "        queue.append(neighbour)\n",
    "\n",
    "# Driver Code\n",
    "print(\"Following is the Breadth-First Search\")\n",
    "bfs(visited, graph, '5')    # function calling"
   ]
  },
  {
   "cell_type": "code",
   "execution_count": null,
   "metadata": {},
   "outputs": [],
   "source": [
    "graph = {\n",
    "  '5' : ['3','7'],\n",
    "  '3' : ['2', '4'],\n",
    "  '7' : ['8'],\n",
    "  '2' : [],\n",
    "  '4' : ['8'],\n",
    "  '8' : []\n",
    "}\n",
    "visited = []\n",
    "queue = []\n",
    "def bfs(visited , graph , node):\n",
    "    visited.append(node)\n",
    "    queue.append(node)\n",
    "    while queue:\n",
    "        m = queue.pop(0)\n",
    "        print(m , end =\" \")\n",
    "        for neighbour in graph[m]:\n",
    "            if neighbour not in visited:\n",
    "                visited.append(neighbour)\n",
    "                queue.append(neighbour)\n",
    "#driever code\n",
    "print(\"the breadth first search algorithm is -->\")\n",
    "bfs(visited,graph,'5')\n",
    "            "
   ]
  },
  {
   "cell_type": "code",
   "execution_count": null,
   "metadata": {},
   "outputs": [],
   "source": [
    "graph  = {\n",
    "    '5' : ['3','7'],\n",
    "    '3' : ['2','4'],\n",
    "    '7' : ['8'],\n",
    "    '2' : [],\n",
    "    '4' : ['8'],\n",
    "    '8' : []\n",
    "    \n",
    "}\n",
    "visited = []\n",
    "queue = []\n",
    "def bfs(visited , graph , node):\n",
    "    visited.append(node)\n",
    "    queue.append(node)\n",
    "    while queue :\n",
    "        m = queue.pop(0)\n",
    "        print(m,end = \" \")\n",
    "        for neighbour in graph[m]:\n",
    "            if neighbour not in visited:\n",
    "                visited.append(neighbour)\n",
    "                queue.append(neighbour)\n",
    "print(\"the bfs result is-->\")\n",
    "bfs(visited,graph,'5')"
   ]
  },
  {
   "cell_type": "code",
   "execution_count": null,
   "metadata": {},
   "outputs": [],
   "source": [
    "graph = {\n",
    "    '5' : ['3','7'],\n",
    "    '3' : ['2','4'],\n",
    "    '7' : ['8'],\n",
    "    '2' : [],\n",
    "    '4' : ['8'],\n",
    "    '8' : []\n",
    "}\n",
    "visited = []\n",
    "stack = []\n",
    "def dfs(visited ,  graph , node):\n",
    "    visited.append(node)\n",
    "    stack.append(node[0])\n",
    "    while stack:\n",
    "        m = stack"
   ]
  },
  {
   "cell_type": "code",
   "execution_count": null,
   "metadata": {},
   "outputs": [],
   "source": [
    "import sys\n",
    "sys.set_int_max_str_digits(10000)\n",
    "def fcat(n):\n",
    "    r = 1\n",
    "    for i in range(1,n+1):\n",
    "        r *=i\n",
    "    return r\n",
    "print(fcat(1000))"
   ]
  },
  {
   "cell_type": "code",
   "execution_count": null,
   "metadata": {},
   "outputs": [],
   "source": [
    "graph = {\n",
    "    '5' : ['3','7'],\n",
    "    '3' : ['2','4'],\n",
    "    '7' : ['8'],\n",
    "    '2' : [],\n",
    "    '4' : ['8'],\n",
    "    '8' :[]\n",
    "}\n",
    "visited = []\n",
    "queue = []\n",
    "def bfs(visited,graph,node):\n",
    "    visited.append(node)\n",
    "    queue.append(node)\n",
    "    while queue:\n",
    "        m = queue.pop(0)\n",
    "        print(m,end = ' ')\n",
    "        for neighbour in graph[m]:\n",
    "            if neighbour not in visited:\n",
    "                visited.append(neighbour)\n",
    "                queue.append(neighbour)\n",
    "print(bfs(visited,graph,'5'))"
   ]
  },
  {
   "cell_type": "code",
   "execution_count": null,
   "metadata": {},
   "outputs": [],
   "source": [
    "num = int(input(\"enetee the number-->\"))\n",
    "for i in range(1,11):\n",
    "    print(num , \"x\" , i,\" = \" ,num*i)"
   ]
  },
  {
   "cell_type": "markdown",
   "metadata": {},
   "source": []
  },
  {
   "cell_type": "code",
   "execution_count": null,
   "metadata": {},
   "outputs": [],
   "source": [
    "num = 29\n",
    "flag = False\n",
    "if num == 1:\n",
    "    print(\"not a prime\")\n",
    "elif num > 1:\n",
    "    for i in range (2,num):\n",
    "        if num % i == 0:\n",
    "            flag = True\n",
    "            break\n",
    "    if flag:\n",
    "        print(\"not a prime\")\n",
    "    else:\n",
    "        print(\"prime number\")"
   ]
  },
  {
   "cell_type": "code",
   "execution_count": null,
   "metadata": {},
   "outputs": [],
   "source": [
    "x = [[1,2,3],[4,5,6],[7,8,9]]\n",
    "y = [[9,8,7],[6,5,4],[3,2,1]]\n",
    "res = [list((map(sum,zip(*t))))for t in zip(x,y)]\n",
    "print(res)"
   ]
  },
  {
   "cell_type": "code",
   "execution_count": null,
   "metadata": {},
   "outputs": [],
   "source": [
    "X = [[1,2,3],\n",
    "    [4 ,5,6],\n",
    "    [7 ,8,9]]\n",
    "  \n",
    "Y = [[9,8,7],\n",
    "    [6,5,4],\n",
    "    [3,2,1]]\n",
    " \n",
    "result = [map(sum, zip(*t)) for t in zip(X, Y)]\n",
    "  \n",
    "for i in res:\n",
    "    print(i)"
   ]
  },
  {
   "cell_type": "code",
   "execution_count": null,
   "metadata": {},
   "outputs": [],
   "source": [
    "x = [[1,2,3],[4,5,6],[7,8,9]]\n",
    "y = [[9,8,7],[6,5,4],[3,2,1]]\n",
    "res = [list(map(sum,zip(*t)))for t in zip(x,y)]\n",
    "print(res)"
   ]
  },
  {
   "cell_type": "code",
   "execution_count": null,
   "metadata": {},
   "outputs": [],
   "source": [
    "res2 = [[a*b for a,b in zip(i,j)]for i , j in zip(x,y)]\n",
    "print(res2)"
   ]
  },
  {
   "cell_type": "code",
   "execution_count": null,
   "metadata": {},
   "outputs": [],
   "source": [
    "transposed_res = [list(row) for row in zip(*res2)]\n",
    "print(transposed_res)"
   ]
  },
  {
   "cell_type": "code",
   "execution_count": null,
   "metadata": {},
   "outputs": [],
   "source": [
    "x = [[1,2,3],[4,5,6],[7,8,9]]\n",
    "y = [[9,8,7],[6,5,4],[3,2,1]]\n",
    "#sum\n",
    "res = [list(map(sum,zip(*t)))for t in zip(x,y)]\n",
    "print(\"the sum is --->\",res)\n",
    "#multiplication\n",
    "res2 = [[a*b for a , b in zip(i,j)]for i , j in zip(x,y)]\n",
    "print(\"the multiplication res is -->\",res2)\n",
    "#transpose\n",
    "\n",
    "transpose = [list(row) for row in zip(*res2)]\n",
    "print(\"the transpose is -->\",transpose)"
   ]
  },
  {
   "cell_type": "code",
   "execution_count": null,
   "metadata": {},
   "outputs": [],
   "source": [
    "x = [[1,2,3],[4,5,6],[7,8,9]]\n",
    "y = [[2,3,4],[4,3,2],[7,6,5]]\n",
    "sums = [[a +b for a,b in zip(i,j)]for i,j in zip(x,y)]\n",
    "print(sums)\n",
    "mul = [[a * b for a,b in zip(i,j)]for i ,j in zip(x,y)]\n",
    "print(mul)\n",
    "transx = [[row[i] for row in x]for i in range(0,3)]\n",
    "print(transx)"
   ]
  },
  {
   "cell_type": "code",
   "execution_count": null,
   "metadata": {},
   "outputs": [],
   "source": [
    "def water_jug_problem(capacity_x, capacity_y, target):\n",
    "    if target > max(capacity_x, capacity_y) or target % gcd(capacity_x, capacity_y) != 0:\n",
    "        return \"Not possible to measure the target amount.\"\n",
    "\n",
    "    def gcd(a, b):\n",
    "        while b:\n",
    "            a, b = b, a % b\n",
    "        return a\n",
    "\n",
    "    def pour(x, y):\n",
    "        if x == 0:\n",
    "            return 0, y\n",
    "        elif y == capacity_y:\n",
    "            return x, 0\n",
    "        elif x + y <= capacity_y:\n",
    "            return 0, x + y\n",
    "        else:\n",
    "            return x - (capacity_y - y), capacity_y\n",
    "\n",
    "    jug_x = 0\n",
    "    jug_y = 0\n",
    "    steps = []\n",
    "\n",
    "    while jug_x != target and jug_y != target:\n",
    "        jug_x, jug_y = pour(jug_x, jug_y)\n",
    "        steps.append((jug_x, jug_y))\n",
    "\n",
    "    if jug_x == target:\n",
    "        steps.append((jug_x, jug_y))\n",
    "        return steps\n",
    "\n",
    "    return \"Not possible to measure the target amount.\"\n",
    "\n",
    "# Example usage\n",
    "capacity_x = 4  # Capacity of the first jug\n",
    "capacity_y = 3  # Capacity of the second jug\n",
    "target = 2     # Target amount to measure\n",
    "\n",
    "result = water_jug_problem(capacity_x, capacity_y, target)\n",
    "if isinstance(result, list):\n",
    "    print(f\"Steps to measure {target} liters: {result}\")\n",
    "else:\n",
    "    print(result)\n"
   ]
  },
  {
   "cell_type": "code",
   "execution_count": null,
   "metadata": {},
   "outputs": [],
   "source": [
    "num = 29\n",
    "for i in range (1,num+1):\n",
    "    print(num,\"x\",i,'=',num*i)\n",
    "    "
   ]
  },
  {
   "cell_type": "code",
   "execution_count": null,
   "metadata": {},
   "outputs": [],
   "source": [
    "x = [[1,2,3],[4,5,6],[7,8,9]]\n",
    "y = [[9,8,7],[6,5,4],[3,2,1]]\n",
    "res = [list(map(sum,zip(*t))) for t in zip(x,y)]\n",
    "print(res)\n",
    "res2 = [[a*b for a,b in zip(i,j)] for i,j in zip(x,y)]\n",
    "print(res2)\n",
    "transpose  = [list(row) for row in zip(*res2)]\n",
    "print(transpose)"
   ]
  },
  {
   "cell_type": "code",
   "execution_count": null,
   "metadata": {},
   "outputs": [],
   "source": [
    "graph = {\n",
    "    '5' : ['2','4'],\n",
    "    '2' : ['7','8'],\n",
    "    '7' : [],\n",
    "    '4' :['8'],\n",
    "    '8' : []\n",
    "}\n",
    "visited = []\n",
    "queue =[]\n",
    "def bfs(visted , graph,node):\n",
    "    visited.append(node)\n",
    "    queue.append(node)\n",
    "    while queue :\n",
    "        m = queue.pop(0)\n",
    "        print(m,end=\" \")\n",
    "        for neighbour in graph[m]:\n",
    "            if neighbour not in visited:\n",
    "                visited.append(neighbour)\n",
    "                queue.append(neighbour)\n",
    "print(bfs(visited,graph,'5'))"
   ]
  },
  {
   "cell_type": "code",
   "execution_count": null,
   "metadata": {},
   "outputs": [],
   "source": [
    "import sys\n",
    "sys.set_int_max_str_digits(100000)\n",
    "def fact(n):\n",
    "    r =1 \n",
    "    for i in range (1,n+1):\n",
    "        r *= i\n",
    "    return r\n",
    "print(fact(4000))"
   ]
  },
  {
   "cell_type": "code",
   "execution_count": null,
   "metadata": {},
   "outputs": [],
   "source": [
    "import calendar as ca\n",
    "ca.monthcalendar(2023,10)"
   ]
  },
  {
   "cell_type": "code",
   "execution_count": null,
   "metadata": {},
   "outputs": [],
   "source": [
    "#water jug problem using bfs\n",
    "from collections import deque\n",
    "\n",
    "def water_jug_BFS(x, y, z):\n",
    "    visited = set()\n",
    "    queue = deque([(0, 0)])\n",
    "    \n",
    "    while queue:\n",
    "        jug_a, jug_b = queue.popleft()\n",
    "        \n",
    "        if jug_a == z or jug_b == z or jug_a + jug_b == z:\n",
    "            return True\n",
    "        \n",
    "        if (jug_a, jug_b) in visited:\n",
    "            continue\n",
    "        \n",
    "        visited.add((jug_a, jug_b))\n",
    "        \n",
    "        # Fill jug A\n",
    "        if jug_a < x:\n",
    "            queue.append((x, jug_b))\n",
    "        \n",
    "        # Fill jug B\n",
    "        if jug_b < y:\n",
    "            queue.append((jug_a, y))\n",
    "        \n",
    "        # Empty jug A\n",
    "        if jug_a > 0:\n",
    "            queue.append((0, jug_b))\n",
    "        \n",
    "        # Empty jug B\n",
    "        if jug_b > 0:\n",
    "            queue.append((jug_a, 0))\n",
    "        \n",
    "        # Pour from A to B\n",
    "        if jug_a + jug_b >= y:\n",
    "            queue.append((jug_a - (y - jug_b), y))\n",
    "        else:\n",
    "            queue.append((0, jug_a + jug_b))\n",
    "        \n",
    "        # Pour from B to A\n",
    "        if jug_a + jug_b >= x:\n",
    "            queue.append((x, jug_b - (x - jug_a)))\n",
    "        else:\n",
    "            queue.append((jug_a + jug_b, 0))\n",
    "    \n",
    "    return False\n",
    "\n",
    "x = 4  # Capacity of jug A\n",
    "y = 3  # Capacity of jug B\n",
    "z = 2  # Desired amount of water\n",
    "\n",
    "if water_jug_BFS(x, y, z):\n",
    "    print(f'You can measure {z} liters of water using {x}-liter and {y}-liter jugs.')\n",
    "else:\n",
    "    print(f'You cannot measure {z} liters of water using {x}-liter and {y}-liter jugs.')"
   ]
  },
  {
   "cell_type": "code",
   "execution_count": null,
   "metadata": {},
   "outputs": [],
   "source": [
    "from collections import deque\n",
    "def water_jug(x,y,z)-> bool:\n",
    "    #where x is the ca[acity of A , y is the capacity of B and z is the goal state\n",
    "    visited = set()\n",
    "    queue = deque([(0,0)])\n",
    "    while queue :\n",
    "        jug_a , jug_b = queue.popleft() #pop from the front\n",
    "        if jug_a == z or jug_b == z or jug_a + jug_b == z:\n",
    "            return True\n",
    "        if (jug_a,jug_b) in visited :\n",
    "            continue\n",
    "        visited.add((jug_a,jug_b))\n",
    "        #FILL JUG A\n",
    "        if jug_a < x:\n",
    "            queue.append((x,jug_b))\n",
    "        #FILL JUG B\n",
    "        if jug_b < y:\n",
    "            queue.append((jug_a,y))\n",
    "        #EMPTY JUG A \n",
    "        if jug_a > 0:\n",
    "            queue.append((0,jug_b))\n",
    "        #EMPTY JUG B\n",
    "        if jug_b > 0:\n",
    "            queue.append((jug_a,0))\n",
    "        # POUR FROM A TO B\n",
    "        if jug_a + jug_b >= y:\n",
    "            queue.append((jug_a-(y-jug_b),y))\n",
    "        else:\n",
    "            queue.append((0,jug_a+jug_b))\n",
    "        #POUR FROM B TO A\n",
    "        if jug_a + jug_b >= x:\n",
    "            queue.append((x,jug_b-(x-jug_a)))\n",
    "        else:\n",
    "            queue.append((jug_a+jug_b,0))\n",
    "    return False\n",
    "x = 4\n",
    "y = 3\n",
    "z = 2\n",
    "if water_jug(x,y,z):\n",
    "    print(f'you can fill {z} amount of water using {x} and {y}')\n",
    "else:\n",
    "    print(\"cannot compute\")"
   ]
  },
  {
   "cell_type": "code",
   "execution_count": null,
   "metadata": {},
   "outputs": [],
   "source": [
    "from collections import deque\n",
    "def water_jug(x,y,z):\n",
    "    visited = set()\n",
    "    queue = deque([(0,0)])\n",
    "    while queue:\n",
    "        jug_a,jug_b = queue.popleft() #pop from the front\n",
    "        if jug_a == z or jug_b == z or  jug_a + jug_b == z:\n",
    "            return True\n",
    "        if (jug_a,jug_b) in visited:\n",
    "            continue\n",
    "        visited.add((jug_a,jug_b))\n",
    "        # fill jug a \n",
    "        if jug_a < x:\n",
    "            queue.append((x,jug_b))\n",
    "        #fill jug b\n",
    "        if jug_b < y:\n",
    "            queue.append((jug_b,y))\n",
    "        #empty jug a \n",
    "        if jug_a > 0:\n",
    "            queue.append((0,jug_b))\n",
    "        #empty jug b\n",
    "        if jug_b > 0:\n",
    "            queue.append((jug_a,0))\n",
    "        #pour from a to b\n",
    "        if jug_a + jug_b >= y:\n",
    "            queue.append((jug_a-(y-jug_b),y))\n",
    "        else:\n",
    "            queue.append((0,jug_a+jug_b))\n",
    "        #pour from b to a\n",
    "        if jug_a+jug_b >= x:\n",
    "            queue.append((x,jug_b-(x-jug_a)))\n",
    "        else:\n",
    "            queue.append((jug_a+jug_b,0))\n",
    "    return False\n",
    "x = 4\n",
    "y = 3\n",
    "z = 2\n",
    "if water_jug(x,y,z):\n",
    "    print(f'you can fill {z} amount of water using {x} and {y}')\n",
    "else:\n",
    "    print(\"cannot compute\")"
   ]
  },
  {
   "cell_type": "code",
   "execution_count": null,
   "metadata": {},
   "outputs": [],
   "source": [
    "#remove puncuations from the string\n",
    "import string\n",
    "s = 'this is an ! example for @ removing stop words'\n",
    "for c in string.punctuation:\n",
    "    res = res.replace(c,\" \")\n",
    "    \n",
    "print(res)\n",
    "res1 = ''.join([c if c not in string.punctuation else '' for c in s])\n",
    "print(res1)"
   ]
  },
  {
   "cell_type": "code",
   "execution_count": null,
   "metadata": {},
   "outputs": [],
   "source": [
    "from functools import reduce\n",
    "s = \"exmaple for string sorting\"\n",
    "res = reduce(lambda x , y : x+y ,sorted(s))\n",
    "print(res)\n"
   ]
  },
  {
   "cell_type": "code",
   "execution_count": null,
   "metadata": {},
   "outputs": [],
   "source": [
    "#hangman game\n",
    "import time\n",
    "name  = input(\"enter your name-->\")\n",
    "time.sleep(1)\n",
    "print(f\"time to play hangman {name}\")\n",
    "time.sleep(0.5)\n",
    "word = (\"secret\")\n",
    "guesses = ''\n",
    "turns = 10\n",
    "while turns > 0:\n",
    "    failed = 0\n",
    "    for char in word:\n",
    "        if char in guesses :\n",
    "            print(char,end  = \"\")\n",
    "        else :\n",
    "            print(\"_\",end = \"\")\n",
    "            failed += 1\n",
    "    if failed == 0:\n",
    "        print(\"you won\")\n",
    "        break\n",
    "    guess = input(\"enter a charecter\")\n",
    "    guesses += guess\n",
    "    if guess not in word:\n",
    "        turns -= 1\n",
    "        print(\"wrong\")\n",
    "        print(\"you have\",+turns,\"left\")\n",
    "        if turns == 0:\n",
    "            print(\"you loose\")\n",
    "            \n",
    "    \n",
    "        "
   ]
  },
  {
   "cell_type": "code",
   "execution_count": null,
   "metadata": {},
   "outputs": [],
   "source": [
    "import time \n",
    "name = input(\"enter your name\")\n",
    "time.sleep(1)\n",
    "print(f'time to play hangman {name}')\n",
    "time.sleep(0.5)\n",
    "word = (\"secret\")\n",
    "guesses = ''\n",
    "turns = 10\n",
    "while turns > 0:\n",
    "    failed = 0\n",
    "    for char in word:\n",
    "        if char in guesses:\n",
    "            print(char,end = \" \")\n",
    "        else:\n",
    "            print(\"_\",end = \" \")\n",
    "            failed += 1\n",
    "    if failed == 0:\n",
    "        print(\"you won\")\n",
    "        break\n",
    "    guess = input(\"enter your guess-->\")\n",
    "    guesses += guess\n",
    "    if guess not in word:\n",
    "        turns -= 1\n",
    "        print(\"wrong\")\n",
    "        print(f'you have {turns} left')\n",
    "        if turns == 0:\n",
    "            print(\"you loose\")\n",
    "        "
   ]
  },
  {
   "cell_type": "code",
   "execution_count": null,
   "metadata": {},
   "outputs": [],
   "source": [
    "import nltk\n",
    "from nltk.stem import PorterStemmer\n",
    "nltk.download(\"punkt\")\n",
    "# Initialize Python porter stemmer\n",
    "ps = PorterStemmer()\n",
    "# Example inflections to reduce\n",
    "example_words = [\"program\",\"programming\",\"programer\",\"programs\",\"programmed\"]\n",
    "# Perform stemming\n",
    "print(\"{0:20}{1:20}\".format(\"--Word--\",\"--Stem--\"))\n",
    "for word in example_words:\n",
    "   print (\"{0:20}{1:20}\".format(word, ps.stem(word)))\n",
    "\n",
    "\"\"\"\n",
    "--Word--            --Stem--            \n",
    "program             program             \n",
    "programming         program             \n",
    "programer           program             \n",
    "programs            program             \n",
    "programmed          program\n",
    "\n",
    "\"\"\""
   ]
  },
  {
   "cell_type": "code",
   "execution_count": null,
   "metadata": {},
   "outputs": [],
   "source": [
    "#stemming using nltk\n",
    "import nltk \n",
    "from nltk.stem import PorterStemmer\n",
    "nltk.download(\"punkt\")\n",
    "example_words = [\"program\",\"programming\",\"programer\",\"programs\",\"programmed\"]\n",
    "print(\"{0:20}{1:20}\".format(\"--word--\",\"--stem--\"))\n",
    "for char in example_words:\n",
    "    print(\"{0:20}{1:20}\".format(word,ps.stem(word)))\n",
    "    "
   ]
  },
  {
   "cell_type": "code",
   "execution_count": 128,
   "metadata": {},
   "outputs": [
    {
     "name": "stdout",
     "output_type": "stream",
     "text": [
      "--word--            --stem--            \n",
      "program             program             \n",
      "programming         program             \n",
      "programer           program             \n",
      "programs            program             \n",
      "programmed          program             \n"
     ]
    },
    {
     "name": "stderr",
     "output_type": "stream",
     "text": [
      "[nltk_data] Downloading package punkt to /Users/rohithr/nltk_data...\n",
      "[nltk_data]   Package punkt is already up-to-date!\n"
     ]
    }
   ],
   "source": [
    "import nltk\n",
    "from nltk.stem import PorterStemmer\n",
    "nltk.download(\"punkt\")\n",
    "ps = PorterStemmer()\n",
    "example_words =[\"program\",\"programming\",\"programer\",\"programs\",\"programmed\"]\n",
    "print(\"{0:20}{1:20}\".format(\"--word--\",\"--stem--\"))\n",
    "for char in example_words:\n",
    "    print(\"{0:20}{1:20}\".format(char,ps.stem(char)))"
   ]
  },
  {
   "cell_type": "code",
   "execution_count": null,
   "metadata": {},
   "outputs": [],
   "source": [
    "#lemmatization\n",
    "from nltk.stem import WordNetLemmatizer\n",
    "nltk.download(\"wordnet\")\n",
    "nltk.download(\"omw-1.4\")\n",
    "wnl = WordNetLemmatizer()\n",
    "example_words = [\"program\",\"programming\",\"programer\",\"programs\",\"programmed\"]\n",
    "print(\"{0:20}{1:20}\".format(\"--word--\",\"--lem--\"))\n",
    "for char in example_words:\n",
    "    print(\"{0:20}{1:20}\".format(char,wnl.lemmatize(char,pos = 'v')))"
   ]
  },
  {
   "cell_type": "code",
   "execution_count": null,
   "metadata": {},
   "outputs": [],
   "source": [
    "import nltk\n",
    "from nltk.stem import WordNetLemmatizer\n",
    "nltk.download(\"wordnet\")\n",
    "nltk.download(\"omw-1.4\")\n",
    "wnl = WordNetLemmatizer()\n",
    "example_words = [\"program\",\"programming\",\"programer\",\"programs\",\"programmed\"]\n",
    "print(\"{0:20}{1:20}\".format(\"--word--\",\"--lemma--\"))\n",
    "for word in example_words:\n",
    "    print(\"{0:20}{1:20}\".format(word,wnl.lemmatize(word,pos = 'v')))"
   ]
  },
  {
   "cell_type": "code",
   "execution_count": null,
   "metadata": {},
   "outputs": [],
   "source": []
  },
  {
   "cell_type": "code",
   "execution_count": null,
   "metadata": {},
   "outputs": [],
   "source": [
    "#removing stop words\n",
    "\n",
    "import nltk \n",
    "from nltk.corpus import stopwords\n",
    "nltk.download(\"stopwords\")\n",
    "stop_words = set(stopwords.words(\"english\"))\n",
    "def remove_stop(sentnce):\n",
    "    words = sentnce.split()\n",
    "    filtered = [word for word in words if  word not in stop_words]\n",
    "    return ''.join(filtered)\n",
    "remove_stop(\"hello my name is rohith\")"
   ]
  },
  {
   "cell_type": "code",
   "execution_count": null,
   "metadata": {},
   "outputs": [],
   "source": [
    "import nltk\n",
    "from nltk.corpus import stopwords\n",
    "nltk.download(\"stopwords\")\n",
    "stop_words = set(stopwords.words(\"english\"))\n",
    "def remove_stop(sentnce):\n",
    "    words = sentnce.split()\n",
    "    filtered = [word for word in words if word not in stop_words]\n",
    "    return ''.join(filtered)\n",
    "remove_stop(\"this is an example for removing stopwords\")"
   ]
  },
  {
   "cell_type": "code",
   "execution_count": null,
   "metadata": {},
   "outputs": [],
   "source": [
    "res = [i for i in range(15) if i % 2 != 0]"
   ]
  },
  {
   "cell_type": "code",
   "execution_count": null,
   "metadata": {},
   "outputs": [],
   "source": [
    "mat = [[1,2,3],[4,5,6],[7,8,9]]\n",
    "transpose = [[row[x] for row in mat] for x in range(2)]\n",
    "print(transpose)"
   ]
  },
  {
   "cell_type": "code",
   "execution_count": null,
   "metadata": {},
   "outputs": [],
   "source": [
    "x = [[1,2,3],[4,5,6],[7,8,9]]\n",
    "y = [[2,3,4],[4,3,2],[7,6,5]]\n",
    "sums = [[a +b for a,b in zip(i,j)]for i,j in zip(x,y)]\n",
    "print(sums)\n",
    "mul = [[a * b for a,b in zip(i,j)]for i ,j in zip(x,y)]\n",
    "print(mul)\n",
    "transx = [[row[i] for row in x]for i in range(0,3)]\n",
    "print(transx)"
   ]
  },
  {
   "cell_type": "code",
   "execution_count": null,
   "metadata": {},
   "outputs": [],
   "source": [
    "l1 = [1,2,3]\n",
    "l2 = [4,5,6]\n",
    "res = [a+b for a,b in zip(l1,l2)]\n",
    "print(res)"
   ]
  },
  {
   "cell_type": "code",
   "execution_count": 255,
   "metadata": {},
   "outputs": [
    {
     "name": "stdout",
     "output_type": "stream",
     "text": [
      "[4, 16, 36, 64, 100]\n"
     ]
    }
   ],
   "source": [
    "even_numbers = [x**2 for x in range(1,11) if x %2 == 0]\n",
    "print(even_numbers)\n"
   ]
  },
  {
   "cell_type": "code",
   "execution_count": 257,
   "metadata": {},
   "outputs": [
    {
     "name": "stdout",
     "output_type": "stream",
     "text": [
      "['h', 'e', 'l', 'l', 'o']\n"
     ]
    }
   ],
   "source": [
    "s = \"hello\"\n",
    "sl = [x for x in s]\n",
    "print(sl)"
   ]
  },
  {
   "cell_type": "code",
   "execution_count": 254,
   "metadata": {},
   "outputs": [
    {
     "name": "stdout",
     "output_type": "stream",
     "text": [
      "[2, 3, 5, 7, 11, 13, 17, 19, 23, 29, 31, 37, 41, 43, 47, 53, 59, 61, 67, 71, 73, 79, 83, 89, 97]\n"
     ]
    }
   ],
   "source": [
    "def isprime(num) -> list:\n",
    "    return num > 1 and all(num % i != 0 for i in range(2,int(num**0.5)+1))\n",
    "l = [x for x in range(1,100) if isprime(x)]\n",
    "print(l)\n"
   ]
  },
  {
   "cell_type": "code",
   "execution_count": 253,
   "metadata": {},
   "outputs": [
    {
     "name": "stdout",
     "output_type": "stream",
     "text": [
      "[[1, 4, 7], [2, 5, 8], [3, 6, 9]]\n"
     ]
    }
   ],
   "source": [
    "x = [[1,2,3],[4,5,6],[7,8,9]]\n",
    "y = [[4,3,2],[5,6,4],[8,7,9]]\n",
    "transx = [[row[i] for row in x] for i in range(0,3)]\n",
    "print(transx)"
   ]
  },
  {
   "cell_type": "code",
   "execution_count": null,
   "metadata": {},
   "outputs": [],
   "source": [
    "import string\n",
    "s = 'this is an @ eample ! to remove , stop words!!'\n",
    "res = ''.join([c  if c not in string.punctuation else '' for c in s])\n",
    "print(res)"
   ]
  },
  {
   "cell_type": "code",
   "execution_count": 208,
   "metadata": {},
   "outputs": [
    {
     "name": "stdout",
     "output_type": "stream",
     "text": [
      "You can measure 2 liters of water using 4-liter and 3-liter jugs.\n",
      "Solution Plan:\n",
      "Fill jug B\n",
      "Pour from B to A\n",
      "Fill jug B\n",
      "Pour from B to A\n"
     ]
    }
   ],
   "source": [
    "from collections import deque\n",
    "\n",
    "def water_jug_BFS(x, y, z):\n",
    "    visited = set()\n",
    "    queue = deque([(0, 0, [])])\n",
    "    \n",
    "    while queue:\n",
    "        jug_a, jug_b, actions = queue.popleft()\n",
    "        \n",
    "        if jug_a == z or jug_b == z or jug_a + jug_b == z:\n",
    "            return True, actions\n",
    "        \n",
    "        if (jug_a, jug_b) in visited:\n",
    "            continue\n",
    "        \n",
    "        visited.add((jug_a, jug_b))\n",
    "        \n",
    "        # Fill jug A\n",
    "        if jug_a < x:\n",
    "            queue.append((x, jug_b, actions + ['Fill jug A']))\n",
    "        \n",
    "        # Fill jug B\n",
    "        if jug_b < y:\n",
    "            queue.append((jug_a, y, actions + ['Fill jug B']))\n",
    "        \n",
    "        # Empty jug A\n",
    "        if jug_a > 0:\n",
    "            queue.append((0, jug_b, actions + ['Empty jug A']))\n",
    "        \n",
    "        # Empty jug B\n",
    "        if jug_b > 0:\n",
    "            queue.append((jug_a, 0, actions + ['Empty jug B']))\n",
    "        \n",
    "        # Pour from A to B\n",
    "        if jug_a + jug_b >= y:\n",
    "            queue.append((jug_a - (y - jug_b), y, actions + ['Pour from A to B']))\n",
    "        else:\n",
    "            queue.append((0, jug_a + jug_b, actions + ['Pour from A to B']))\n",
    "        \n",
    "        # Pour from B to A\n",
    "        if jug_a + jug_b >= x:\n",
    "            queue.append((x, jug_b - (x - jug_a), actions + ['Pour from B to A']))\n",
    "        else:\n",
    "            queue.append((jug_a + jug_b, 0, actions + ['Pour from B to A']))\n",
    "    \n",
    "    return False, []\n",
    "\n",
    "x = 4  # Capacity of jug A\n",
    "y = 3  # Capacity of jug B\n",
    "z = 2  # Desired amount of water\n",
    "\n",
    "possible, solution_plan = water_jug_BFS(x, y, z)\n",
    "\n",
    "if possible:\n",
    "    print(f'You can measure {z} liters of water using {x}-liter and {y}-liter jugs.')\n",
    "    print('Solution Plan:')\n",
    "    for action in solution_plan:\n",
    "        print(action)\n",
    "else:\n",
    "    print(f'You cannot measure {z} liters of water using {x}-liter and {y}-liter jugs.')\n"
   ]
  },
  {
   "cell_type": "code",
   "execution_count": null,
   "metadata": {},
   "outputs": [],
   "source": [
    "from collections import deque\n",
    "def water_jug_BFS(x,y,z):\n",
    "    visited = set()\n",
    "    queue = deque([(0,0,[])])\n",
    "    while queue:\n",
    "        jug_a , jug_b , actions = queue.popleft()\n",
    "        if jug_a == z or jug_b == z or jug_a + jug_b == z:\n",
    "            return True , actions\n",
    "        if (jug_a , jug_b) in visited :\n",
    "            continue\n",
    "        visited.add((jug_a,jug_b))\n",
    "        #fill a \n",
    "        if jug_a < x:\n",
    "            queue.append((x,jug_b,actions + [\"fill jug A\"]))\n",
    "        #fill b\n",
    "        if jug_b < y:\n",
    "            queue.append((jug_a,y,actions + [\"fill b\"]))\n",
    "        #empty a\n",
    "        if jug_a > 0:\n",
    "            queue.append((0,jug_b,actions + [\"empty jug A\"]))\n",
    "        #empty b\n",
    "        if jug_b > 0:\n",
    "            queue.append((jug_a,0,actions + [\"empty jug B\"]))\n",
    "        #fill form a to b\n",
    "        if jug_a + jug_b >= y:\n",
    "            queue.append((jug_a-(y-jug_b),y,actions + [\"POUR FROM A TO B\"]))\n",
    "        else:\n",
    "            queue.append((0,jug_a + jug_b,actions  + [\"POUR FROM A TO B\"]))\n",
    "        #fill form b to a\n",
    "        if jug_a + jug_b >= x:\n",
    "            queue.append((x,jug_b-(y-jug_a),actions + [\"POUR FROM B TO A \"]))\n",
    "        else:\n",
    "            queue.append((jug_a+jug_b,0,actions + [\"POUR FROM B TO A\"]))\n",
    "    return False , []\n",
    "x = 7\n",
    "y = 5\n",
    "z = 3\n",
    "possible , solution_plan = water_jug_BFS(x,y,z)\n",
    "if possible:\n",
    "    print(f'you can meausre {z}-liter from {x}-liter and {y}-liter')\n",
    "    print('solution plan:')\n",
    "    for action in solution_plan:\n",
    "        print(action)\n",
    "else:\n",
    "    print(f'you cannot meausre {z}-liter from {x}-liter and {y}-liter')"
   ]
  },
  {
   "cell_type": "code",
   "execution_count": null,
   "metadata": {},
   "outputs": [],
   "source": [
    "from collections import deque\n",
    "def water_jug_BFS(x,y,z):\n",
    "    visited = set()\n",
    "    queue = deque([(0,0,[])])\n",
    "    while queue:\n",
    "        jug_a , jug_b ,actions = queue.popleft()\n",
    "        if jug_a ==z or jug_b == z or jug_a + jug_b == z:\n",
    "            return True, actions\n",
    "        if (jug_a,jug_b) in visited:\n",
    "            continue\n",
    "        visited.add((jug_a,jug_b))\n",
    "        #fill a \n",
    "        if jug_a < x:\n",
    "            queue.append((x,jug_b,actions+['FILL A']))\n",
    "        #fill b\n",
    "        if jug_b < y:\n",
    "            queue.append((jug_a,y,actions+[\"FILL B\"]))\n",
    "        #empty a\n",
    "        if jug_a > 0:\n",
    "            queue.append((0,jug_b,actions+[\"empty jug a\"]))\n",
    "        #empty b\n",
    "        if jug_b > 0:\n",
    "            queue.append((jug_a,0,actions+[\"empty jug b\"]))\n",
    "        #pour from a to b\n",
    "        if jug_a + jug_b >= y:\n",
    "            queue.append((x,jug_a-(x-jug_b),actions+['POUR FROM A TO B']))\n",
    "        else:\n",
    "            queue.append((0,jug_a+jug_b,actions+[\"POUR FROM A  TO B\"]))\n",
    "        if jug_a + jug_b >= x:\n",
    "            queue.append((jug_b-(y-jug_a),y,actions+[\"POUR FROM B TO A\"]))\n",
    "        else:\n",
    "            queue.append((jug_a+jug_b,0,actions+[\"POUR FROM B TO A\"]))\n",
    "    return False , []\n",
    "x = 4\n",
    "y = 3\n",
    "z = 2\n",
    "possible,solution_plan = water_jug_BFS(x,y,z)\n",
    "if possible:\n",
    "    print(f'you can fill {z}-liter of water from {x}-liter and {y}-liter')\n",
    "    print(\"SOLUTION PLAN:\")\n",
    "    for actions in solution_plan:\n",
    "        print(actions)\n",
    "else:\n",
    "    print(\"cannot meausre from given measurements\")"
   ]
  },
  {
   "cell_type": "code",
   "execution_count": null,
   "metadata": {},
   "outputs": [],
   "source": [
    "import time \n",
    "name = input(\"enter your name\")\n",
    "time.sleep(1)\n",
    "print(f'time to play hangman {name}')\n",
    "time.sleep(0.5)\n",
    "word = (\"secret\")\n",
    "guesses = ''\n",
    "turns = 10\n",
    "while turns > 0:\n",
    "    failed = 0\n",
    "    for char in word:\n",
    "        if char in guesses:\n",
    "            print(char,end = \"\")\n",
    "        else:\n",
    "            print(\"_\",end = \"\")\n",
    "            failed += 1\n",
    "    if failed == 0:\n",
    "        print(\"you won\")\n",
    "        break\n",
    "    guess = input(\"enter your guess-->\")\n",
    "    guesses += guess\n",
    "    if guess not in word:\n",
    "        turns -= 1\n",
    "        print(\"wrong\")\n",
    "        print(f'you have {turns} left')\n",
    "        if turns == 0:\n",
    "            print(\"you loose\")\n",
    "        "
   ]
  },
  {
   "cell_type": "code",
   "execution_count": null,
   "metadata": {},
   "outputs": [],
   "source": [
    "import time\n",
    "\n",
    "name = input(\"Enter your name --> \")\n",
    "time.sleep(1)\n",
    "print(f\"Time to play Hangman, {name}!\")\n",
    "time.sleep(0.5)\n",
    "\n",
    "word = \"secret\"\n",
    "guesses = ''\n",
    "turns = 10\n",
    "\n",
    "while turns > 0:\n",
    "    failed = 0\n",
    "    for char in word:\n",
    "        if char in guesses:\n",
    "            print(char, end=\"\")\n",
    "        else:\n",
    "            print(\"_\")\n",
    "            failed += 1\n",
    "    if failed == 0:\n",
    "        print(\"\\nYou won!\")\n",
    "        break\n",
    "    guess = input(\"\\nEnter a character: \")\n",
    "    guesses += guess\n",
    "    if guess not in word:\n",
    "        turns -= 1\n",
    "        print(\"Wrong!\")\n",
    "        print(\"You have\", turns, \"turns left.\")\n",
    "        if turns == 0:\n",
    "            print(\"You lose.\")\n",
    "        else:\n",
    "            print()  # Add a newline after displaying the turns left\n"
   ]
  },
  {
   "cell_type": "code",
   "execution_count": 252,
   "metadata": {},
   "outputs": [
    {
     "name": "stdout",
     "output_type": "stream",
     "text": [
      "its time to play hangman rohith\n",
      "_______\n",
      "s______\n",
      "s_e_e__\n",
      "sce_ec_\n",
      "scerec_\n",
      "scerect\n",
      "you won!!! :-)\n"
     ]
    }
   ],
   "source": [
    "import time\n",
    "name = input(\"enter your name-->\")\n",
    "time.sleep(1)\n",
    "print(f'its time to play hangman {name}')\n",
    "time.sleep(0.5)\n",
    "word = 'scerect'\n",
    "guesses = ''\n",
    "turns = 10\n",
    "while turns > 0:\n",
    "    failed = 0\n",
    "    for char in word:\n",
    "        if char in guesses:\n",
    "            print(char,end = '')\n",
    "        else:\n",
    "            print(\"_\",end = \"\")\n",
    "            failed += 1\n",
    "    print()\n",
    "    if failed == 0:\n",
    "        print(\"you won!!! :-)\")\n",
    "        break\n",
    "    guess = input(\"enter your guess-->\")\n",
    "    guesses += guess\n",
    "    if guess not in word:\n",
    "        turns -= 1\n",
    "        print(\"wrong\")\n",
    "        print(f'you have {turns} turns left')\n",
    "        if turns == 0:\n",
    "            print(\"you loose :-(\")\n",
    "        else :\n",
    "            print()\n",
    "        \n",
    "    "
   ]
  },
  {
   "cell_type": "code",
   "execution_count": 126,
   "metadata": {},
   "outputs": [
    {
     "name": "stdout",
     "output_type": "stream",
     "text": [
      "this is an  example  woth punctuation \n"
     ]
    }
   ],
   "source": [
    "import string\n",
    "s ='this is an @ example ! word punctuation !!'\n",
    "res = ''.join([c if c not in string.punctuation else '' for c in s])\n",
    "print(res)\n"
   ]
  },
  {
   "cell_type": "code",
   "execution_count": 127,
   "metadata": {},
   "outputs": [
    {
     "name": "stdout",
     "output_type": "stream",
     "text": [
      "5 2 4 7 8 None\n"
     ]
    }
   ],
   "source": [
    "graph = {\n",
    "    '5' : ['2','4'],\n",
    "    '2' : ['7','8'],\n",
    "    '7' : [],\n",
    "    '4' :['8'],\n",
    "    '8' : []\n",
    "}\n",
    "visited = []\n",
    "queue =[]\n",
    "def bfs(visited , graph,node):\n",
    "    visited.append(node)\n",
    "    queue.append(node)\n",
    "    while queue :\n",
    "        m = queue.pop(0)\n",
    "        print(m,end=\" \")\n",
    "        for neighbour in graph[m]:\n",
    "            if neighbour not in visited:\n",
    "                visited.append(neighbour)\n",
    "                queue.append(neighbour)\n",
    "print(bfs(visited,graph,'5'))"
   ]
  },
  {
   "cell_type": "code",
   "execution_count": 173,
   "metadata": {},
   "outputs": [
    {
     "name": "stdout",
     "output_type": "stream",
     "text": [
      "5 2 4 7 8 None\n"
     ]
    }
   ],
   "source": [
    "#bfs implementation\n",
    "#defining the graph\n",
    "graph = {\n",
    "    '5': ['2','4'],\n",
    "    '2': ['7','8'],\n",
    "    '7': [],\n",
    "    '4': ['8'],\n",
    "    '8': []\n",
    "}\n",
    "visited = []\n",
    "queue = []\n",
    "def bfs(visited,graph,node):\n",
    "    visited.append(node)\n",
    "    queue.append(node)\n",
    "    while queue:\n",
    "        m = queue.pop(0)\n",
    "        print(m,end = ' ')\n",
    "        for neighbor in graph[m]:\n",
    "            if neighbor not in visited:\n",
    "                visited.append(neighbor)\n",
    "                queue.append(neighbor)\n",
    "print(bfs(visited,graph,'5'))"
   ]
  },
  {
   "cell_type": "code",
   "execution_count": 138,
   "metadata": {},
   "outputs": [
    {
     "name": "stdout",
     "output_type": "stream",
     "text": [
      "--word--            --stemmed--         \n",
      "T                   t                   \n",
      "h                   h                   \n",
      "e                   e                   \n",
      "                                        \n",
      "q                   q                   \n",
      "u                   u                   \n",
      "i                   i                   \n",
      "c                   c                   \n",
      "k                   k                   \n",
      "                                        \n",
      "b                   b                   \n",
      "r                   r                   \n",
      "o                   o                   \n",
      "w                   w                   \n",
      "n                   n                   \n",
      "                                        \n",
      "f                   f                   \n",
      "o                   o                   \n",
      "x                   x                   \n",
      "e                   e                   \n",
      "s                   s                   \n",
      "                                        \n",
      "a                   a                   \n",
      "r                   r                   \n",
      "e                   e                   \n",
      "                                        \n",
      "j                   j                   \n",
      "u                   u                   \n",
      "m                   m                   \n",
      "p                   p                   \n",
      "i                   i                   \n",
      "n                   n                   \n",
      "g                   g                   \n",
      "                                        \n",
      "o                   o                   \n",
      "v                   v                   \n",
      "e                   e                   \n",
      "r                   r                   \n",
      "                                        \n",
      "t                   t                   \n",
      "h                   h                   \n",
      "e                   e                   \n",
      "                                        \n",
      "l                   l                   \n",
      "a                   a                   \n",
      "z                   z                   \n",
      "y                   y                   \n",
      "                                        \n",
      "d                   d                   \n",
      "o                   o                   \n",
      "g                   g                   \n",
      "s                   s                   \n"
     ]
    },
    {
     "name": "stderr",
     "output_type": "stream",
     "text": [
      "[nltk_data] Downloading package punkt to /Users/rohithr/nltk_data...\n",
      "[nltk_data]   Package punkt is already up-to-date!\n"
     ]
    }
   ],
   "source": [
    "#stemming \n",
    "from nltk.stem import PorterStemmer\n",
    "nltk.download('punkt')\n",
    "ps = PorterStemmer()\n",
    "example_setence = \"The quick brown foxes are jumping over the lazy dogs\"\n",
    "print(\"{0:20}{1:20}\".format(\"--word--\",\"--stemmed--\"))\n",
    "for char in example_setence:\n",
    "  \n",
    "    print(\"{0:20}{1:20}\".format(char,ps.stem(char)))\n",
    "    "
   ]
  },
  {
   "cell_type": "code",
   "execution_count": 139,
   "metadata": {},
   "outputs": [
    {
     "name": "stderr",
     "output_type": "stream",
     "text": [
      "[nltk_data] Downloading package wordnet to /Users/rohithr/nltk_data...\n",
      "[nltk_data]   Package wordnet is already up-to-date!\n",
      "[nltk_data] Downloading package omw-1.4 to /Users/rohithr/nltk_data...\n",
      "[nltk_data]   Package omw-1.4 is already up-to-date!\n"
     ]
    },
    {
     "name": "stdout",
     "output_type": "stream",
     "text": [
      "--word--             --lemmatized--      \n",
      "t                    t                   \n",
      "h                    h                   \n",
      "e                    e                   \n",
      "                                         \n",
      "q                    q                   \n",
      "u                    u                   \n",
      "i                    i                   \n",
      "c                    c                   \n",
      "k                    k                   \n",
      "                                         \n",
      "b                    b                   \n",
      "r                    r                   \n",
      "o                    o                   \n",
      "w                    w                   \n",
      "n                    n                   \n",
      "                                         \n",
      "f                    f                   \n",
      "o                    o                   \n",
      "x                    x                   \n",
      "e                    e                   \n",
      "s                    s                   \n",
      "                                         \n",
      "a                    a                   \n",
      "r                    r                   \n",
      "e                    e                   \n",
      "                                         \n",
      "j                    j                   \n",
      "u                    u                   \n",
      "m                    m                   \n",
      "p                    p                   \n",
      "i                    i                   \n",
      "n                    n                   \n",
      "g                    g                   \n",
      "                                         \n",
      "o                    o                   \n",
      "v                    v                   \n",
      "e                    e                   \n",
      "r                    r                   \n",
      "                                         \n",
      "t                    t                   \n",
      "h                    h                   \n",
      "e                    e                   \n",
      "                                         \n",
      "l                    l                   \n",
      "a                    a                   \n",
      "z                    z                   \n",
      "y                    y                   \n",
      "                                         \n",
      "d                    d                   \n",
      "o                    o                   \n",
      "g                    g                   \n",
      "s                    s                   \n"
     ]
    }
   ],
   "source": [
    "from nltk.stem import WordNetLemmatizer\n",
    "nltk.download(\"wordnet\")\n",
    "nltk.download(\"omw-1.4\")\n",
    "wnl = WordNetLemmatizer()\n",
    "example_sentence = list(\"The quick brown foxes are jumping over the lazy dogs\")\n",
    "print(\"{0:20} {1:20}\".format(\"--word--\",\"--lemmatized--\"))\n",
    "for char in example_sentence:\n",
    "    print(\"{0:20} {1:20}\".format(char,wnl.lemmatize(char)))"
   ]
  },
  {
   "cell_type": "code",
   "execution_count": 155,
   "metadata": {},
   "outputs": [
    {
     "data": {
      "text/plain": [
       "'exampleremovingstopwords'"
      ]
     },
     "execution_count": 155,
     "metadata": {},
     "output_type": "execute_result"
    }
   ],
   "source": [
    "#removing stop words\n",
    "import nltk\n",
    "from nltk.corpus import stopwords\n",
    "stop_words = set(stopwords.words(\"english\"))\n",
    "def remove_stop_words(sentence):\n",
    "    words = sentence.split()\n",
    "    res = ''.join([c for c in words if c not in stop_words])\n",
    "    return res\n",
    "remove_stop_words(\"this is an example for removing stopwords\")\n"
   ]
  },
  {
   "cell_type": "code",
   "execution_count": 158,
   "metadata": {},
   "outputs": [
    {
     "data": {
      "text/plain": [
       "'exampleremovingstopwords'"
      ]
     },
     "execution_count": 158,
     "metadata": {},
     "output_type": "execute_result"
    }
   ],
   "source": [
    "import nltk\n",
    "from nltk.corpus import stopwords\n",
    "stop_words = set(stopwords.words(\"english\"))\n",
    "def remove_stop_words(sentence):\n",
    "    words = sentence.split()\n",
    "    res = ''.join([c for c in words if c not in stop_words])\n",
    "    return res\n",
    "remove_stop_words(\"this is an example for removing stopwords\")\n",
    "    "
   ]
  },
  {
   "cell_type": "code",
   "execution_count": 170,
   "metadata": {},
   "outputs": [
    {
     "name": "stdout",
     "output_type": "stream",
     "text": [
      "time to play hangman rojo\n",
      "_ _ _ _ oops! wrong guess\n",
      "you have 9 turns\n",
      "_ _ _ _ oops! wrong guess\n",
      "you have 8 turns\n",
      "_ _ _ _ oops! wrong guess\n",
      "you have 7 turns\n",
      "_ _ _ _ _ _ _  e n_ _  e n a_  e n a m e\n",
      "you won !!!! :-)\n"
     ]
    }
   ],
   "source": [
    "#hangman \n",
    "import time\n",
    "name = input(\"enetr your name\")\n",
    "time.sleep(1)\n",
    "print(f'time to play hangman {name}')\n",
    "time.sleep(0.5)\n",
    "word = 'name'\n",
    "guesses = ''\n",
    "turns = 10\n",
    "while turns > 0:\n",
    "    failed = 0\n",
    "    for char in word:\n",
    "        if char in guesses:\n",
    "            print(end = \" \")\n",
    "            print(char,end = '')\n",
    "            \n",
    "        else:\n",
    "            print(\"_\",end = ' ')\n",
    "            failed += 1\n",
    "    if failed == 0:\n",
    "        print(\"\\nyou won !!!! :-)\")\n",
    "        break \n",
    "    guess = input(\"enter your guess-->\")\n",
    "    guesses += guess\n",
    "    if guess not in word:\n",
    "        turns -= 1\n",
    "        print(\"oops! wrong guess\")\n",
    "        print(f\"you have {turns} turns\")\n",
    "        if turns == 0:\n",
    "            print(\"you looose :-(\")\n",
    "            print()"
   ]
  },
  {
   "cell_type": "code",
   "execution_count": 190,
   "metadata": {},
   "outputs": [
    {
     "name": "stdout",
     "output_type": "stream",
     "text": [
      "sentence after removing stopwords is --> helloprogrammerprogrammingjumpingjumped\n",
      "------------------------------------------------------\n",
      "[('hello', 'NN'), ('this', 'DT'), ('a', 'DT'), ('programmer', 'NN'), ('programming', 'VBG'), ('jumping', 'NN'), ('jumped', 'VBD')]\n",
      "-------------------------------------------------------\n",
      "--word--            --stemmded--        --lemmatize--       \n",
      "hello               hello               hello               \n",
      "this                thi                 this                \n",
      "a                   a                   a                   \n",
      "programmer          programm            programmer          \n",
      "programming         program             programming         \n",
      "jumping             jump                jumping             \n",
      "jumped              jump                jumped              \n"
     ]
    },
    {
     "name": "stderr",
     "output_type": "stream",
     "text": [
      "[nltk_data] Downloading package wordnet to /Users/rohithr/nltk_data...\n",
      "[nltk_data]   Package wordnet is already up-to-date!\n",
      "[nltk_data] Downloading package omw-1.4 to /Users/rohithr/nltk_data...\n",
      "[nltk_data]   Package omw-1.4 is already up-to-date!\n",
      "[nltk_data] Downloading package punkt to /Users/rohithr/nltk_data...\n",
      "[nltk_data]   Package punkt is already up-to-date!\n",
      "[nltk_data] Downloading package averaged_perceptron_tagger to\n",
      "[nltk_data]     /Users/rohithr/nltk_data...\n",
      "[nltk_data]   Package averaged_perceptron_tagger is already up-to-\n",
      "[nltk_data]       date!\n"
     ]
    }
   ],
   "source": [
    "import nltk\n",
    "from nltk.stem import PorterStemmer\n",
    "from nltk.stem import WordNetLemmatizer\n",
    "from nltk.corpus import stopwords\n",
    "nltk.download(\"wordnet\")\n",
    "nltk.download(\"omw-1.4\")\n",
    "nltk.download(\"punkt\")\n",
    "nltk.download(\"averaged_perceptron_tagger\")\n",
    "stop_words = set(stopwords.words(\"english\"))\n",
    "ps = PorterStemmer()\n",
    "wnl = WordNetLemmatizer()\n",
    "exmaple_senetce = \"hello this a programmer programming jumping jumped\"\n",
    "def stemming_lemmatize(sentence):\n",
    "    words = sentence.split()\n",
    "    tagger = nltk.pos_tag(words)\n",
    "    res = ''.join([c for c in words  if c not in stop_words])\n",
    "    print(\"sentence after removing stopwords is -->\",res)\n",
    "    print(\"------------------------------------------------------\")\n",
    "    print(tagger)\n",
    "    print(\"-------------------------------------------------------\")\n",
    "    print(\"{0:20}{1:20}{2:20}\".format(\"--word--\",\"--stemmded--\",\"--lemmatize--\"))\n",
    "    for i in words:\n",
    "        print(\"{0:20}{1:20}{2:20}\".format(i,ps.stem(i),wnl.lemmatize(i)))\n",
    "stemming_lemmatize(exmaple_senetce)"
   ]
  },
  {
   "cell_type": "code",
   "execution_count": 200,
   "metadata": {},
   "outputs": [
    {
     "data": {
      "text/plain": [
       "('thisisanexamplewiithpunctuation',\n",
       " '          !!!!@aaaceehhiiiiilmnnnoppssttttuuwx')"
      ]
     },
     "execution_count": 200,
     "metadata": {},
     "output_type": "execute_result"
    }
   ],
   "source": [
    "import string\n",
    "from functools import reduce\n",
    "s = \"this ! is an @ example wiith punctuation ! ! !\"\n",
    "def remove_punctuation(s):\n",
    "    words = s.split()\n",
    "    res = ''.join([c for c in words if c not in string.punctuation])\n",
    "    sorteds = reduce(lambda x , y : x+y,sorted(s))\n",
    "    return res,sorteds\n",
    "remove_punctuation(s)"
   ]
  },
  {
   "cell_type": "code",
   "execution_count": 202,
   "metadata": {},
   "outputs": [
    {
     "name": "stdout",
     "output_type": "stream",
     "text": [
      "[2, 3, 5, 7, 11, 13, 17, 19, 23, 29, 31, 37, 41, 43, 47, 53, 59, 61, 67, 71, 73, 79, 83, 89, 97]\n"
     ]
    }
   ],
   "source": [
    "def isprime(num):\n",
    "    return num > 1 and all(num % i != 0 for i in range(2,int(num ** 0.5)+1))\n",
    "numlist = [x for x in range(0,100) if isprime(x)]\n",
    "print(numlist)"
   ]
  },
  {
   "cell_type": "code",
   "execution_count": 209,
   "metadata": {},
   "outputs": [
    {
     "name": "stdout",
     "output_type": "stream",
     "text": [
      "you can fill the jug with 4-liter and 3-liter to get 2-liter\n",
      "fill A\n",
      "Pour from B to A\n",
      "Pour from B to A\n"
     ]
    }
   ],
   "source": [
    "#implementing water jug for two jugs using bfs\n",
    "from collections import deque\n",
    "def water_jug_BFS(x,y,z):\n",
    "    visited = set()\n",
    "    queue = deque([(0,0,[])])\n",
    "    while queue :\n",
    "        jug_a , jug_b ,actions = queue.popleft()\n",
    "        if jug_a == z or jug_b == z or jug_a + jug_b == z:\n",
    "            return True,actions\n",
    "        if(jug_a,jug_b) in visited:\n",
    "            continue\n",
    "        visited.add((jug_a,jug_b))\n",
    "        # fill A\n",
    "        if jug_a < x:\n",
    "            queue.append((x,jug_b,actions+[\"fill A\"]))\n",
    "        #fill B\n",
    "        if jug_b < y:\n",
    "            queue.append((jug_a,y,actions+['fill B']))\n",
    "        # empty a\n",
    "        if jug_a >0:\n",
    "            queue.append((0,jug_b,actions+['empty A']))\n",
    "        #empty b\n",
    "        if jug_b > 0:\n",
    "            queue.append((jug_a,0,actions+['empty B']))\n",
    "        #pour from a to b\n",
    "        if jug_a + jug_b >= x:\n",
    "            queue.append((jug_a-(x-jug_b),y,actions+['Pour from A to B']))\n",
    "        else:\n",
    "            queue.append((0,jug_a+jug_b,actions+[\"Pour from A to B\"]))\n",
    "        #pour from b to a\n",
    "        if jug_a + jug_b >= y:\n",
    "            queue.append((x,jug_b-(y-jug_a),actions+['Pour from B to A']))\n",
    "        else:\n",
    "            queue.append((jug_a+jug_b,0,actions+[\"Pour from B to A\"]))\n",
    "    return False ,[]\n",
    "x = 4\n",
    "y = 3\n",
    "z = 2\n",
    "possible,solution_plan = water_jug_BFS(x,y,z)\n",
    "if possible:\n",
    "    print(f'you can fill the jug with {x}-liter and {y}-liter to get {z}-liter')\n",
    "    for actions in solution_plan:\n",
    "        print(actions)\n",
    "else:\n",
    "    print(f'you cannot fill the jugs with current inputs')"
   ]
  },
  {
   "cell_type": "code",
   "execution_count": 213,
   "metadata": {},
   "outputs": [
    {
     "name": "stdout",
     "output_type": "stream",
     "text": [
      "Name\n",
      "Cailyn\n",
      "Scout\n",
      "Cleo\n",
      "Aaiva\n",
      "Catlin\n",
      "Rhyon\n"
     ]
    }
   ],
   "source": [
    "import urllib.request,urllib.parse,urllib.error\n",
    "from bs4 import BeautifulSoup \n",
    "url = input('Enter URL:')\n",
    "count = eval(input('Enter count:'))\n",
    "position = eval(input('Enter position:'))-1\n",
    "html = urllib.request.urlopen(url).read()\n",
    "soup = BeautifulSoup(html,\"html.parser\")\n",
    "href = soup('a')\n",
    "for i in range(count):\n",
    "    link = href[position].get('href', None)\n",
    "    print (href[position].contents[0])\n",
    "    html = urllib.request.urlopen(link).read()\n",
    "    soup = BeautifulSoup(html,\"html.parser\")\n",
    "    href = soup('a')"
   ]
  },
  {
   "cell_type": "code",
   "execution_count": 218,
   "metadata": {},
   "outputs": [
    {
     "name": "stdout",
     "output_type": "stream",
     "text": [
      "Numbers: [10, 20, 30]\n",
      "Alphabets: ['a', 'b', 'c']\n"
     ]
    }
   ],
   "source": [
    "l = ['10a', '20b', '30c']\n",
    "numbers = [int(''.join(filter(str.isdigit, s))) for s in l]\n",
    "alphabets = [''.join(filter(str.isalpha, s)) for s in l]\n",
    "print(\"Numbers:\", numbers)\n",
    "print(\"Alphabets:\", alphabets)"
   ]
  },
  {
   "cell_type": "code",
   "execution_count": 234,
   "metadata": {},
   "outputs": [
    {
     "name": "stdout",
     "output_type": "stream",
     "text": [
      "[5, 7, 9]\n"
     ]
    }
   ],
   "source": [
    "l1 = [1,2,3]\n",
    "l2 = [4,5,6]\n",
    "add = [a+b for a,b in zip(l1,l2)]\n",
    "print(add)\n"
   ]
  },
  {
   "cell_type": "code",
   "execution_count": 236,
   "metadata": {},
   "outputs": [
    {
     "name": "stdout",
     "output_type": "stream",
     "text": [
      "[1, 2, 3, 4]\n"
     ]
    }
   ],
   "source": [
    "def custom_append(lst,num):\n",
    "    lst[len(lst):] = [num]\n",
    "l = [1,2,3]\n",
    "num = 4\n",
    "custom_append(l,num)\n",
    "print(l)"
   ]
  },
  {
   "cell_type": "code",
   "execution_count": 251,
   "metadata": {},
   "outputs": [
    {
     "name": "stdout",
     "output_type": "stream",
     "text": [
      "[1, 2, 3, [4, 5, 6]]\n"
     ]
    }
   ],
   "source": [
    "def custom_extend(lst,iterable):\n",
    "    lst[len(lst):] = iterable\n",
    "l = [1,2,3]\n",
    "num = [4,5,6]\n",
    "custom_append(l,num)\n",
    "print(l)"
   ]
  },
  {
   "cell_type": "code",
   "execution_count": 239,
   "metadata": {},
   "outputs": [
    {
     "name": "stdout",
     "output_type": "stream",
     "text": [
      "[1, 2]\n"
     ]
    }
   ],
   "source": [
    "def custom_delete(lst,num):\n",
    "    if num in lst:\n",
    "        index = lst.index(num)\n",
    "        lst[index:index+1] = []\n",
    "    else:\n",
    "        print(\"number not found\")\n",
    "l = [1,2,3]\n",
    "num = 3\n",
    "custom_delete(l,num)\n",
    "print(l)\n"
   ]
  },
  {
   "cell_type": "code",
   "execution_count": 247,
   "metadata": {},
   "outputs": [
    {
     "name": "stdout",
     "output_type": "stream",
     "text": [
      "[10, 20, 30]\n",
      "['a', 'b', 'c']\n"
     ]
    }
   ],
   "source": [
    "l = ['10a','20b','30c']\n",
    "numbers = [int(''.join(filter(str.isdigit,s)))for s in l]\n",
    "print(numbers)\n",
    "alphabets = [''.join(filter(str.isalpha,s))for s in l]\n",
    "print(alphabets)"
   ]
  },
  {
   "cell_type": "code",
   "execution_count": 248,
   "metadata": {},
   "outputs": [
    {
     "name": "stdout",
     "output_type": "stream",
     "text": [
      "Welcome to Hangman, rohith!\n",
      "_ _ _ _ _ _ \n",
      "\n",
      "s _ _ _ _ _ \n",
      "\n",
      "s e _ _ e _ \n",
      "\n",
      "s e c _ e _ \n",
      "\n",
      "s e c r e _ \n",
      "\n",
      "s e c r e t \n",
      "\n",
      "Congratulations! You won!\n"
     ]
    }
   ],
   "source": [
    "import time\n",
    "\n",
    "name = input(\"Enter your name: \")\n",
    "time.sleep(1)\n",
    "print(f\"Welcome to Hangman, {name}!\")\n",
    "time.sleep(0.5)\n",
    "\n",
    "word = \"secret\"\n",
    "guesses = ''\n",
    "turns = 10\n",
    "\n",
    "while turns > 0:\n",
    "    failed = 0\n",
    "    for char in word:\n",
    "        if char in guesses:\n",
    "            print(char, end=\" \")\n",
    "        else:\n",
    "            print(\"_\", end=\" \")\n",
    "            failed += 1\n",
    "    print(\"\\n\")\n",
    "\n",
    "    if failed == 0:\n",
    "        print(\"Congratulations! You won!\")\n",
    "        break\n",
    "\n",
    "    guess = input(\"Enter your guess: \").lower()\n",
    "    guesses += guess\n",
    "\n",
    "    if guess not in word:\n",
    "        turns -= 1\n",
    "        print(\"Wrong guess! Try again.\")\n",
    "        print(f'You have {turns} turns left.\\n')\n",
    "\n",
    "        if turns == 0:\n",
    "            print(\"Oops! You ran out of turns. You lose.\")\n",
    "            print(f\"The correct word was '{word}'. Better luck next time.\")\n",
    "            break\n"
   ]
  },
  {
   "cell_type": "code",
   "execution_count": null,
   "metadata": {},
   "outputs": [],
   "source": []
  },
  {
   "cell_type": "code",
   "execution_count": null,
   "metadata": {},
   "outputs": [],
   "source": []
  }
 ],
 "metadata": {
  "kernelspec": {
   "display_name": "myenv",
   "language": "python",
   "name": "python3"
  },
  "language_info": {
   "codemirror_mode": {
    "name": "ipython",
    "version": 3
   },
   "file_extension": ".py",
   "mimetype": "text/x-python",
   "name": "python",
   "nbconvert_exporter": "python",
   "pygments_lexer": "ipython3",
   "version": "3.8.17"
  },
  "orig_nbformat": 4
 },
 "nbformat": 4,
 "nbformat_minor": 2
}
