{
 "cells": [
  {
   "cell_type": "code",
   "execution_count": 6,
   "metadata": {},
   "outputs": [
    {
     "name": "stderr",
     "output_type": "stream",
     "text": [
      "UsageError: Line magic function `%%timeit` not found.\n"
     ]
    }
   ],
   "source": [
    "import sys\n",
    "%%timeit\n",
    "sys.set_int_max_str_digits(100000000)\n",
    "def factorial(n):\n",
    "    r = 1\n",
    "    for i in range(1,n+1):\n",
    "        r *= i\n",
    "    return r\n",
    "print(factorial(4000))"
   ]
  },
  {
   "cell_type": "code",
   "execution_count": 13,
   "metadata": {},
   "outputs": [],
   "source": [
    "# def dp_fact(n,memo = {}):\n",
    "#     if n ==0 : return 1\n",
    "#     if n in memo: return memo[n]\n",
    "#     memo[n] = n*dp_fact(n-1,memo)\n",
    "#     return memo[n]\n",
    "# print(dp_fact(4000))\n",
    "    "
   ]
  },
  {
   "cell_type": "code",
   "execution_count": 2,
   "metadata": {},
   "outputs": [
    {
     "name": "stdout",
     "output_type": "stream",
     "text": [
      "Following is the Breadth-First Search\n",
      "5 3 7 2 4 8 "
     ]
    }
   ],
   "source": [
    "#bfs\n",
    "graph = {\n",
    "  '5' : ['3','7'],\n",
    "  '3' : ['2', '4'],\n",
    "  '7' : ['8'],\n",
    "  '2' : [],\n",
    "  '4' : ['8'],\n",
    "  '8' : []\n",
    "}\n",
    "\n",
    "visited = [] # List for visited nodes.\n",
    "queue = []     #Initialize a queue\n",
    "\n",
    "def bfs(visited, graph, node): #function for BFS\n",
    "  visited.append(node)\n",
    "  queue.append(node)\n",
    "\n",
    "  while queue:          # Creating loop to visit each node\n",
    "    m = queue.pop(0) \n",
    "    print (m, end = \" \") \n",
    "\n",
    "    for neighbour in graph[m]:\n",
    "      if neighbour not in visited:\n",
    "        visited.append(neighbour)\n",
    "        queue.append(neighbour)\n",
    "\n",
    "# Driver Code\n",
    "print(\"Following is the Breadth-First Search\")\n",
    "bfs(visited, graph, '5')    # function calling"
   ]
  },
  {
   "cell_type": "code",
   "execution_count": 3,
   "metadata": {},
   "outputs": [
    {
     "name": "stdout",
     "output_type": "stream",
     "text": [
      "the breadth first search algorithm is -->\n",
      "5"
     ]
    }
   ],
   "source": [
    "graph = {\n",
    "  '5' : ['3','7'],\n",
    "  '3' : ['2', '4'],\n",
    "  '7' : ['8'],\n",
    "  '2' : [],\n",
    "  '4' : ['8'],\n",
    "  '8' : []\n",
    "}\n",
    "visited = []\n",
    "queue = []\n",
    "def bfs(visited , garph , node):\n",
    "    visited.append(node)\n",
    "    queue.append(node)\n",
    "    while queue:\n",
    "        m = queue.pop(0)\n",
    "        print(m , end =\"\")\n",
    "    for neighbour in graph[m]:\n",
    "        if neighbour not in visited:\n",
    "            visited.append(neighbour)\n",
    "            queue.append(neighbour)\n",
    "#driever code\n",
    "print(\"the breadth first search algorithm is -->\")\n",
    "bfs(visited,graph,'5')\n",
    "            "
   ]
  },
  {
   "cell_type": "code",
   "execution_count": null,
   "metadata": {},
   "outputs": [],
   "source": []
  },
  {
   "cell_type": "code",
   "execution_count": null,
   "metadata": {},
   "outputs": [],
   "source": []
  }
 ],
 "metadata": {
  "kernelspec": {
   "display_name": "myenv",
   "language": "python",
   "name": "python3"
  },
  "language_info": {
   "codemirror_mode": {
    "name": "ipython",
    "version": 3
   },
   "file_extension": ".py",
   "mimetype": "text/x-python",
   "name": "python",
   "nbconvert_exporter": "python",
   "pygments_lexer": "ipython3",
   "version": "3.8.17"
  },
  "orig_nbformat": 4
 },
 "nbformat": 4,
 "nbformat_minor": 2
}
