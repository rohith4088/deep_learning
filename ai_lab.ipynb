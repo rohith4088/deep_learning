{
 "cells": [
  {
   "cell_type": "code",
   "execution_count": null,
   "metadata": {},
   "outputs": [],
   "source": [
    "import sys\n",
    "sys.set_int_max_str_digits(100000000)\n",
    "def factorial(n):\n",
    "    r = 1\n",
    "    for i in range(1,n+1):\n",
    "        r *= i\n",
    "    return r\n",
    "print(factorial(4000))"
   ]
  },
  {
   "cell_type": "code",
   "execution_count": 266,
   "metadata": {},
   "outputs": [
    {
     "name": "stdout",
     "output_type": "stream",
     "text": [
      "788657867364790503552363213932185062295135977687173263294742533244359449963403342920304284011984623904177212138919638830257642790242637105061926624952829931113462857270763317237396988943922445621451664240254033291864131227428294853277524242407573903240321257405579568660226031904170324062351700858796178922222789623703897374720000000000000000000000000000000000000000000000000\n"
     ]
    }
   ],
   "source": [
    "def fact(n):\n",
    "    r = 1\n",
    "    for i in range(1,n+1):\n",
    "        r *= i\n",
    "    return r\n",
    "print(fact(200))"
   ]
  },
  {
   "cell_type": "code",
   "execution_count": null,
   "metadata": {},
   "outputs": [],
   "source": [
    "# def dp_fact(n,memo = {}):\n",
    "#     if n ==0 : return 1\n",
    "#     if n in memo: return memo[n]\n",
    "#     memo[n] = n*dp_fact(n-1,memo)\n",
    "#     return memo[n]\n",
    "# print(dp_fact(4000))\n",
    "    "
   ]
  },
  {
   "cell_type": "code",
   "execution_count": null,
   "metadata": {},
   "outputs": [],
   "source": [
    "#bfs\n",
    "graph = {\n",
    "  '5' : ['3','7'],\n",
    "  '3' : ['2', '4'],\n",
    "  '7' : ['8'],\n",
    "  '2' : [],\n",
    "  '4' : ['8'],\n",
    "  '8' : []\n",
    "}\n",
    "\n",
    "visited = [] # List for visited nodes.\n",
    "queue = []     #Initialize a queue\n",
    "\n",
    "def bfs(visited, graph, node): #function for BFS\n",
    "  visited.append(node)\n",
    "  queue.append(node)\n",
    "\n",
    "  while queue:          # Creating loop to visit each node\n",
    "    m = queue.pop(0) \n",
    "    print (m, end = \" \") \n",
    "\n",
    "    for neighbour in graph[m]:\n",
    "      if neighbour not in visited:\n",
    "        visited.append(neighbour)\n",
    "        queue.append(neighbour)\n",
    "\n",
    "# Driver Code\n",
    "print(\"Following is the Breadth-First Search\")\n",
    "bfs(visited, graph, '5')    # function calling"
   ]
  },
  {
   "cell_type": "code",
   "execution_count": null,
   "metadata": {},
   "outputs": [],
   "source": [
    "graph = {\n",
    "  '5' : ['3','7'],\n",
    "  '3' : ['2', '4'],\n",
    "  '7' : ['8'],\n",
    "  '2' : [],\n",
    "  '4' : ['8'],\n",
    "  '8' : []\n",
    "}\n",
    "visited = []\n",
    "queue = []\n",
    "def bfs(visited , graph , node):\n",
    "    visited.append(node)\n",
    "    queue.append(node)\n",
    "    while queue:\n",
    "        m = queue.pop(0)\n",
    "        print(m , end =\" \")\n",
    "        for neighbour in graph[m]:\n",
    "            if neighbour not in visited:\n",
    "                visited.append(neighbour)\n",
    "                queue.append(neighbour)\n",
    "#driever code\n",
    "print(\"the breadth first search algorithm is -->\")\n",
    "bfs(visited,graph,'5')\n",
    "            "
   ]
  },
  {
   "cell_type": "code",
   "execution_count": null,
   "metadata": {},
   "outputs": [],
   "source": [
    "graph  = {\n",
    "    '5' : ['3','7'],\n",
    "    '3' : ['2','4'],\n",
    "    '7' : ['8'],\n",
    "    '2' : [],\n",
    "    '4' : ['8'],\n",
    "    '8' : []\n",
    "    \n",
    "}\n",
    "visited = []\n",
    "queue = []\n",
    "def bfs(visited , graph , node):\n",
    "    visited.append(node)\n",
    "    queue.append(node)\n",
    "    while queue :\n",
    "        m = queue.pop(0)\n",
    "        print(m,end = \" \")\n",
    "        for neighbour in graph[m]:\n",
    "            if neighbour not in visited:\n",
    "                visited.append(neighbour)\n",
    "                queue.append(neighbour)\n",
    "print(\"the bfs result is-->\")\n",
    "bfs(visited,graph,'5')"
   ]
  },
  {
   "cell_type": "code",
   "execution_count": null,
   "metadata": {},
   "outputs": [],
   "source": [
    "graph = {\n",
    "    '5' : ['3','7'],\n",
    "    '3' : ['2','4'],\n",
    "    '7' : ['8'],\n",
    "    '2' : [],\n",
    "    '4' : ['8'],\n",
    "    '8' : []\n",
    "}\n",
    "visited = []\n",
    "stack = []\n",
    "def dfs(visited ,  graph , node):\n",
    "    visited.append(node)\n",
    "    stack.append(node[0])\n",
    "    while stack:\n",
    "        m = stack"
   ]
  },
  {
   "cell_type": "code",
   "execution_count": null,
   "metadata": {},
   "outputs": [],
   "source": [
    "import sys\n",
    "sys.set_int_max_str_digits(10000)\n",
    "def fcat(n):\n",
    "    r = 1\n",
    "    for i in range(1,n+1):\n",
    "        r *=i\n",
    "    return r\n",
    "print(fcat(1000))"
   ]
  },
  {
   "cell_type": "code",
   "execution_count": null,
   "metadata": {},
   "outputs": [],
   "source": [
    "graph = {\n",
    "    '5' : ['3','7'],\n",
    "    '3' : ['2','4'],\n",
    "    '7' : ['8'],\n",
    "    '2' : [],\n",
    "    '4' : ['8'],\n",
    "    '8' :[]\n",
    "}\n",
    "visited = []\n",
    "queue = []\n",
    "def bfs(visited,graph,node):\n",
    "    visited.append(node)\n",
    "    queue.append(node)\n",
    "    while queue:\n",
    "        m = queue.pop(0)\n",
    "        print(m,end = ' ')\n",
    "        for neighbour in graph[m]:\n",
    "            if neighbour not in visited:\n",
    "                visited.append(neighbour)\n",
    "                queue.append(neighbour)\n",
    "print(bfs(visited,graph,'5'))"
   ]
  },
  {
   "cell_type": "code",
   "execution_count": 261,
   "metadata": {},
   "outputs": [
    {
     "name": "stdout",
     "output_type": "stream",
     "text": [
      "1 x 1  =  1\n",
      "1 x 2  =  2\n",
      "1 x 3  =  3\n",
      "1 x 4  =  4\n",
      "1 x 5  =  5\n",
      "1 x 6  =  6\n",
      "1 x 7  =  7\n",
      "1 x 8  =  8\n",
      "1 x 9  =  9\n",
      "1 x 10  =  10\n"
     ]
    }
   ],
   "source": [
    "num = int(input(\"enetee the number-->\"))\n",
    "for i in range(1,11):\n",
    "    print(num , \"x\" , i,\" = \" ,num*i)"
   ]
  },
  {
   "cell_type": "markdown",
   "metadata": {},
   "source": []
  },
  {
   "cell_type": "code",
   "execution_count": null,
   "metadata": {},
   "outputs": [],
   "source": [
    "num = 29\n",
    "flag = False\n",
    "if num == 1:\n",
    "    print(\"not a prime\")\n",
    "elif num > 1:\n",
    "    for i in range (2,num):\n",
    "        if num % i == 0:\n",
    "            flag = True\n",
    "            break\n",
    "    if flag:\n",
    "        print(\"not a prime\")\n",
    "    else:\n",
    "        print(\"prime number\")"
   ]
  },
  {
   "cell_type": "code",
   "execution_count": null,
   "metadata": {},
   "outputs": [],
   "source": [
    "x = [[1,2,3],[4,5,6],[7,8,9]]\n",
    "y = [[9,8,7],[6,5,4],[3,2,1]]\n",
    "res = [list((map(sum,zip(*t))))for t in zip(x,y)]\n",
    "print(res)"
   ]
  },
  {
   "cell_type": "code",
   "execution_count": null,
   "metadata": {},
   "outputs": [],
   "source": [
    "X = [[1,2,3],\n",
    "    [4 ,5,6],\n",
    "    [7 ,8,9]]\n",
    "  \n",
    "Y = [[9,8,7],\n",
    "    [6,5,4],\n",
    "    [3,2,1]]\n",
    " \n",
    "result = [map(sum, zip(*t)) for t in zip(X, Y)]\n",
    "  \n",
    "for i in res:\n",
    "    print(i)"
   ]
  },
  {
   "cell_type": "code",
   "execution_count": null,
   "metadata": {},
   "outputs": [],
   "source": [
    "x = [[1,2,3],[4,5,6],[7,8,9]]\n",
    "y = [[9,8,7],[6,5,4],[3,2,1]]\n",
    "res = [list(map(sum,zip(*t)))for t in zip(x,y)]\n",
    "print(res)"
   ]
  },
  {
   "cell_type": "code",
   "execution_count": null,
   "metadata": {},
   "outputs": [],
   "source": [
    "res2 = [[a*b for a,b in zip(i,j)]for i , j in zip(x,y)]\n",
    "print(res2)"
   ]
  },
  {
   "cell_type": "code",
   "execution_count": null,
   "metadata": {},
   "outputs": [],
   "source": [
    "transposed_res = [list(row) for row in zip(*res2)]\n",
    "print(transposed_res)"
   ]
  },
  {
   "cell_type": "code",
   "execution_count": null,
   "metadata": {},
   "outputs": [],
   "source": [
    "x = [[1,2,3],[4,5,6],[7,8,9]]\n",
    "y = [[9,8,7],[6,5,4],[3,2,1]]\n",
    "#sum\n",
    "res = [list(map(sum,zip(*t)))for t in zip(x,y)]\n",
    "print(\"the sum is --->\",res)\n",
    "#multiplication\n",
    "res2 = [[a*b for a , b in zip(i,j)]for i , j in zip(x,y)]\n",
    "print(\"the multiplication res is -->\",res2)\n",
    "#transpose\n",
    "\n",
    "transpose = [list(row) for row in zip(*res2)]\n",
    "print(\"the transpose is -->\",transpose)"
   ]
  },
  {
   "cell_type": "code",
   "execution_count": null,
   "metadata": {},
   "outputs": [],
   "source": [
    "x = [[1,2,3],[4,5,6],[7,8,9]]\n",
    "y = [[2,3,4],[4,3,2],[7,6,5]]\n",
    "sums = [[a +b for a,b in zip(i,j)]for i,j in zip(x,y)]\n",
    "print(sums)\n",
    "mul = [[a * b for a,b in zip(i,j)]for i ,j in zip(x,y)]\n",
    "print(mul)\n",
    "transx = [[row[i] for row in x]for i in range(0,3)]\n",
    "print(transx)"
   ]
  },
  {
   "cell_type": "code",
   "execution_count": null,
   "metadata": {},
   "outputs": [],
   "source": [
    "def water_jug_problem(capacity_x, capacity_y, target):\n",
    "    if target > max(capacity_x, capacity_y) or target % gcd(capacity_x, capacity_y) != 0:\n",
    "        return \"Not possible to measure the target amount.\"\n",
    "\n",
    "    def gcd(a, b):\n",
    "        while b:\n",
    "            a, b = b, a % b\n",
    "        return a\n",
    "\n",
    "    def pour(x, y):\n",
    "        if x == 0:\n",
    "            return 0, y\n",
    "        elif y == capacity_y:\n",
    "            return x, 0\n",
    "        elif x + y <= capacity_y:\n",
    "            return 0, x + y\n",
    "        else:\n",
    "            return x - (capacity_y - y), capacity_y\n",
    "\n",
    "    jug_x = 0\n",
    "    jug_y = 0\n",
    "    steps = []\n",
    "\n",
    "    while jug_x != target and jug_y != target:\n",
    "        jug_x, jug_y = pour(jug_x, jug_y)\n",
    "        steps.append((jug_x, jug_y))\n",
    "\n",
    "    if jug_x == target:\n",
    "        steps.append((jug_x, jug_y))\n",
    "        return steps\n",
    "\n",
    "    return \"Not possible to measure the target amount.\"\n",
    "\n",
    "# Example usage\n",
    "capacity_x = 4  # Capacity of the first jug\n",
    "capacity_y = 3  # Capacity of the second jug\n",
    "target = 2     # Target amount to measure\n",
    "\n",
    "result = water_jug_problem(capacity_x, capacity_y, target)\n",
    "if isinstance(result, list):\n",
    "    print(f\"Steps to measure {target} liters: {result}\")\n",
    "else:\n",
    "    print(result)\n"
   ]
  },
  {
   "cell_type": "code",
   "execution_count": null,
   "metadata": {},
   "outputs": [],
   "source": [
    "num = 29\n",
    "for i in range (1,num+1):\n",
    "    print(num,\"x\",i,'=',num*i)\n",
    "    "
   ]
  },
  {
   "cell_type": "code",
   "execution_count": null,
   "metadata": {},
   "outputs": [],
   "source": [
    "x = [[1,2,3],[4,5,6],[7,8,9]]\n",
    "y = [[9,8,7],[6,5,4],[3,2,1]]\n",
    "res = [list(map(sum,zip(*t))) for t in zip(x,y)]\n",
    "print(res)\n",
    "res2 = [[a*b for a,b in zip(i,j)] for i,j in zip(x,y)]\n",
    "print(res2)\n",
    "transpose  = [list(row) for row in zip(*res2)]\n",
    "print(transpose)"
   ]
  },
  {
   "cell_type": "code",
   "execution_count": null,
   "metadata": {},
   "outputs": [],
   "source": [
    "graph = {\n",
    "    '5' : ['2','4'],\n",
    "    '2' : ['7','8'],\n",
    "    '7' : [],\n",
    "    '4' :['8'],\n",
    "    '8' : []\n",
    "}\n",
    "visited = []\n",
    "queue =[]\n",
    "def bfs(visted , graph,node):\n",
    "    visited.append(node)\n",
    "    queue.append(node)\n",
    "    while queue :\n",
    "        m = queue.pop(0)\n",
    "        print(m,end=\" \")\n",
    "        for neighbour in graph[m]:\n",
    "            if neighbour not in visited:\n",
    "                visited.append(neighbour)\n",
    "                queue.append(neighbour)\n",
    "print(bfs(visited,graph,'5'))"
   ]
  },
  {
   "cell_type": "code",
   "execution_count": null,
   "metadata": {},
   "outputs": [],
   "source": [
    "import sys\n",
    "sys.set_int_max_str_digits(100000)\n",
    "def fact(n):\n",
    "    r =1 \n",
    "    for i in range (1,n+1):\n",
    "        r *= i\n",
    "    return r\n",
    "print(fact(4000))"
   ]
  },
  {
   "cell_type": "code",
   "execution_count": null,
   "metadata": {},
   "outputs": [],
   "source": [
    "import calendar as ca\n",
    "ca.monthcalendar(2023,10)"
   ]
  },
  {
   "cell_type": "code",
   "execution_count": null,
   "metadata": {},
   "outputs": [],
   "source": [
    "#water jug problem using bfs\n",
    "from collections import deque\n",
    "\n",
    "def water_jug_BFS(x, y, z):\n",
    "    visited = set()\n",
    "    queue = deque([(0, 0)])\n",
    "    \n",
    "    while queue:\n",
    "        jug_a, jug_b = queue.popleft()\n",
    "        \n",
    "        if jug_a == z or jug_b == z or jug_a + jug_b == z:\n",
    "            return True\n",
    "        \n",
    "        if (jug_a, jug_b) in visited:\n",
    "            continue\n",
    "        \n",
    "        visited.add((jug_a, jug_b))\n",
    "        \n",
    "        # Fill jug A\n",
    "        if jug_a < x:\n",
    "            queue.append((x, jug_b))\n",
    "        \n",
    "        # Fill jug B\n",
    "        if jug_b < y:\n",
    "            queue.append((jug_a, y))\n",
    "        \n",
    "        # Empty jug A\n",
    "        if jug_a > 0:\n",
    "            queue.append((0, jug_b))\n",
    "        \n",
    "        # Empty jug B\n",
    "        if jug_b > 0:\n",
    "            queue.append((jug_a, 0))\n",
    "        \n",
    "        # Pour from A to B\n",
    "        if jug_a + jug_b >= y:\n",
    "            queue.append((jug_a - (y - jug_b), y))\n",
    "        else:\n",
    "            queue.append((0, jug_a + jug_b))\n",
    "        \n",
    "        # Pour from B to A\n",
    "        if jug_a + jug_b >= x:\n",
    "            queue.append((x, jug_b - (x - jug_a)))\n",
    "        else:\n",
    "            queue.append((jug_a + jug_b, 0))\n",
    "    \n",
    "    return False\n",
    "\n",
    "x = 4  # Capacity of jug A\n",
    "y = 3  # Capacity of jug B\n",
    "z = 2  # Desired amount of water\n",
    "\n",
    "if water_jug_BFS(x, y, z):\n",
    "    print(f'You can measure {z} liters of water using {x}-liter and {y}-liter jugs.')\n",
    "else:\n",
    "    print(f'You cannot measure {z} liters of water using {x}-liter and {y}-liter jugs.')"
   ]
  },
  {
   "cell_type": "code",
   "execution_count": null,
   "metadata": {},
   "outputs": [],
   "source": [
    "from collections import deque\n",
    "def water_jug(x,y,z)-> bool:\n",
    "    #where x is the ca[acity of A , y is the capacity of B and z is the goal state\n",
    "    visited = set()\n",
    "    queue = deque([(0,0)])\n",
    "    while queue :\n",
    "        jug_a , jug_b = queue.popleft() #pop from the front\n",
    "        if jug_a == z or jug_b == z or jug_a + jug_b == z:\n",
    "            return True\n",
    "        if (jug_a,jug_b) in visited :\n",
    "            continue\n",
    "        visited.add((jug_a,jug_b))\n",
    "        #FILL JUG A\n",
    "        if jug_a < x:\n",
    "            queue.append((x,jug_b))\n",
    "        #FILL JUG B\n",
    "        if jug_b < y:\n",
    "            queue.append((jug_a,y))\n",
    "        #EMPTY JUG A \n",
    "        if jug_a > 0:\n",
    "            queue.append((0,jug_b))\n",
    "        #EMPTY JUG B\n",
    "        if jug_b > 0:\n",
    "            queue.append((jug_a,0))\n",
    "        # POUR FROM A TO B\n",
    "        if jug_a + jug_b >= y:\n",
    "            queue.append((jug_a-(y-jug_b),y))\n",
    "        else:\n",
    "            queue.append((0,jug_a+jug_b))\n",
    "        #POUR FROM B TO A\n",
    "        if jug_a + jug_b >= x:\n",
    "            queue.append((x,jug_b-(x-jug_a)))\n",
    "        else:\n",
    "            queue.append((jug_a+jug_b,0))\n",
    "    return False\n",
    "x = 4\n",
    "y = 3\n",
    "z = 2\n",
    "if water_jug(x,y,z):\n",
    "    print(f'you can fill {z} amount of water using {x} and {y}')\n",
    "else:\n",
    "    print(\"cannot compute\")"
   ]
  },
  {
   "cell_type": "code",
   "execution_count": null,
   "metadata": {},
   "outputs": [],
   "source": [
    "from collections import deque\n",
    "def water_jug(x,y,z):\n",
    "    visited = set()\n",
    "    queue = deque([(0,0)])\n",
    "    while queue:\n",
    "        jug_a,jug_b = queue.popleft() #pop from the front\n",
    "        if jug_a == z or jug_b == z or  jug_a + jug_b == z:\n",
    "            return True\n",
    "        if (jug_a,jug_b) in visited:\n",
    "            continue\n",
    "        visited.add((jug_a,jug_b))\n",
    "        # fill jug a \n",
    "        if jug_a < x:\n",
    "            queue.append((x,jug_b))\n",
    "        #fill jug b\n",
    "        if jug_b < y:\n",
    "            queue.append((jug_b,y))\n",
    "        #empty jug a \n",
    "        if jug_a > 0:\n",
    "            queue.append((0,jug_b))\n",
    "        #empty jug b\n",
    "        if jug_b > 0:\n",
    "            queue.append((jug_a,0))\n",
    "        #pour from a to b\n",
    "        if jug_a + jug_b >= y:\n",
    "            queue.append((jug_a-(y-jug_b),y))\n",
    "        else:\n",
    "            queue.append((0,jug_a+jug_b))\n",
    "        #pour from b to a\n",
    "        if jug_a+jug_b >= x:\n",
    "            queue.append((x,jug_b-(x-jug_a)))\n",
    "        else:\n",
    "            queue.append((jug_a+jug_b,0))\n",
    "    return False\n",
    "x = 4\n",
    "y = 3\n",
    "z = 2\n",
    "if water_jug(x,y,z):\n",
    "    print(f'you can fill {z} amount of water using {x} and {y}')\n",
    "else:\n",
    "    print(\"cannot compute\")"
   ]
  },
  {
   "cell_type": "code",
   "execution_count": null,
   "metadata": {},
   "outputs": [],
   "source": [
    "#remove puncuations from the string\n",
    "import string\n",
    "s = 'this is an ! example for @ removing stop words'\n",
    "for c in string.punctuation:\n",
    "    res = res.replace(c,\" \")\n",
    "    \n",
    "print(res)\n",
    "res1 = ''.join([c if c not in string.punctuation else '' for c in s])\n",
    "print(res1)"
   ]
  },
  {
   "cell_type": "code",
   "execution_count": null,
   "metadata": {},
   "outputs": [],
   "source": [
    "from functools import reduce\n",
    "s = \"exmaple for string sorting\"\n",
    "res = reduce(lambda x , y : x+y ,sorted(s))\n",
    "print(res)\n"
   ]
  },
  {
   "cell_type": "code",
   "execution_count": null,
   "metadata": {},
   "outputs": [],
   "source": [
    "#hangman game\n",
    "import time\n",
    "name  = input(\"enter your name-->\")\n",
    "time.sleep(1)\n",
    "print(f\"time to play hangman {name}\")\n",
    "time.sleep(0.5)\n",
    "word = (\"secret\")\n",
    "guesses = ''\n",
    "turns = 10\n",
    "while turns > 0:\n",
    "    failed = 0\n",
    "    for char in word:\n",
    "        if char in guesses :\n",
    "            print(char,end  = \"\")\n",
    "        else :\n",
    "            print(\"_\",end = \"\")\n",
    "            failed += 1\n",
    "    if failed == 0:\n",
    "        print(\"you won\")\n",
    "        break\n",
    "    guess = input(\"enter a charecter\")\n",
    "    guesses += guess\n",
    "    if guess not in word:\n",
    "        turns -= 1\n",
    "        print(\"wrong\")\n",
    "        print(\"you have\",+turns,\"left\")\n",
    "        if turns == 0:\n",
    "            print(\"you loose\")\n",
    "            \n",
    "    \n",
    "        "
   ]
  },
  {
   "cell_type": "code",
   "execution_count": null,
   "metadata": {},
   "outputs": [],
   "source": [
    "import time \n",
    "name = input(\"enter your name\")\n",
    "time.sleep(1)\n",
    "print(f'time to play hangman {name}')\n",
    "time.sleep(0.5)\n",
    "word = (\"secret\")\n",
    "guesses = ''\n",
    "turns = 10\n",
    "while turns > 0:\n",
    "    failed = 0\n",
    "    for char in word:\n",
    "        if char in guesses:\n",
    "            print(char,end = \" \")\n",
    "        else:\n",
    "            print(\"_\",end = \" \")\n",
    "            failed += 1\n",
    "    if failed == 0:\n",
    "        print(\"you won\")\n",
    "        break\n",
    "    guess = input(\"enter your guess-->\")\n",
    "    guesses += guess\n",
    "    if guess not in word:\n",
    "        turns -= 1\n",
    "        print(\"wrong\")\n",
    "        print(f'you have {turns} left')\n",
    "        if turns == 0:\n",
    "            print(\"you loose\")\n",
    "        "
   ]
  },
  {
   "cell_type": "code",
   "execution_count": null,
   "metadata": {},
   "outputs": [],
   "source": [
    "import nltk\n",
    "from nltk.stem import PorterStemmer\n",
    "nltk.download(\"punkt\")\n",
    "# Initialize Python porter stemmer\n",
    "ps = PorterStemmer()\n",
    "# Example inflections to reduce\n",
    "example_words = [\"program\",\"programming\",\"programer\",\"programs\",\"programmed\"]\n",
    "# Perform stemming\n",
    "print(\"{0:20}{1:20}\".format(\"--Word--\",\"--Stem--\"))\n",
    "for word in example_words:\n",
    "   print (\"{0:20}{1:20}\".format(word, ps.stem(word)))\n",
    "\n",
    "\"\"\"\n",
    "--Word--            --Stem--            \n",
    "program             program             \n",
    "programming         program             \n",
    "programer           program             \n",
    "programs            program             \n",
    "programmed          program\n",
    "\n",
    "\"\"\""
   ]
  },
  {
   "cell_type": "code",
   "execution_count": null,
   "metadata": {},
   "outputs": [],
   "source": [
    "#stemming using nltk\n",
    "import nltk \n",
    "from nltk.stem import PorterStemmer\n",
    "nltk.download(\"punkt\")\n",
    "example_words = [\"program\",\"programming\",\"programer\",\"programs\",\"programmed\"]\n",
    "print(\"{0:20}{1:20}\".format(\"--word--\",\"--stem--\"))\n",
    "for char in example_words:\n",
    "    print(\"{0:20}{1:20}\".format(word,ps.stem(word)))\n",
    "    "
   ]
  },
  {
   "cell_type": "code",
   "execution_count": 128,
   "metadata": {},
   "outputs": [
    {
     "name": "stdout",
     "output_type": "stream",
     "text": [
      "--word--            --stem--            \n",
      "program             program             \n",
      "programming         program             \n",
      "programer           program             \n",
      "programs            program             \n",
      "programmed          program             \n"
     ]
    },
    {
     "name": "stderr",
     "output_type": "stream",
     "text": [
      "[nltk_data] Downloading package punkt to /Users/rohithr/nltk_data...\n",
      "[nltk_data]   Package punkt is already up-to-date!\n"
     ]
    }
   ],
   "source": [
    "import nltk\n",
    "from nltk.stem import PorterStemmer\n",
    "nltk.download(\"punkt\")\n",
    "ps = PorterStemmer()\n",
    "example_words =[\"program\",\"programming\",\"programer\",\"programs\",\"programmed\"]\n",
    "print(\"{0:20}{1:20}\".format(\"--word--\",\"--stem--\"))\n",
    "for char in example_words:\n",
    "    print(\"{0:20}{1:20}\".format(char,ps.stem(char)))"
   ]
  },
  {
   "cell_type": "code",
   "execution_count": null,
   "metadata": {},
   "outputs": [],
   "source": [
    "#lemmatization\n",
    "from nltk.stem import WordNetLemmatizer\n",
    "nltk.download(\"wordnet\")\n",
    "nltk.download(\"omw-1.4\")\n",
    "wnl = WordNetLemmatizer()\n",
    "example_words = [\"program\",\"programming\",\"programer\",\"programs\",\"programmed\"]\n",
    "print(\"{0:20}{1:20}\".format(\"--word--\",\"--lem--\"))\n",
    "for char in example_words:\n",
    "    print(\"{0:20}{1:20}\".format(char,wnl.lemmatize(char,pos = 'v')))"
   ]
  },
  {
   "cell_type": "code",
   "execution_count": null,
   "metadata": {},
   "outputs": [],
   "source": [
    "import nltk\n",
    "from nltk.stem import WordNetLemmatizer\n",
    "nltk.download(\"wordnet\")\n",
    "nltk.download(\"omw-1.4\")\n",
    "wnl = WordNetLemmatizer()\n",
    "example_words = [\"program\",\"programming\",\"programer\",\"programs\",\"programmed\"]\n",
    "print(\"{0:20}{1:20}\".format(\"--word--\",\"--lemma--\"))\n",
    "for word in example_words:\n",
    "    print(\"{0:20}{1:20}\".format(word,wnl.lemmatize(word,pos = 'v')))"
   ]
  },
  {
   "cell_type": "code",
   "execution_count": null,
   "metadata": {},
   "outputs": [],
   "source": []
  },
  {
   "cell_type": "code",
   "execution_count": null,
   "metadata": {},
   "outputs": [],
   "source": [
    "#removing stop words\n",
    "\n",
    "import nltk \n",
    "from nltk.corpus import stopwords\n",
    "nltk.download(\"stopwords\")\n",
    "stop_words = set(stopwords.words(\"english\"))\n",
    "def remove_stop(sentnce):\n",
    "    words = sentnce.split()\n",
    "    filtered = [word for word in words if  word not in stop_words]\n",
    "    return ''.join(filtered)\n",
    "remove_stop(\"hello my name is rohith\")"
   ]
  },
  {
   "cell_type": "code",
   "execution_count": null,
   "metadata": {},
   "outputs": [],
   "source": [
    "import nltk\n",
    "from nltk.corpus import stopwords\n",
    "nltk.download(\"stopwords\")\n",
    "stop_words = set(stopwords.words(\"english\"))\n",
    "def remove_stop(sentnce):\n",
    "    words = sentnce.split()\n",
    "    filtered = [word for word in words if word not in stop_words]\n",
    "    return ''.join(filtered)\n",
    "remove_stop(\"this is an example for removing stopwords\")"
   ]
  },
  {
   "cell_type": "code",
   "execution_count": null,
   "metadata": {},
   "outputs": [],
   "source": [
    "res = [i for i in range(15) if i % 2 != 0]"
   ]
  },
  {
   "cell_type": "code",
   "execution_count": null,
   "metadata": {},
   "outputs": [],
   "source": [
    "mat = [[1,2,3],[4,5,6],[7,8,9]]\n",
    "transpose = [[row[x] for row in mat] for x in range(2)]\n",
    "print(transpose)"
   ]
  },
  {
   "cell_type": "code",
   "execution_count": null,
   "metadata": {},
   "outputs": [],
   "source": [
    "x = [[1,2,3],[4,5,6],[7,8,9]]\n",
    "y = [[2,3,4],[4,3,2],[7,6,5]]\n",
    "sums = [[a +b for a,b in zip(i,j)]for i,j in zip(x,y)]\n",
    "print(sums)\n",
    "mul = [[a * b for a,b in zip(i,j)]for i ,j in zip(x,y)]\n",
    "print(mul)\n",
    "transx = [[row[i] for row in x]for i in range(0,3)]\n",
    "print(transx)"
   ]
  },
  {
   "cell_type": "code",
   "execution_count": null,
   "metadata": {},
   "outputs": [],
   "source": [
    "l1 = [1,2,3]\n",
    "l2 = [4,5,6]\n",
    "res = [a+b for a,b in zip(l1,l2)]\n",
    "print(res)"
   ]
  },
  {
   "cell_type": "code",
   "execution_count": 255,
   "metadata": {},
   "outputs": [
    {
     "name": "stdout",
     "output_type": "stream",
     "text": [
      "[4, 16, 36, 64, 100]\n"
     ]
    }
   ],
   "source": [
    "even_numbers = [x**2 for x in range(1,11) if x %2 == 0]\n",
    "print(even_numbers)\n"
   ]
  },
  {
   "cell_type": "code",
   "execution_count": 257,
   "metadata": {},
   "outputs": [
    {
     "name": "stdout",
     "output_type": "stream",
     "text": [
      "['h', 'e', 'l', 'l', 'o']\n"
     ]
    }
   ],
   "source": [
    "s = \"hello\"\n",
    "sl = [x for x in s]\n",
    "print(sl)"
   ]
  },
  {
   "cell_type": "code",
   "execution_count": 254,
   "metadata": {},
   "outputs": [
    {
     "name": "stdout",
     "output_type": "stream",
     "text": [
      "[2, 3, 5, 7, 11, 13, 17, 19, 23, 29, 31, 37, 41, 43, 47, 53, 59, 61, 67, 71, 73, 79, 83, 89, 97]\n"
     ]
    }
   ],
   "source": [
    "def isprime(num) -> list:\n",
    "    return num > 1 and all(num % i != 0 for i in range(2,int(num**0.5)+1))\n",
    "l = [x for x in range(1,100) if isprime(x)]\n",
    "print(l)\n"
   ]
  },
  {
   "cell_type": "code",
   "execution_count": 253,
   "metadata": {},
   "outputs": [
    {
     "name": "stdout",
     "output_type": "stream",
     "text": [
      "[[1, 4, 7], [2, 5, 8], [3, 6, 9]]\n"
     ]
    }
   ],
   "source": [
    "x = [[1,2,3],[4,5,6],[7,8,9]]\n",
    "y = [[4,3,2],[5,6,4],[8,7,9]]\n",
    "transx = [[row[i] for row in x] for i in range(0,3)]\n",
    "print(transx)"
   ]
  },
  {
   "cell_type": "code",
   "execution_count": null,
   "metadata": {},
   "outputs": [],
   "source": [
    "import string\n",
    "s = 'this is an @ eample ! to remove , stop words!!'\n",
    "res = ''.join([c  if c not in string.punctuation else '' for c in s])\n",
    "print(res)"
   ]
  },
  {
   "cell_type": "code",
   "execution_count": 208,
   "metadata": {},
   "outputs": [
    {
     "name": "stdout",
     "output_type": "stream",
     "text": [
      "You can measure 2 liters of water using 4-liter and 3-liter jugs.\n",
      "Solution Plan:\n",
      "Fill jug B\n",
      "Pour from B to A\n",
      "Fill jug B\n",
      "Pour from B to A\n"
     ]
    }
   ],
   "source": [
    "from collections import deque\n",
    "\n",
    "def water_jug_BFS(x, y, z):\n",
    "    visited = set()\n",
    "    queue = deque([(0, 0, [])])\n",
    "    \n",
    "    while queue:\n",
    "        jug_a, jug_b, actions = queue.popleft()\n",
    "        \n",
    "        if jug_a == z or jug_b == z or jug_a + jug_b == z:\n",
    "            return True, actions\n",
    "        \n",
    "        if (jug_a, jug_b) in visited:\n",
    "            continue\n",
    "        \n",
    "        visited.add((jug_a, jug_b))\n",
    "        \n",
    "        # Fill jug A\n",
    "        if jug_a < x:\n",
    "            queue.append((x, jug_b, actions + ['Fill jug A']))\n",
    "        \n",
    "        # Fill jug B\n",
    "        if jug_b < y:\n",
    "            queue.append((jug_a, y, actions + ['Fill jug B']))\n",
    "        \n",
    "        # Empty jug A\n",
    "        if jug_a > 0:\n",
    "            queue.append((0, jug_b, actions + ['Empty jug A']))\n",
    "        \n",
    "        # Empty jug B\n",
    "        if jug_b > 0:\n",
    "            queue.append((jug_a, 0, actions + ['Empty jug B']))\n",
    "        \n",
    "        # Pour from A to B\n",
    "        if jug_a + jug_b >= y:\n",
    "            queue.append((jug_a - (y - jug_b), y, actions + ['Pour from A to B']))\n",
    "        else:\n",
    "            queue.append((0, jug_a + jug_b, actions + ['Pour from A to B']))\n",
    "        \n",
    "        # Pour from B to A\n",
    "        if jug_a + jug_b >= x:\n",
    "            queue.append((x, jug_b - (x - jug_a), actions + ['Pour from B to A']))\n",
    "        else:\n",
    "            queue.append((jug_a + jug_b, 0, actions + ['Pour from B to A']))\n",
    "    \n",
    "    return False, []\n",
    "\n",
    "x = 4  # Capacity of jug A\n",
    "y = 3  # Capacity of jug B\n",
    "z = 2  # Desired amount of water\n",
    "\n",
    "possible, solution_plan = water_jug_BFS(x, y, z)\n",
    "\n",
    "if possible:\n",
    "    print(f'You can measure {z} liters of water using {x}-liter and {y}-liter jugs.')\n",
    "    print('Solution Plan:')\n",
    "    for action in solution_plan:\n",
    "        print(action)\n",
    "else:\n",
    "    print(f'You cannot measure {z} liters of water using {x}-liter and {y}-liter jugs.')\n"
   ]
  },
  {
   "cell_type": "code",
   "execution_count": null,
   "metadata": {},
   "outputs": [],
   "source": [
    "from collections import deque\n",
    "def water_jug_BFS(x,y,z):\n",
    "    visited = set()\n",
    "    queue = deque([(0,0,[])])\n",
    "    while queue:\n",
    "        jug_a , jug_b , actions = queue.popleft()\n",
    "        if jug_a == z or jug_b == z or jug_a + jug_b == z:\n",
    "            return True , actions\n",
    "        if (jug_a , jug_b) in visited :\n",
    "            continue\n",
    "        visited.add((jug_a,jug_b))\n",
    "        #fill a \n",
    "        if jug_a < x:\n",
    "            queue.append((x,jug_b,actions + [\"fill jug A\"]))\n",
    "        #fill b\n",
    "        if jug_b < y:\n",
    "            queue.append((jug_a,y,actions + [\"fill b\"]))\n",
    "        #empty a\n",
    "        if jug_a > 0:\n",
    "            queue.append((0,jug_b,actions + [\"empty jug A\"]))\n",
    "        #empty b\n",
    "        if jug_b > 0:\n",
    "            queue.append((jug_a,0,actions + [\"empty jug B\"]))\n",
    "        #fill form a to b\n",
    "        if jug_a + jug_b >= y:\n",
    "            queue.append((jug_a-(y-jug_b),y,actions + [\"POUR FROM A TO B\"]))\n",
    "        else:\n",
    "            queue.append((0,jug_a + jug_b,actions  + [\"POUR FROM A TO B\"]))\n",
    "        #fill form b to a\n",
    "        if jug_a + jug_b >= x:\n",
    "            queue.append((x,jug_b-(y-jug_a),actions + [\"POUR FROM B TO A \"]))\n",
    "        else:\n",
    "            queue.append((jug_a+jug_b,0,actions + [\"POUR FROM B TO A\"]))\n",
    "    return False , []\n",
    "x = 7\n",
    "y = 5\n",
    "z = 3\n",
    "possible , solution_plan = water_jug_BFS(x,y,z)\n",
    "if possible:\n",
    "    print(f'you can meausre {z}-liter from {x}-liter and {y}-liter')\n",
    "    print('solution plan:')\n",
    "    for action in solution_plan:\n",
    "        print(action)\n",
    "else:\n",
    "    print(f'you cannot meausre {z}-liter from {x}-liter and {y}-liter')"
   ]
  },
  {
   "cell_type": "code",
   "execution_count": null,
   "metadata": {},
   "outputs": [],
   "source": [
    "from collections import deque\n",
    "def water_jug_BFS(x,y,z):\n",
    "    visited = set()\n",
    "    queue = deque([(0,0,[])])\n",
    "    while queue:\n",
    "        jug_a , jug_b ,actions = queue.popleft()\n",
    "        if jug_a ==z or jug_b == z or jug_a + jug_b == z:\n",
    "            return True, actions\n",
    "        if (jug_a,jug_b) in visited:\n",
    "            continue\n",
    "        visited.add((jug_a,jug_b))\n",
    "        #fill a \n",
    "        if jug_a < x:\n",
    "            queue.append((x,jug_b,actions+['FILL A']))\n",
    "        #fill b\n",
    "        if jug_b < y:\n",
    "            queue.append((jug_a,y,actions+[\"FILL B\"]))\n",
    "        #empty a\n",
    "        if jug_a > 0:\n",
    "            queue.append((0,jug_b,actions+[\"empty jug a\"]))\n",
    "        #empty b\n",
    "        if jug_b > 0:\n",
    "            queue.append((jug_a,0,actions+[\"empty jug b\"]))\n",
    "        #pour from a to b\n",
    "        if jug_a + jug_b >= y:\n",
    "            queue.append((x,jug_a-(x-jug_b),actions+['POUR FROM A TO B']))\n",
    "        else:\n",
    "            queue.append((0,jug_a+jug_b,actions+[\"POUR FROM A  TO B\"]))\n",
    "        if jug_a + jug_b >= x:\n",
    "            queue.append((jug_b-(y-jug_a),y,actions+[\"POUR FROM B TO A\"]))\n",
    "        else:\n",
    "            queue.append((jug_a+jug_b,0,actions+[\"POUR FROM B TO A\"]))\n",
    "    return False , []\n",
    "x = 4\n",
    "y = 3\n",
    "z = 2\n",
    "possible,solution_plan = water_jug_BFS(x,y,z)\n",
    "if possible:\n",
    "    print(f'you can fill {z}-liter of water from {x}-liter and {y}-liter')\n",
    "    print(\"SOLUTION PLAN:\")\n",
    "    for actions in solution_plan:\n",
    "        print(actions)\n",
    "else:\n",
    "    print(\"cannot meausre from given measurements\")"
   ]
  },
  {
   "cell_type": "code",
   "execution_count": null,
   "metadata": {},
   "outputs": [],
   "source": [
    "import time \n",
    "name = input(\"enter your name\")\n",
    "time.sleep(1)\n",
    "print(f'time to play hangman {name}')\n",
    "time.sleep(0.5)\n",
    "word = (\"secret\")\n",
    "guesses = ''\n",
    "turns = 10\n",
    "while turns > 0:\n",
    "    failed = 0\n",
    "    for char in word:\n",
    "        if char in guesses:\n",
    "            print(char,end = \"\")\n",
    "        else:\n",
    "            print(\"_\",end = \"\")\n",
    "            failed += 1\n",
    "    if failed == 0:\n",
    "        print(\"you won\")\n",
    "        break\n",
    "    guess = input(\"enter your guess-->\")\n",
    "    guesses += guess\n",
    "    if guess not in word:\n",
    "        turns -= 1\n",
    "        print(\"wrong\")\n",
    "        print(f'you have {turns} left')\n",
    "        if turns == 0:\n",
    "            print(\"you loose\")\n",
    "        "
   ]
  },
  {
   "cell_type": "code",
   "execution_count": null,
   "metadata": {},
   "outputs": [],
   "source": [
    "import time\n",
    "\n",
    "name = input(\"Enter your name --> \")\n",
    "time.sleep(1)\n",
    "print(f\"Time to play Hangman, {name}!\")\n",
    "time.sleep(0.5)\n",
    "\n",
    "word = \"secret\"\n",
    "guesses = ''\n",
    "turns = 10\n",
    "\n",
    "while turns > 0:\n",
    "    failed = 0\n",
    "    for char in word:\n",
    "        if char in guesses:\n",
    "            print(char, end=\"\")\n",
    "        else:\n",
    "            print(\"_\")\n",
    "            failed += 1\n",
    "    if failed == 0:\n",
    "        print(\"\\nYou won!\")\n",
    "        break\n",
    "    guess = input(\"\\nEnter a character: \")\n",
    "    guesses += guess\n",
    "    if guess not in word:\n",
    "        turns -= 1\n",
    "        print(\"Wrong!\")\n",
    "        print(\"You have\", turns, \"turns left.\")\n",
    "        if turns == 0:\n",
    "            print(\"You lose.\")\n",
    "        else:\n",
    "            print()  # Add a newline after displaying the turns left\n"
   ]
  },
  {
   "cell_type": "code",
   "execution_count": 252,
   "metadata": {},
   "outputs": [
    {
     "name": "stdout",
     "output_type": "stream",
     "text": [
      "its time to play hangman rohith\n",
      "_______\n",
      "s______\n",
      "s_e_e__\n",
      "sce_ec_\n",
      "scerec_\n",
      "scerect\n",
      "you won!!! :-)\n"
     ]
    }
   ],
   "source": [
    "import time\n",
    "name = input(\"enter your name-->\")\n",
    "time.sleep(1)\n",
    "print(f'its time to play hangman {name}')\n",
    "time.sleep(0.5)\n",
    "word = 'scerect'\n",
    "guesses = ''\n",
    "turns = 10\n",
    "while turns > 0:\n",
    "    failed = 0\n",
    "    for char in word:\n",
    "        if char in guesses:\n",
    "            print(char,end = '')\n",
    "        else:\n",
    "            print(\"_\",end = \"\")\n",
    "            failed += 1\n",
    "    print()\n",
    "    if failed == 0:\n",
    "        print(\"you won!!! :-)\")\n",
    "        break\n",
    "    guess = input(\"enter your guess-->\")\n",
    "    guesses += guess\n",
    "    if guess not in word:\n",
    "        turns -= 1\n",
    "        print(\"wrong\")\n",
    "        print(f'you have {turns} turns left')\n",
    "        if turns == 0:\n",
    "            print(\"you loose :-(\")\n",
    "        else :\n",
    "            print()\n",
    "        \n",
    "    "
   ]
  },
  {
   "cell_type": "code",
   "execution_count": 126,
   "metadata": {},
   "outputs": [
    {
     "name": "stdout",
     "output_type": "stream",
     "text": [
      "this is an  example  woth punctuation \n"
     ]
    }
   ],
   "source": [
    "import string\n",
    "s ='this is an @ example ! word punctuation !!'\n",
    "res = ''.join([c if c not in string.punctuation else '' for c in s])\n",
    "print(res)\n"
   ]
  },
  {
   "cell_type": "code",
   "execution_count": 127,
   "metadata": {},
   "outputs": [
    {
     "name": "stdout",
     "output_type": "stream",
     "text": [
      "5 2 4 7 8 None\n"
     ]
    }
   ],
   "source": [
    "graph = {\n",
    "    '5' : ['2','4'],\n",
    "    '2' : ['7','8'],\n",
    "    '7' : [],\n",
    "    '4' :['8'],\n",
    "    '8' : []\n",
    "}\n",
    "visited = []\n",
    "queue =[]\n",
    "def bfs(visited , graph,node):\n",
    "    visited.append(node)\n",
    "    queue.append(node)\n",
    "    while queue :\n",
    "        m = queue.pop(0)\n",
    "        print(m,end=\" \")\n",
    "        for neighbour in graph[m]:\n",
    "            if neighbour not in visited:\n",
    "                visited.append(neighbour)\n",
    "                queue.append(neighbour)\n",
    "print(bfs(visited,graph,'5'))"
   ]
  },
  {
   "cell_type": "code",
   "execution_count": 173,
   "metadata": {},
   "outputs": [
    {
     "name": "stdout",
     "output_type": "stream",
     "text": [
      "5 2 4 7 8 None\n"
     ]
    }
   ],
   "source": [
    "#bfs implementation\n",
    "#defining the graph\n",
    "graph = {\n",
    "    '5': ['2','4'],\n",
    "    '2': ['7','8'],\n",
    "    '7': [],\n",
    "    '4': ['8'],\n",
    "    '8': []\n",
    "}\n",
    "visited = []\n",
    "queue = []\n",
    "def bfs(visited,graph,node):\n",
    "    visited.append(node)\n",
    "    queue.append(node)\n",
    "    while queue:\n",
    "        m = queue.pop(0)\n",
    "        print(m,end = ' ')\n",
    "        for neighbor in graph[m]:\n",
    "            if neighbor not in visited:\n",
    "                visited.append(neighbor)\n",
    "                queue.append(neighbor)\n",
    "print(bfs(visited,graph,'5'))"
   ]
  },
  {
   "cell_type": "code",
   "execution_count": 138,
   "metadata": {},
   "outputs": [
    {
     "name": "stdout",
     "output_type": "stream",
     "text": [
      "--word--            --stemmed--         \n",
      "T                   t                   \n",
      "h                   h                   \n",
      "e                   e                   \n",
      "                                        \n",
      "q                   q                   \n",
      "u                   u                   \n",
      "i                   i                   \n",
      "c                   c                   \n",
      "k                   k                   \n",
      "                                        \n",
      "b                   b                   \n",
      "r                   r                   \n",
      "o                   o                   \n",
      "w                   w                   \n",
      "n                   n                   \n",
      "                                        \n",
      "f                   f                   \n",
      "o                   o                   \n",
      "x                   x                   \n",
      "e                   e                   \n",
      "s                   s                   \n",
      "                                        \n",
      "a                   a                   \n",
      "r                   r                   \n",
      "e                   e                   \n",
      "                                        \n",
      "j                   j                   \n",
      "u                   u                   \n",
      "m                   m                   \n",
      "p                   p                   \n",
      "i                   i                   \n",
      "n                   n                   \n",
      "g                   g                   \n",
      "                                        \n",
      "o                   o                   \n",
      "v                   v                   \n",
      "e                   e                   \n",
      "r                   r                   \n",
      "                                        \n",
      "t                   t                   \n",
      "h                   h                   \n",
      "e                   e                   \n",
      "                                        \n",
      "l                   l                   \n",
      "a                   a                   \n",
      "z                   z                   \n",
      "y                   y                   \n",
      "                                        \n",
      "d                   d                   \n",
      "o                   o                   \n",
      "g                   g                   \n",
      "s                   s                   \n"
     ]
    },
    {
     "name": "stderr",
     "output_type": "stream",
     "text": [
      "[nltk_data] Downloading package punkt to /Users/rohithr/nltk_data...\n",
      "[nltk_data]   Package punkt is already up-to-date!\n"
     ]
    }
   ],
   "source": [
    "#stemming \n",
    "from nltk.stem import PorterStemmer\n",
    "nltk.download('punkt')\n",
    "ps = PorterStemmer()\n",
    "example_setence = \"The quick brown foxes are jumping over the lazy dogs\"\n",
    "print(\"{0:20}{1:20}\".format(\"--word--\",\"--stemmed--\"))\n",
    "for char in example_setence:\n",
    "  \n",
    "    print(\"{0:20}{1:20}\".format(char,ps.stem(char)))\n",
    "    "
   ]
  },
  {
   "cell_type": "code",
   "execution_count": 139,
   "metadata": {},
   "outputs": [
    {
     "name": "stderr",
     "output_type": "stream",
     "text": [
      "[nltk_data] Downloading package wordnet to /Users/rohithr/nltk_data...\n",
      "[nltk_data]   Package wordnet is already up-to-date!\n",
      "[nltk_data] Downloading package omw-1.4 to /Users/rohithr/nltk_data...\n",
      "[nltk_data]   Package omw-1.4 is already up-to-date!\n"
     ]
    },
    {
     "name": "stdout",
     "output_type": "stream",
     "text": [
      "--word--             --lemmatized--      \n",
      "t                    t                   \n",
      "h                    h                   \n",
      "e                    e                   \n",
      "                                         \n",
      "q                    q                   \n",
      "u                    u                   \n",
      "i                    i                   \n",
      "c                    c                   \n",
      "k                    k                   \n",
      "                                         \n",
      "b                    b                   \n",
      "r                    r                   \n",
      "o                    o                   \n",
      "w                    w                   \n",
      "n                    n                   \n",
      "                                         \n",
      "f                    f                   \n",
      "o                    o                   \n",
      "x                    x                   \n",
      "e                    e                   \n",
      "s                    s                   \n",
      "                                         \n",
      "a                    a                   \n",
      "r                    r                   \n",
      "e                    e                   \n",
      "                                         \n",
      "j                    j                   \n",
      "u                    u                   \n",
      "m                    m                   \n",
      "p                    p                   \n",
      "i                    i                   \n",
      "n                    n                   \n",
      "g                    g                   \n",
      "                                         \n",
      "o                    o                   \n",
      "v                    v                   \n",
      "e                    e                   \n",
      "r                    r                   \n",
      "                                         \n",
      "t                    t                   \n",
      "h                    h                   \n",
      "e                    e                   \n",
      "                                         \n",
      "l                    l                   \n",
      "a                    a                   \n",
      "z                    z                   \n",
      "y                    y                   \n",
      "                                         \n",
      "d                    d                   \n",
      "o                    o                   \n",
      "g                    g                   \n",
      "s                    s                   \n"
     ]
    }
   ],
   "source": [
    "from nltk.stem import WordNetLemmatizer\n",
    "nltk.download(\"wordnet\")\n",
    "nltk.download(\"omw-1.4\")\n",
    "wnl = WordNetLemmatizer()\n",
    "example_sentence = list(\"The quick brown foxes are jumping over the lazy dogs\")\n",
    "print(\"{0:20} {1:20}\".format(\"--word--\",\"--lemmatized--\"))\n",
    "for char in example_sentence:\n",
    "    print(\"{0:20} {1:20}\".format(char,wnl.lemmatize(char)))"
   ]
  },
  {
   "cell_type": "code",
   "execution_count": 155,
   "metadata": {},
   "outputs": [
    {
     "data": {
      "text/plain": [
       "'exampleremovingstopwords'"
      ]
     },
     "execution_count": 155,
     "metadata": {},
     "output_type": "execute_result"
    }
   ],
   "source": [
    "#removing stop words\n",
    "import nltk\n",
    "from nltk.corpus import stopwords\n",
    "stop_words = set(stopwords.words(\"english\"))\n",
    "def remove_stop_words(sentence):\n",
    "    words = sentence.split()\n",
    "    res = ''.join([c for c in words if c not in stop_words])\n",
    "    return res\n",
    "remove_stop_words(\"this is an example for removing stopwords\")\n"
   ]
  },
  {
   "cell_type": "code",
   "execution_count": 158,
   "metadata": {},
   "outputs": [
    {
     "data": {
      "text/plain": [
       "'exampleremovingstopwords'"
      ]
     },
     "execution_count": 158,
     "metadata": {},
     "output_type": "execute_result"
    }
   ],
   "source": [
    "import nltk\n",
    "from nltk.corpus import stopwords\n",
    "stop_words = set(stopwords.words(\"english\"))\n",
    "def remove_stop_words(sentence):\n",
    "    words = sentence.split()\n",
    "    res = ''.join([c for c in words if c not in stop_words])\n",
    "    return res\n",
    "remove_stop_words(\"this is an example for removing stopwords\")\n",
    "    "
   ]
  },
  {
   "cell_type": "code",
   "execution_count": 170,
   "metadata": {},
   "outputs": [
    {
     "name": "stdout",
     "output_type": "stream",
     "text": [
      "time to play hangman rojo\n",
      "_ _ _ _ oops! wrong guess\n",
      "you have 9 turns\n",
      "_ _ _ _ oops! wrong guess\n",
      "you have 8 turns\n",
      "_ _ _ _ oops! wrong guess\n",
      "you have 7 turns\n",
      "_ _ _ _ _ _ _  e n_ _  e n a_  e n a m e\n",
      "you won !!!! :-)\n"
     ]
    }
   ],
   "source": [
    "#hangman \n",
    "import time\n",
    "name = input(\"enetr your name\")\n",
    "time.sleep(1)\n",
    "print(f'time to play hangman {name}')\n",
    "time.sleep(0.5)\n",
    "word = 'name'\n",
    "guesses = ''\n",
    "turns = 10\n",
    "while turns > 0:\n",
    "    failed = 0\n",
    "    for char in word:\n",
    "        if char in guesses:\n",
    "            print(end = \" \")\n",
    "            print(char,end = '')\n",
    "            \n",
    "        else:\n",
    "            print(\"_\",end = ' ')\n",
    "            failed += 1\n",
    "    if failed == 0:\n",
    "        print(\"\\nyou won !!!! :-)\")\n",
    "        break \n",
    "    guess = input(\"enter your guess-->\")\n",
    "    guesses += guess\n",
    "    if guess not in word:\n",
    "        turns -= 1\n",
    "        print(\"oops! wrong guess\")\n",
    "        print(f\"you have {turns} turns\")\n",
    "        if turns == 0:\n",
    "            print(\"you looose :-(\")\n",
    "            print()"
   ]
  },
  {
   "cell_type": "code",
   "execution_count": 190,
   "metadata": {},
   "outputs": [
    {
     "name": "stdout",
     "output_type": "stream",
     "text": [
      "sentence after removing stopwords is --> helloprogrammerprogrammingjumpingjumped\n",
      "------------------------------------------------------\n",
      "[('hello', 'NN'), ('this', 'DT'), ('a', 'DT'), ('programmer', 'NN'), ('programming', 'VBG'), ('jumping', 'NN'), ('jumped', 'VBD')]\n",
      "-------------------------------------------------------\n",
      "--word--            --stemmded--        --lemmatize--       \n",
      "hello               hello               hello               \n",
      "this                thi                 this                \n",
      "a                   a                   a                   \n",
      "programmer          programm            programmer          \n",
      "programming         program             programming         \n",
      "jumping             jump                jumping             \n",
      "jumped              jump                jumped              \n"
     ]
    },
    {
     "name": "stderr",
     "output_type": "stream",
     "text": [
      "[nltk_data] Downloading package wordnet to /Users/rohithr/nltk_data...\n",
      "[nltk_data]   Package wordnet is already up-to-date!\n",
      "[nltk_data] Downloading package omw-1.4 to /Users/rohithr/nltk_data...\n",
      "[nltk_data]   Package omw-1.4 is already up-to-date!\n",
      "[nltk_data] Downloading package punkt to /Users/rohithr/nltk_data...\n",
      "[nltk_data]   Package punkt is already up-to-date!\n",
      "[nltk_data] Downloading package averaged_perceptron_tagger to\n",
      "[nltk_data]     /Users/rohithr/nltk_data...\n",
      "[nltk_data]   Package averaged_perceptron_tagger is already up-to-\n",
      "[nltk_data]       date!\n"
     ]
    }
   ],
   "source": [
    "import nltk\n",
    "from nltk.stem import PorterStemmer\n",
    "from nltk.stem import WordNetLemmatizer\n",
    "from nltk.corpus import stopwords\n",
    "nltk.download(\"wordnet\")\n",
    "nltk.download(\"omw-1.4\")\n",
    "nltk.download(\"punkt\")\n",
    "nltk.download(\"averaged_perceptron_tagger\")\n",
    "stop_words = set(stopwords.words(\"english\"))\n",
    "ps = PorterStemmer()\n",
    "wnl = WordNetLemmatizer()\n",
    "exmaple_senetce = \"hello this a programmer programming jumping jumped\"\n",
    "def stemming_lemmatize(sentence):\n",
    "    words = sentence.split()\n",
    "    tagger = nltk.pos_tag(words)\n",
    "    res = ''.join([c for c in words  if c not in stop_words])\n",
    "    print(\"sentence after removing stopwords is -->\",res)\n",
    "    print(\"------------------------------------------------------\")\n",
    "    print(tagger)\n",
    "    print(\"-------------------------------------------------------\")\n",
    "    print(\"{0:20}{1:20}{2:20}\".format(\"--word--\",\"--stemmded--\",\"--lemmatize--\"))\n",
    "    for i in words:\n",
    "        print(\"{0:20}{1:20}{2:20}\".format(i,ps.stem(i),wnl.lemmatize(i)))\n",
    "stemming_lemmatize(exmaple_senetce)"
   ]
  },
  {
   "cell_type": "code",
   "execution_count": 200,
   "metadata": {},
   "outputs": [
    {
     "data": {
      "text/plain": [
       "('thisisanexamplewiithpunctuation',\n",
       " '          !!!!@aaaceehhiiiiilmnnnoppssttttuuwx')"
      ]
     },
     "execution_count": 200,
     "metadata": {},
     "output_type": "execute_result"
    }
   ],
   "source": [
    "import string\n",
    "from functools import reduce\n",
    "s = \"this ! is an @ example wiith punctuation ! ! !\"\n",
    "def remove_punctuation(s):\n",
    "    words = s.split()\n",
    "    res = ''.join([c for c in words if c not in string.punctuation])\n",
    "    sorteds = reduce(lambda x , y : x+y,sorted(s))\n",
    "    return res,sorteds\n",
    "remove_punctuation(s)"
   ]
  },
  {
   "cell_type": "code",
   "execution_count": 202,
   "metadata": {},
   "outputs": [
    {
     "name": "stdout",
     "output_type": "stream",
     "text": [
      "[2, 3, 5, 7, 11, 13, 17, 19, 23, 29, 31, 37, 41, 43, 47, 53, 59, 61, 67, 71, 73, 79, 83, 89, 97]\n"
     ]
    }
   ],
   "source": [
    "def isprime(num):\n",
    "    return num > 1 and all(num % i != 0 for i in range(2,int(num ** 0.5)+1))\n",
    "numlist = [x for x in range(0,100) if isprime(x)]\n",
    "print(numlist)"
   ]
  },
  {
   "cell_type": "code",
   "execution_count": 209,
   "metadata": {},
   "outputs": [
    {
     "name": "stdout",
     "output_type": "stream",
     "text": [
      "you can fill the jug with 4-liter and 3-liter to get 2-liter\n",
      "fill A\n",
      "Pour from B to A\n",
      "Pour from B to A\n"
     ]
    }
   ],
   "source": [
    "#implementing water jug for two jugs using bfs\n",
    "from collections import deque\n",
    "def water_jug_BFS(x,y,z):\n",
    "    visited = set()\n",
    "    queue = deque([(0,0,[])])\n",
    "    while queue :\n",
    "        jug_a , jug_b ,actions = queue.popleft()\n",
    "        if jug_a == z or jug_b == z or jug_a + jug_b == z:\n",
    "            return True,actions\n",
    "        if(jug_a,jug_b) in visited:\n",
    "            continue\n",
    "        visited.add((jug_a,jug_b))\n",
    "        # fill A\n",
    "        if jug_a < x:\n",
    "            queue.append((x,jug_b,actions+[\"fill A\"]))\n",
    "        #fill B\n",
    "        if jug_b < y:\n",
    "            queue.append((jug_a,y,actions+['fill B']))\n",
    "        # empty a\n",
    "        if jug_a >0:\n",
    "            queue.append((0,jug_b,actions+['empty A']))\n",
    "        #empty b\n",
    "        if jug_b > 0:\n",
    "            queue.append((jug_a,0,actions+['empty B']))\n",
    "        #pour from a to b\n",
    "        if jug_a + jug_b >= x:\n",
    "            queue.append((jug_a-(x-jug_b),y,actions+['Pour from A to B']))\n",
    "        else:\n",
    "            queue.append((0,jug_a+jug_b,actions+[\"Pour from A to B\"]))\n",
    "        #pour from b to a\n",
    "        if jug_a + jug_b >= y:\n",
    "            queue.append((x,jug_b-(y-jug_a),actions+['Pour from B to A']))\n",
    "        else:\n",
    "            queue.append((jug_a+jug_b,0,actions+[\"Pour from B to A\"]))\n",
    "    return False ,[]\n",
    "x = 4\n",
    "y = 3\n",
    "z = 2\n",
    "possible,solution_plan = water_jug_BFS(x,y,z)\n",
    "if possible:\n",
    "    print(f'you can fill the jug with {x}-liter and {y}-liter to get {z}-liter')\n",
    "    for actions in solution_plan:\n",
    "        print(actions)\n",
    "else:\n",
    "    print(f'you cannot fill the jugs with current inputs')"
   ]
  },
  {
   "cell_type": "code",
   "execution_count": 213,
   "metadata": {},
   "outputs": [
    {
     "name": "stdout",
     "output_type": "stream",
     "text": [
      "Name\n",
      "Cailyn\n",
      "Scout\n",
      "Cleo\n",
      "Aaiva\n",
      "Catlin\n",
      "Rhyon\n"
     ]
    }
   ],
   "source": [
    "import urllib.request,urllib.parse,urllib.error\n",
    "from bs4 import BeautifulSoup \n",
    "url = input('Enter URL:')\n",
    "count = eval(input('Enter count:'))\n",
    "position = eval(input('Enter position:'))-1\n",
    "html = urllib.request.urlopen(url).read()\n",
    "soup = BeautifulSoup(html,\"html.parser\")\n",
    "href = soup('a')\n",
    "for i in range(count):\n",
    "    link = href[position].get('href', None)\n",
    "    print (href[position].contents[0])\n",
    "    html = urllib.request.urlopen(link).read()\n",
    "    soup = BeautifulSoup(html,\"html.parser\")\n",
    "    href = soup('a')"
   ]
  },
  {
   "cell_type": "code",
   "execution_count": 218,
   "metadata": {},
   "outputs": [
    {
     "name": "stdout",
     "output_type": "stream",
     "text": [
      "Numbers: [10, 20, 30]\n",
      "Alphabets: ['a', 'b', 'c']\n"
     ]
    }
   ],
   "source": [
    "l = ['10a', '20b', '30c']\n",
    "numbers = [int(''.join(filter(str.isdigit, s))) for s in l]\n",
    "alphabets = [''.join(filter(str.isalpha, s)) for s in l]\n",
    "print(\"Numbers:\", numbers)\n",
    "print(\"Alphabets:\", alphabets)"
   ]
  },
  {
   "cell_type": "code",
   "execution_count": 234,
   "metadata": {},
   "outputs": [
    {
     "name": "stdout",
     "output_type": "stream",
     "text": [
      "[5, 7, 9]\n"
     ]
    }
   ],
   "source": [
    "l1 = [1,2,3]\n",
    "l2 = [4,5,6]\n",
    "add = [a+b for a,b in zip(l1,l2)]\n",
    "print(add)\n"
   ]
  },
  {
   "cell_type": "code",
   "execution_count": 236,
   "metadata": {},
   "outputs": [
    {
     "name": "stdout",
     "output_type": "stream",
     "text": [
      "[1, 2, 3, 4]\n"
     ]
    }
   ],
   "source": [
    "def custom_append(lst,num):\n",
    "    lst[len(lst):] = [num]\n",
    "l = [1,2,3]\n",
    "num = 4\n",
    "custom_append(l,num)\n",
    "print(l)"
   ]
  },
  {
   "cell_type": "code",
   "execution_count": 251,
   "metadata": {},
   "outputs": [
    {
     "name": "stdout",
     "output_type": "stream",
     "text": [
      "[1, 2, 3, [4, 5, 6]]\n"
     ]
    }
   ],
   "source": [
    "def custom_extend(lst,iterable):\n",
    "    lst[len(lst):] = iterable\n",
    "l = [1,2,3]\n",
    "num = [4,5,6]\n",
    "custom_append(l,num)\n",
    "print(l)"
   ]
  },
  {
   "cell_type": "code",
   "execution_count": 239,
   "metadata": {},
   "outputs": [
    {
     "name": "stdout",
     "output_type": "stream",
     "text": [
      "[1, 2]\n"
     ]
    }
   ],
   "source": [
    "def custom_delete(lst,num):\n",
    "    if num in lst:\n",
    "        index = lst.index(num)\n",
    "        lst[index:index+1] = []\n",
    "    else:\n",
    "        print(\"number not found\")\n",
    "l = [1,2,3]\n",
    "num = 3\n",
    "custom_delete(l,num)\n",
    "print(l)\n"
   ]
  },
  {
   "cell_type": "code",
   "execution_count": 247,
   "metadata": {},
   "outputs": [
    {
     "name": "stdout",
     "output_type": "stream",
     "text": [
      "[10, 20, 30]\n",
      "['a', 'b', 'c']\n"
     ]
    }
   ],
   "source": [
    "l = ['10a','20b','30c']\n",
    "numbers = [int(''.join(filter(str.isdigit,s)))for s in l]\n",
    "print(numbers)\n",
    "alphabets = [''.join(filter(str.isalpha,s))for s in l]\n",
    "print(alphabets)"
   ]
  },
  {
   "cell_type": "code",
   "execution_count": 248,
   "metadata": {},
   "outputs": [
    {
     "name": "stdout",
     "output_type": "stream",
     "text": [
      "Welcome to Hangman, rohith!\n",
      "_ _ _ _ _ _ \n",
      "\n",
      "s _ _ _ _ _ \n",
      "\n",
      "s e _ _ e _ \n",
      "\n",
      "s e c _ e _ \n",
      "\n",
      "s e c r e _ \n",
      "\n",
      "s e c r e t \n",
      "\n",
      "Congratulations! You won!\n"
     ]
    }
   ],
   "source": [
    "import time\n",
    "\n",
    "name = input(\"Enter your name: \")\n",
    "time.sleep(1)\n",
    "print(f\"Welcome to Hangman, {name}!\")\n",
    "time.sleep(0.5)\n",
    "\n",
    "word = \"secret\"\n",
    "guesses = ''\n",
    "turns = 10\n",
    "\n",
    "while turns > 0:\n",
    "    failed = 0\n",
    "    for char in word:\n",
    "        if char in guesses:\n",
    "            print(char, end=\" \")\n",
    "        else:\n",
    "            print(\"_\", end=\" \")\n",
    "            failed += 1\n",
    "    print(\"\\n\")\n",
    "\n",
    "    if failed == 0:\n",
    "        print(\"Congratulations! You won!\")\n",
    "        break\n",
    "\n",
    "    guess = input(\"Enter your guess: \").lower()\n",
    "    guesses += guess\n",
    "\n",
    "    if guess not in word:\n",
    "        turns -= 1\n",
    "        print(\"Wrong guess! Try again.\")\n",
    "        print(f'You have {turns} turns left.\\n')\n",
    "\n",
    "        if turns == 0:\n",
    "            print(\"Oops! You ran out of turns. You lose.\")\n",
    "            print(f\"The correct word was '{word}'. Better luck next time.\")\n",
    "            break\n"
   ]
  },
  {
   "cell_type": "code",
   "execution_count": 259,
   "metadata": {},
   "outputs": [
    {
     "name": "stdout",
     "output_type": "stream",
     "text": [
      "thank you, and your age is 10\n",
      "I will always get printed no matter what :)\n"
     ]
    }
   ],
   "source": [
    "\n",
    "while True:\n",
    "    try:\n",
    "        age = int(input(\"Enter your age: \"))\n",
    "        age_in_dogs_year = 10/age\n",
    "        \n",
    "    except ZeroDivisionError:\n",
    "        print(\"enter age greater than 0\")\n",
    "        continue\n",
    "        \n",
    "    except ValueError:\n",
    "        print(\"Please enter a no.\")\n",
    "        break\n",
    "    \n",
    "    except ValueError:\n",
    "        print(\"!!!!\")\n",
    "        \n",
    "    else:\n",
    "        print(f\"thank you, and your age is {age}\")\n",
    "        break\n",
    "        \n",
    "    finally:\n",
    "        print(\"I will always get printed no matter what :)\")\n",
    "    \n",
    "    print(\"can you hear me??????\")\n",
    "    "
   ]
  },
  {
   "cell_type": "code",
   "execution_count": 260,
   "metadata": {},
   "outputs": [
    {
     "name": "stdout",
     "output_type": "stream",
     "text": [
      "Failed to retrieve the page. Status Code: 404\n"
     ]
    }
   ],
   "source": [
    "import requests\n",
    "from bs4 import BeautifulSoup\n",
    "\n",
    "url = \"https://example.com/articles\"\n",
    "\n",
    "# Send a GET request to the URL\n",
    "response = requests.get(url)\n",
    "\n",
    "# Check if the request was successful (status code 200)\n",
    "if response.status_code == 200:\n",
    "    # Parse the HTML content using BeautifulSoup\n",
    "    soup = BeautifulSoup(response.text, \"html.parser\")\n",
    "\n",
    "    # Extract and print the titles of the articles\n",
    "    article_titles = soup.find_all(\"h2\", class_=\"article-title\")\n",
    "    \n",
    "    if article_titles:\n",
    "        print(\"Article Titles:\")\n",
    "        for title in article_titles:\n",
    "            print(title.text.strip())\n",
    "    else:\n",
    "        print(\"No article titles found on the page.\")\n",
    "else:\n",
    "    print(f\"Failed to retrieve the page. Status Code: {response.status_code}\")\n"
   ]
  },
  {
   "cell_type": "code",
   "execution_count": 317,
   "metadata": {},
   "outputs": [],
   "source": [
    "import requests\n",
    "from bs4 import BeautifulSoup\n",
    "url = \"https://example.com/articles\"\n",
    "response = requests.get(url)\n",
    "if response.status_code == 200:\n",
    "    soup = BeautifulSoup(response.text,'html.parser')\n",
    "    article_titles = soup.find_all('h2',class_ = 'article-title')\n",
    "    if article_titles:\n",
    "        for title in article_titles:\n",
    "            print(title.text.strip())\n",
    "    "
   ]
  },
  {
   "cell_type": "code",
   "execution_count": null,
   "metadata": {},
   "outputs": [],
   "source": []
  },
  {
   "cell_type": "code",
   "execution_count": 318,
   "metadata": {},
   "outputs": [],
   "source": [
    "import requests\n",
    "from bs4 import BeautifulSoup\n",
    "url = \"https://example.com/articles\"\n",
    "response = requests.get(url)\n",
    "if response.status_code == 200:\n",
    "    soup = BeautifulSoup(response.text,'html.parser')\n",
    "    article_titles = soup.findall(\"h2\",class_=\"article-title\")\n",
    "    if article_titles:\n",
    "        for title in article_titles:\n",
    "            print(title.text.strip())"
   ]
  },
  {
   "cell_type": "code",
   "execution_count": 265,
   "metadata": {},
   "outputs": [
    {
     "name": "stdout",
     "output_type": "stream",
     "text": [
      "Time to play hangman rohith\n",
      "_ _ _ _ \n",
      "n_ _ _ \n",
      "na_ _ \n",
      "nam_ \n",
      "name\n",
      "you won !!!\n"
     ]
    }
   ],
   "source": [
    "import time\n",
    "name = input(\"enter your name\")\n",
    "time.sleep(1)\n",
    "print(f'Time to play hangman {name}')\n",
    "time.sleep(0.5)\n",
    "word = 'name'\n",
    "guesses = ''\n",
    "turns = 10\n",
    "while turns > 0:\n",
    "    failed = 0\n",
    "    for char in word:\n",
    "        if char in guesses:\n",
    "            print(char,end = '')\n",
    "        else:\n",
    "            print(\"_\",end = ' ')\n",
    "            failed += 1\n",
    "    print()\n",
    "    if failed == 0:\n",
    "        print(\"you won !!!\")\n",
    "        break\n",
    "    guess = input(\"enetr your guess->\")\n",
    "    guesses += guess\n",
    "    if guess not in word:\n",
    "        turns -= 1\n",
    "        print(\"wrong guess\")\n",
    "        print(f'you have {turns} left')\n",
    "        if turns  == 0:\n",
    "            print(\"you loose ;-(\")"
   ]
  },
  {
   "cell_type": "code",
   "execution_count": 291,
   "metadata": {},
   "outputs": [
    {
     "name": "stdout",
     "output_type": "stream",
     "text": [
      "[[5, 5, 5], [9, 9, 9], [15, 15, 12]]\n",
      "[[4, 6, 6], [20, 20, 18], [56, 56, 27]]\n",
      "[[1, 4, 7], [2, 5, 8], [3, 6, 9]]\n"
     ]
    }
   ],
   "source": [
    "import numpy as np\n",
    "a = np.array([[1,2,3],[4,5,6],[7,8,9]])\n",
    "b = np.array([[4,3,2],[5,4,3],[8,7,3]])\n",
    "sums = [[a+b for a,b in zip(i,j)] for i ,j in zip(a,b) if a.shape == b.shape]\n",
    "print(sums)\n",
    "mul = [[a*b for a ,b in zip(i,j)] for i , j in zip(a,b) if a.shape == b.shape]\n",
    "print(mul)\n",
    "tramsa = [[row[i] for row in a] for i in range (0,3)]\n",
    "print(tramsa)"
   ]
  },
  {
   "cell_type": "code",
   "execution_count": 292,
   "metadata": {},
   "outputs": [
    {
     "name": "stderr",
     "output_type": "stream",
     "text": [
      "[nltk_data] Downloading package movie_reviews to\n",
      "[nltk_data]     /Users/rohithr/nltk_data...\n",
      "[nltk_data]   Unzipping corpora/movie_reviews.zip.\n"
     ]
    },
    {
     "name": "stdout",
     "output_type": "stream",
     "text": [
      "Classifier accuracy: 0.76\n"
     ]
    }
   ],
   "source": [
    "import nltk\n",
    "import random\n",
    "from nltk.corpus import movie_reviews\n",
    "\n",
    "# Download the movie reviews dataset (if not downloaded)\n",
    "nltk.download('movie_reviews')\n",
    "\n",
    "# Create a list of documents where each document is a tuple containing words and their category (positive/negative)\n",
    "documents = [(list(movie_reviews.words(fileid)), category)\n",
    "             for category in movie_reviews.categories()\n",
    "             for fileid in movie_reviews.fileids(category)]\n",
    "\n",
    "# Shuffle the documents\n",
    "random.shuffle(documents)\n",
    "\n",
    "# Define a list of all words\n",
    "all_words = []\n",
    "for w in movie_reviews.words():\n",
    "    all_words.append(w.lower())\n",
    "\n",
    "# Frequency distribution of words\n",
    "all_words = nltk.FreqDist(all_words)\n",
    "\n",
    "# Get the 3000 most common words as features\n",
    "word_features = list(all_words.keys())[:3000]\n",
    "\n",
    "# Define a function to find features in a document\n",
    "def find_features(document):\n",
    "    words = set(document)\n",
    "    features = {}\n",
    "    for w in word_features:\n",
    "        features[w] = (w in words)\n",
    "    return features\n",
    "\n",
    "# Create feature sets for each document\n",
    "featuresets = [(find_features(rev), category) for (rev, category) in documents]\n",
    "\n",
    "# Split the feature sets into a training set and a testing set\n",
    "train_set = featuresets[:1900]\n",
    "test_set = featuresets[1900:]\n",
    "\n",
    "# Train a classifier (Naive Bayes classifier in this example)\n",
    "classifier = nltk.NaiveBayesClassifier.train(train_set)\n",
    "\n",
    "# Test the classifier accuracy\n",
    "accuracy = nltk.classify.accuracy(classifier, test_set)\n",
    "print(\"Classifier accuracy:\", accuracy)"
   ]
  },
  {
   "cell_type": "code",
   "execution_count": null,
   "metadata": {},
   "outputs": [],
   "source": [
    "class Staff:\n",
    "  def __init__(self, role, dept, salary):\n",
    "    self.role = role \n",
    "    self.dept = dept\n",
    "    self.salary = salary\n",
    "    def show_details(self): \n",
    "      print(\"Name: \", self.name)\n",
    "      print(\"Age: \", self.age) \n",
    "      print(\"Role:\", self.role) \n",
    "      print(\"Department\", self.dept)\n",
    "#inherit from the Staff class \n",
    "class Teacher(Staff):\n",
    "  def __init__(self, name, age): \n",
    "    self.name = name\n",
    "    self.age = age\n",
    "    super().__init__(\"Teacher\", \"Science\", 25000)\n",
    "teacher = Teacher(\"Raj\", 45) \n",
    "print(isinstance(teacher, Teacher)) \n",
    "print(isinstance(teacher,Staff))"
   ]
  },
  {
   "cell_type": "code",
   "execution_count": 301,
   "metadata": {},
   "outputs": [
    {
     "name": "stdout",
     "output_type": "stream",
     "text": [
      "6\n"
     ]
    }
   ],
   "source": [
    "class area:\n",
    "    def __init__(self,lenght,width):\n",
    "        self.length = lenght\n",
    "        self.width = width\n",
    "    def calc_area(self):\n",
    "        return self.length * self.width\n",
    "    def calc_peri(self):\n",
    "        \n",
    "        return 2*(self.length * self.width)\n",
    "length = 2 \n",
    "width = 3     \n",
    "instance = area(length,width)\n",
    "a = print(instance.calc_area())\n",
    "p = instance.calc_peri()"
   ]
  },
  {
   "cell_type": "code",
   "execution_count": null,
   "metadata": {},
   "outputs": [],
   "source": []
  },
  {
   "cell_type": "code",
   "execution_count": null,
   "metadata": {},
   "outputs": [],
   "source": [
    "\n"
   ]
  },
  {
   "cell_type": "code",
   "execution_count": null,
   "metadata": {},
   "outputs": [],
   "source": []
  },
  {
   "cell_type": "code",
   "execution_count": 315,
   "metadata": {},
   "outputs": [
    {
     "name": "stdout",
     "output_type": "stream",
     "text": [
      "[10, 20, 30]\n",
      "20.0\n"
     ]
    }
   ],
   "source": [
    "f = open(\"input.txt\",'w+')\n",
    "f.write(\"[10a,20b,30c]\")\n",
    "f.close()\n",
    "f1 = open(\"input.txt\",'r')\n",
    "for line in f1:\n",
    "    import re\n",
    "    numbers = [int(match.group()) for match in re.finditer(r'\\d+',line)]\n",
    "    avg = sum(numbers)/len(numbers) if len(numbers) > 0 else 0\n",
    "    with open(\"output.txt\",'w') as output_file:\n",
    "        output_file.write(f\"average: {avg}\")\n",
    "    print(numbers)\n",
    "    print(avg)\n",
    "    "
   ]
  },
  {
   "cell_type": "code",
   "execution_count": 322,
   "metadata": {},
   "outputs": [
    {
     "data": {
      "text/plain": [
       "12"
      ]
     },
     "execution_count": 322,
     "metadata": {},
     "output_type": "execute_result"
    }
   ],
   "source": [
    "class area:\n",
    "    def __init__(self,len,wid):\n",
    "        self.len = len\n",
    "        self.wid = wid\n",
    "    def calc_area(self,len,wid):\n",
    "        return self.len * self.wid\n",
    "    def calc_peri(self,len,wid):\n",
    "        return 2 *(self.len * self.wid)\n",
    "length = 2\n",
    "width = 3\n",
    "ins = area(2,3)\n",
    "ins.calc_area(length,width)\n",
    "ins.calc_peri(length,width)"
   ]
  },
  {
   "cell_type": "code",
   "execution_count": 324,
   "metadata": {},
   "outputs": [
    {
     "name": "stdout",
     "output_type": "stream",
     "text": [
      "eamplepunctuation\n"
     ]
    }
   ],
   "source": [
    "import string\n",
    "s = 'eample ! @ punctuation ! @'\n",
    "def remove_punctuation(sentence):\n",
    "    words  = sentence.split()\n",
    "    res = ''.join([c for c in words if c not in string.punctuation])\n",
    "    print(res)\n",
    "remove_punctuation(s)    "
   ]
  },
  {
   "cell_type": "code",
   "execution_count": null,
   "metadata": {},
   "outputs": [],
   "source": []
  },
  {
   "cell_type": "code",
   "execution_count": 4,
   "metadata": {},
   "outputs": [
    {
     "name": "stdout",
     "output_type": "stream",
     "text": [
      "['The', 'Fulton', 'County', 'Grand', 'Jury', 'said', 'Friday', 'an', 'investigation', 'of']\n"
     ]
    },
    {
     "name": "stderr",
     "output_type": "stream",
     "text": [
      "[nltk_data] Downloading package brown to /Users/rohithr/nltk_data...\n",
      "[nltk_data]   Package brown is already up-to-date!\n"
     ]
    }
   ],
   "source": [
    "\n",
    "import nltk\n",
    "#nltk.download('brown')\n",
    "from nltk.corpus import brown\n",
    "read = brown.words()\n",
    "print(read[:10])\n",
    "con"
   ]
  },
  {
   "cell_type": "code",
   "execution_count": 11,
   "metadata": {},
   "outputs": [
    {
     "name": "stdout",
     "output_type": "stream",
     "text": [
      "showing info https://raw.githubusercontent.com/nltk/nltk_data/gh-pages/index.xml\n"
     ]
    },
    {
     "data": {
      "text/plain": [
       "True"
      ]
     },
     "execution_count": 11,
     "metadata": {},
     "output_type": "execute_result"
    }
   ],
   "source": [
    "\n",
    "import nltk\n",
    "nltk.download()"
   ]
  },
  {
   "cell_type": "code",
   "execution_count": 12,
   "metadata": {},
   "outputs": [
    {
     "name": "stdout",
     "output_type": "stream",
     "text": [
      "*** Introductory Examples for the NLTK Book ***\n",
      "Loading text1, ..., text9 and sent1, ..., sent9\n",
      "Type the name of the text or sentence to view it.\n",
      "Type: 'texts()' or 'sents()' to list the materials.\n",
      "text1: Moby Dick by Herman Melville 1851\n",
      "text2: Sense and Sensibility by Jane Austen 1811\n",
      "text3: The Book of Genesis\n",
      "text4: Inaugural Address Corpus\n",
      "text5: Chat Corpus\n",
      "text6: Monty Python and the Holy Grail\n",
      "text7: Wall Street Journal\n",
      "text8: Personals Corpus\n",
      "text9: The Man Who Was Thursday by G . K . Chesterton 1908\n"
     ]
    },
    {
     "data": {
      "text/plain": [
       "1"
      ]
     },
     "execution_count": 12,
     "metadata": {},
     "output_type": "execute_result"
    }
   ],
   "source": [
    "from nltk.book import *\n"
   ]
  },
  {
   "cell_type": "code",
   "execution_count": 13,
   "metadata": {},
   "outputs": [
    {
     "data": {
      "text/plain": [
       "<Text: Moby Dick by Herman Melville 1851>"
      ]
     },
     "execution_count": 13,
     "metadata": {},
     "output_type": "execute_result"
    }
   ],
   "source": [
    "text1"
   ]
  },
  {
   "cell_type": "code",
   "execution_count": 15,
   "metadata": {},
   "outputs": [
    {
     "name": "stdout",
     "output_type": "stream",
     "text": [
      "Displaying 25 of 282 matches:\n",
      "RALS . \" The Indian Sea breedeth the most and the biggest fishes that are : am\n",
      "ed . Among the former , one was of a most monstrous size . ... This came towar\n",
      "late years , must have possessed the most abundant and the most convenient opp\n",
      " possessed the most abundant and the most convenient opportunities of witnessi\n",
      "to lead to its being regarded as the most dangerous to attack of all the known\n",
      "e National wealth by the boldest and most persevering industry .\" -- REPORT OF\n",
      "eam . There is magic in it . Let the most absent - minded of men be plunged in\n",
      "he dreamiest , shadiest , quietest , most enchanting bit of romantic landscape\n",
      "d . The act of paying is perhaps the most uncomfortable infliction that the tw\n",
      " the Pythagorean maxim ), so for the most part the Commodore on the quarter - \n",
      "processions of the whale , and , mid most of them all , one grand hooded phant\n",
      "fer , till the following Monday . As most young candidates for the pains and p\n",
      "vice the soles of my boots were in a most miserable plight . Too expensive and\n",
      "be altogether unwarranted . But what most puzzled and confounded you was a lon\n",
      "en fingers . But the fare was of the most substantial kind -- not only meat an\n",
      "ssed himself to these dumplings in a most direful manner . \" My boy ,\" said th\n",
      " sea , and they began capering about most obstreperously . I observed , howeve\n",
      "o his bed , not to be wakened by the most violent knockings ? It seemed no bad\n",
      "seen , you persist in telling me the most mystifying and exasperating stories \n",
      "ed over the bed . Though none of the most elegant , it yet stood the scrutiny \n",
      "which his face twitched about in the most unnatural manner . At last extinguis\n",
      "eequeg ' s arm thrown over me in the most loving and affectionate manner . You\n",
      "h of time . But she was the best and most conscientious of stepmothers , and b\n",
      "ages , I lay there , frozen with the most awful fears , not daring to drag awa\n",
      "high social polish . Still , for the most part , that sort of thing is to be h\n"
     ]
    },
    {
     "data": {
      "text/plain": [
       "NoneType"
      ]
     },
     "execution_count": 15,
     "metadata": {},
     "output_type": "execute_result"
    }
   ],
   "source": [
    "text1.concordance(\"most\")\n"
   ]
  },
  {
   "cell_type": "code",
   "execution_count": 16,
   "metadata": {},
   "outputs": [
    {
     "name": "stdout",
     "output_type": "stream",
     "text": [
      "[Lemma('happy.a.01.happy')]\n",
      "[Lemma('felicitous.s.02.felicitous'), Lemma('felicitous.s.02.happy')]\n",
      "[Lemma('glad.s.02.glad'), Lemma('glad.s.02.happy')]\n",
      "[Lemma('happy.s.04.happy'), Lemma('happy.s.04.well-chosen')]\n"
     ]
    }
   ],
   "source": [
    "from nltk.corpus import wordnet\n",
    "\n",
    "# Find synonyms for the word 'happy'\n",
    "synonyms = wordnet.synsets('happy')\n",
    "for syn in synonyms:\n",
    "    print(syn.lemmas('eng'))\n"
   ]
  },
  {
   "cell_type": "code",
   "execution_count": 17,
   "metadata": {},
   "outputs": [
    {
     "name": "stdout",
     "output_type": "stream",
     "text": [
      "old queer named far ancient well how clear god country taken fat ocean\n",
      "learned man first white interesting convenient island\n"
     ]
    }
   ],
   "source": [
    "text1.similar('happy')"
   ]
  },
  {
   "cell_type": "code",
   "execution_count": 19,
   "metadata": {},
   "outputs": [
    {
     "name": "stdout",
     "output_type": "stream",
     "text": [
      "No common contexts were found\n"
     ]
    }
   ],
   "source": [
    "text1.common_contexts(['most','happy'])"
   ]
  },
  {
   "cell_type": "code",
   "execution_count": 20,
   "metadata": {},
   "outputs": [
    {
     "name": "stdout",
     "output_type": "stream",
     "text": [
      "12\n"
     ]
    }
   ],
   "source": [
    "def unique_words(text):\n",
    "    raw_tokens = text.split()\n",
    "    cleaned_tokens = []\n",
    "    for tokens in raw_tokens:\n",
    "        cleaned_token = ''.join(e for e in tokens if e.isalnum())\n",
    "        cleaned_tokens.append(cleaned_token)\n",
    "    lower_tokens = [tokens.lower() for tokens in cleaned_tokens]\n",
    "\n",
    "    unique_tokens = set(lower_tokens)\n",
    "    vocab_size = len(unique_tokens)\n",
    "    return vocab_size\n",
    "text = \"This is a sample text. It contains several words, including words like 'sample', 'text', and 'words'.\"\n",
    "print(unique_words(text))"
   ]
  },
  {
   "cell_type": "code",
   "execution_count": 21,
   "metadata": {},
   "outputs": [
    {
     "data": {
      "image/png": "[encoded data removed]",
      "text/plain": [
       "<Figure size 640x480 with 1 Axes>"
      ]
     },
     "metadata": {},
     "output_type": "display_data"
    }
   ],
   "source": [
    "#we can also determine the location of a word in the text: how many words from the beginning it\n",
    "#appears. This positional information can be plotted in a dispersion plot. In a dispersion plot Each stripe\n",
    "#represents an instance of a word, and each row represents the entire text. \n",
    "text1.dispersion_plot(['happy','most','sad'])"
   ]
  },
  {
   "cell_type": "code",
   "execution_count": 22,
   "metadata": {},
   "outputs": [
    {
     "data": {
      "text/plain": [
       "16.050197203298673"
      ]
     },
     "execution_count": 22,
     "metadata": {},
     "output_type": "execute_result"
    }
   ],
   "source": [
    "#Calculate a measure of lexical richness of the text.\n",
    "# i.e., calcuate how many times each word is repeated in the text on a average\n",
    "len(text3)/len(set(text3))\n"
   ]
  },
  {
   "cell_type": "code",
   "execution_count": 23,
   "metadata": {},
   "outputs": [
    {
     "ename": "NameError",
     "evalue": "name 'count' is not defined",
     "output_type": "error",
     "traceback": [
      "\u001b[0;31m---------------------------------------------------------------------------\u001b[0m",
      "\u001b[0;31mNameError\u001b[0m                                 Traceback (most recent call last)",
      "Cell \u001b[0;32mIn[23], line 5\u001b[0m\n\u001b[1;32m      1\u001b[0m \u001b[38;5;66;03m#now we will count the number of times a specific word occurs in text and percentage\u001b[39;00m\n\u001b[1;32m      2\u001b[0m \u001b[38;5;66;03m# of text taken up by that specific word\u001b[39;00m\n\u001b[1;32m      4\u001b[0m text3\u001b[38;5;241m.\u001b[39mcount(\u001b[38;5;124m'\u001b[39m\u001b[38;5;124msmote\u001b[39m\u001b[38;5;124m'\u001b[39m)\n\u001b[0;32m----> 5\u001b[0m \u001b[38;5;28mprint\u001b[39m(\u001b[38;5;241m100\u001b[39m\u001b[38;5;241m*\u001b[39m\u001b[43mcount\u001b[49m(text3\u001b[38;5;241m.\u001b[39mcount(\u001b[38;5;124m'\u001b[39m\u001b[38;5;124msmote\u001b[39m\u001b[38;5;124m'\u001b[39m))\u001b[38;5;241m/\u001b[39m\u001b[38;5;28mlen\u001b[39m(text3))\n",
      "\u001b[0;31mNameError\u001b[0m: name 'count' is not defined"
     ]
    }
   ],
   "source": [
    "#now we will count the number of times a specific word occurs in text and percentage\n",
    "# of text taken up by that specific word\n",
    "\n",
    "text3.count('smote')\n",
    "print(100*text3.count('smote')/len(text3))\n"
   ]
  },
  {
   "cell_type": "code",
   "execution_count": 30,
   "metadata": {},
   "outputs": [
    {
     "name": "stdout",
     "output_type": "stream",
     "text": [
      "Male Initial Letters Frequency:\n",
      "a: 213\n",
      "b: 173\n",
      "c: 166\n",
      "d: 146\n",
      "e: 119\n",
      "f: 87\n",
      "g: 156\n",
      "h: 163\n",
      "i: 45\n",
      "j: 144\n",
      "k: 70\n",
      "l: 113\n",
      "m: 200\n",
      "n: 77\n",
      "o: 52\n",
      "p: 101\n",
      "q: 15\n",
      "r: 200\n",
      "s: 238\n",
      "t: 188\n",
      "u: 22\n",
      "v: 50\n",
      "w: 151\n",
      "x: 7\n",
      "y: 16\n",
      "z: 31\n",
      "\n",
      "Female Initial Letters Frequency:\n",
      "a: 443\n",
      "b: 246\n",
      "c: 469\n",
      "d: 308\n",
      "e: 251\n",
      "f: 144\n",
      "g: 213\n",
      "h: 124\n",
      "i: 83\n",
      "j: 293\n",
      "k: 276\n",
      "l: 332\n",
      "m: 484\n",
      "n: 158\n",
      "o: 66\n",
      "p: 121\n",
      "q: 9\n",
      "r: 247\n",
      "s: 309\n",
      "t: 198\n",
      "u: 14\n",
      "v: 105\n",
      "w: 54\n",
      "x: 5\n",
      "y: 18\n",
      "z: 31\n"
     ]
    }
   ],
   "source": [
    "from nltk.corpus import names\n",
    "from collections import defaultdict\n",
    "import nltk\n",
    "\n",
    "def analyze_initial_letters(gender):\n",
    "    \"\"\"\n",
    "    Analyzes the initial letters of names in the Names corpus for a given gender.\n",
    "    \n",
    "    Parameters:\n",
    "    - gender: The gender to analyze ('male' or 'female').\n",
    "    \n",
    "    Returns:\n",
    "    - A dictionary with initial letters as keys and their frequencies as values.\n",
    "    \"\"\"\n",
    "    # Initialize a dictionary to store the frequency of initial letters\n",
    "    initial_letter_freq = defaultdict(int)\n",
    "    \n",
    "    # Get the names for the given gender\n",
    "    names_list = names.words(gender + '.txt')\n",
    "    \n",
    "    # Count the frequency of initial letters\n",
    "    for name in names_list:\n",
    "        initial_letter = name[0].lower()\n",
    "        initial_letter_freq[initial_letter] += 1\n",
    "    \n",
    "    return initial_letter_freq\n",
    "\n",
    "# Analyze the initial letters for males and females\n",
    "male_initial_letters = analyze_initial_letters('male')\n",
    "female_initial_letters = analyze_initial_letters('female')\n",
    "\n",
    "# Print the results\n",
    "print(\"Male Initial Letters Frequency:\")\n",
    "for letter, freq in male_initial_letters.items():\n",
    "    print(f\"{letter}: {freq}\")\n",
    "\n",
    "print(\"\\nFemale Initial Letters Frequency:\")\n",
    "for letter, freq in female_initial_letters.items():\n",
    "    print(f\"{letter}: {freq}\")\n"
   ]
  },
  {
   "cell_type": "code",
   "execution_count": 27,
   "metadata": {},
   "outputs": [
    {
     "name": "stderr",
     "output_type": "stream",
     "text": [
      "[nltk_data] Downloading package names to /Users/rohithr/nltk_data...\n",
      "[nltk_data]   Package names is already up-to-date!\n"
     ]
    },
    {
     "data": {
      "text/plain": [
       "True"
      ]
     },
     "execution_count": 27,
     "metadata": {},
     "output_type": "execute_result"
    }
   ],
   "source": [
    "import nltk\n",
    "nltk.download('names')\n"
   ]
  },
  {
   "cell_type": "code",
   "execution_count": 31,
   "metadata": {},
   "outputs": [
    {
     "name": "stderr",
     "output_type": "stream",
     "text": [
      "[nltk_data] Downloading package names to /Users/rohithr/nltk_data...\n",
      "[nltk_data]   Package names is already up-to-date!\n"
     ]
    },
    {
     "name": "stdout",
     "output_type": "stream",
     "text": [
      "Frequency distribution of initial letters for males:\n",
      "<FreqDist with 26 samples and 3308 outcomes>\n",
      "\n",
      "Frequency distribution of initial letters for females:\n",
      "<FreqDist with 26 samples and 5366 outcomes>\n"
     ]
    }
   ],
   "source": [
    "import nltk\n",
    "from nltk.corpus import names\n",
    "\n",
    "# Load the Names corpus\n",
    "nltk.download('names')\n",
    "\n",
    "# Get male and female names from the corpus\n",
    "male_names = names.words('male.txt')\n",
    "female_names = names.words('female.txt')\n",
    "\n",
    "# Create a conditional frequency distribution\n",
    "cfd = nltk.ConditionalFreqDist(\n",
    "    (gender, name[0])  # Extract the first letter of each name and its gender\n",
    "    for name in male_names + female_names\n",
    "    for gender in ['male', 'female']\n",
    "    if (gender == 'male' and name in male_names) or (gender == 'female' and name in female_names)\n",
    ")\n",
    "\n",
    "# Display the conditional frequency distribution\n",
    "print(\"Frequency distribution of initial letters for males:\")\n",
    "print(cfd['male'])\n",
    "print(\"\\nFrequency distribution of initial letters for females:\")\n",
    "print(cfd['female'])\n"
   ]
  },
  {
   "cell_type": "code",
   "execution_count": 32,
   "metadata": {},
   "outputs": [
    {
     "name": "stdout",
     "output_type": "stream",
     "text": [
      "<FreqDist with 26 samples and 3308 outcomes>\n",
      "<FreqDist with 26 samples and 5366 outcomes>\n"
     ]
    }
   ],
   "source": [
    "import nltk \n",
    "from nltk.corpus import names\n",
    "male_names = names.words('male.txt')\n",
    "female_names = names.words('female.txt')\n",
    "nltk.ConditionalFreqDist(\n",
    "    (gender,name[0])\n",
    "    for name in male_names + female_names\n",
    "    for gender in ['male','female']\n",
    "    if (gender == 'male' and name in male_names) or (gender == 'female' and name in female_names)\n",
    ")\n",
    "\n",
    "print(cfd['male'])\n",
    "print(cfd['female'])"
   ]
  },
  {
   "cell_type": "code",
   "execution_count": null,
   "metadata": {},
   "outputs": [],
   "source": []
  }
 ],
 "metadata": {
  "kernelspec": {
   "display_name": "myenv",
   "language": "python",
   "name": "python3"
  },
  "language_info": {
   "codemirror_mode": {
    "name": "ipython",
    "version": 3
   },
   "file_extension": ".py",
   "mimetype": "text/x-python",
   "name": "python",
   "nbconvert_exporter": "python",
   "pygments_lexer": "ipython3",
   "version": "3.10.13"
  },
  "orig_nbformat": 4
 },
 "nbformat": 4,
 "nbformat_minor": 2
}
